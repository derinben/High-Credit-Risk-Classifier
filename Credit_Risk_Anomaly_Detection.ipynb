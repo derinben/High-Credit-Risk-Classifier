{
  "nbformat": 4,
  "nbformat_minor": 0,
  "metadata": {
    "colab": {
      "name": "Credit_Risk-Anomaly_Detection.ipynb",
      "provenance": [],
      "collapsed_sections": [],
      "toc_visible": true
    },
    "kernelspec": {
      "name": "python3",
      "display_name": "Python 3"
    },
    "language_info": {
      "name": "python"
    }
  },
  "cells": [
    {
      "cell_type": "markdown",
      "metadata": {
        "id": "jCvaGWiMKw6V"
      },
      "source": [
        "# Introduction\n",
        "##### In this dataset, each customer is classified as high or low credit risk according to the set of features and payment history. <br> \n",
        "##### If label is 1, the customer is in high credit risk. Dataset imbalance ratio is 20%.\n",
        "\n",
        "**Data:** <br>\n",
        "***payment_data.csv: customer’s card payment history.*** <br>\n",
        "1. id: customer id\n",
        "2. OVD_t1: number of times overdue type 1\n",
        "3. OVD_t2: number of times overdue type 2\n",
        "4. OVD_t3: number of times overdue type 3\n",
        "5. OVD_sum: total overdue days\n",
        "6. pay_normal: number of times normal payment\n",
        "7. prod_code: credit product code\n",
        "8. prod_limit: credit limit of product\n",
        "9. update_date: account update date\n",
        "10. new_balance: current balance of product\n",
        "11. highest_balance: highest balance in history\n",
        "12. report_date: date of recent payment\n",
        "\n",
        "***customer_data.csv: customer’s demographic data*** <br>\n",
        "The category attributes have been encoded. <br>\n",
        "Category features are fea_1, fea_3, fea_5, fea_6, fea_7, fea_9.\n",
        "\n",
        "**Tasks:** <br>\n",
        "*   Explore data to give insights.\n",
        "*   Build features from existing payment data.\n",
        "*   Build model to predict high risk customer \n",
        "*   Model explanation and evaluation"
      ]
    },
    {
      "cell_type": "markdown",
      "metadata": {
        "id": "bd8V1TkZNbOV"
      },
      "source": [
        "# Import Packages"
      ]
    },
    {
      "cell_type": "code",
      "metadata": {
        "id": "rCNxdB5Kw2kl"
      },
      "source": [
        "import pandas as pd \n",
        "import numpy as np\n",
        "import seaborn as sns\n",
        "import matplotlib.pyplot as plt\n",
        "import plotly.express as px\n",
        "import plotly.graph_objects as go\n",
        "from imblearn.over_sampling import RandomOverSampler;\n",
        "from sklearn.ensemble import IsolationForest\n",
        "from sklearn.impute import SimpleImputer\n",
        "from sklearn.preprocessing import LabelEncoder, MinMaxScaler\n",
        "from sklearn.model_selection import train_test_split, cross_validate, GridSearchCV, cross_val_score, StratifiedKFold, KFold\n",
        "from sklearn.metrics import confusion_matrix, classification_report, accuracy_score, mean_absolute_error\n",
        "from sklearn.metrics import roc_curve, precision_recall_curve, auc, make_scorer, recall_score, precision_score,roc_auc_score\n",
        "\n",
        "from sklearn.ensemble import RandomForestClassifier\n",
        "from sklearn.linear_model import LogisticRegression\n",
        "from sklearn.tree import DecisionTreeClassifier\n",
        "from sklearn.neighbors import KNeighborsClassifier\n",
        "from sklearn.naive_bayes import GaussianNB\n",
        "from xgboost import XGBClassifier"
      ],
      "execution_count": null,
      "outputs": []
    },
    {
      "cell_type": "code",
      "metadata": {
        "id": "8RxBDz-8xU8M"
      },
      "source": [
        "cust_df = pd.read_csv('/content/customer_data_ratio20.csv')\n",
        "paymt_df = pd.read_csv('/content/payment_data_ratio20.csv')"
      ],
      "execution_count": null,
      "outputs": []
    },
    {
      "cell_type": "markdown",
      "metadata": {
        "id": "rAfQXCVBSGjE"
      },
      "source": [
        "# Data \n",
        "\n",
        "Time to get our hands dirty with some data cleaning.\n"
      ]
    },
    {
      "cell_type": "markdown",
      "metadata": {
        "id": "UeAgh9pOQl6h"
      },
      "source": [
        "## Payment Data"
      ]
    },
    {
      "cell_type": "code",
      "metadata": {
        "colab": {
          "base_uri": "https://localhost:8080/",
          "height": 204
        },
        "id": "TiPvYVKVQg-A",
        "outputId": "70f30a68-6886-4923-aae6-11d5fa890c39"
      },
      "source": [
        "paymt_df.head()"
      ],
      "execution_count": null,
      "outputs": [
        {
          "output_type": "execute_result",
          "data": {
            "text/html": [
              "<div>\n",
              "<style scoped>\n",
              "    .dataframe tbody tr th:only-of-type {\n",
              "        vertical-align: middle;\n",
              "    }\n",
              "\n",
              "    .dataframe tbody tr th {\n",
              "        vertical-align: top;\n",
              "    }\n",
              "\n",
              "    .dataframe thead th {\n",
              "        text-align: right;\n",
              "    }\n",
              "</style>\n",
              "<table border=\"1\" class=\"dataframe\">\n",
              "  <thead>\n",
              "    <tr style=\"text-align: right;\">\n",
              "      <th></th>\n",
              "      <th>id</th>\n",
              "      <th>OVD_t1</th>\n",
              "      <th>OVD_t2</th>\n",
              "      <th>OVD_t3</th>\n",
              "      <th>OVD_sum</th>\n",
              "      <th>pay_normal</th>\n",
              "      <th>prod_code</th>\n",
              "      <th>prod_limit</th>\n",
              "      <th>update_date</th>\n",
              "      <th>new_balance</th>\n",
              "      <th>highest_balance</th>\n",
              "      <th>report_date</th>\n",
              "    </tr>\n",
              "  </thead>\n",
              "  <tbody>\n",
              "    <tr>\n",
              "      <th>0</th>\n",
              "      <td>58987402</td>\n",
              "      <td>0</td>\n",
              "      <td>0</td>\n",
              "      <td>0</td>\n",
              "      <td>0</td>\n",
              "      <td>1</td>\n",
              "      <td>10</td>\n",
              "      <td>16500.0</td>\n",
              "      <td>04/12/2016</td>\n",
              "      <td>0.0</td>\n",
              "      <td>NaN</td>\n",
              "      <td>NaN</td>\n",
              "    </tr>\n",
              "    <tr>\n",
              "      <th>1</th>\n",
              "      <td>58995151</td>\n",
              "      <td>0</td>\n",
              "      <td>0</td>\n",
              "      <td>0</td>\n",
              "      <td>0</td>\n",
              "      <td>1</td>\n",
              "      <td>5</td>\n",
              "      <td>NaN</td>\n",
              "      <td>04/12/2016</td>\n",
              "      <td>588720.0</td>\n",
              "      <td>491100.0</td>\n",
              "      <td>NaN</td>\n",
              "    </tr>\n",
              "    <tr>\n",
              "      <th>2</th>\n",
              "      <td>58997200</td>\n",
              "      <td>0</td>\n",
              "      <td>0</td>\n",
              "      <td>0</td>\n",
              "      <td>0</td>\n",
              "      <td>2</td>\n",
              "      <td>5</td>\n",
              "      <td>NaN</td>\n",
              "      <td>04/12/2016</td>\n",
              "      <td>840000.0</td>\n",
              "      <td>700500.0</td>\n",
              "      <td>22/04/2016</td>\n",
              "    </tr>\n",
              "    <tr>\n",
              "      <th>3</th>\n",
              "      <td>54988608</td>\n",
              "      <td>0</td>\n",
              "      <td>0</td>\n",
              "      <td>0</td>\n",
              "      <td>0</td>\n",
              "      <td>3</td>\n",
              "      <td>10</td>\n",
              "      <td>37400.0</td>\n",
              "      <td>03/12/2016</td>\n",
              "      <td>8425.2</td>\n",
              "      <td>7520.0</td>\n",
              "      <td>25/04/2016</td>\n",
              "    </tr>\n",
              "    <tr>\n",
              "      <th>4</th>\n",
              "      <td>54987763</td>\n",
              "      <td>0</td>\n",
              "      <td>0</td>\n",
              "      <td>0</td>\n",
              "      <td>0</td>\n",
              "      <td>2</td>\n",
              "      <td>10</td>\n",
              "      <td>NaN</td>\n",
              "      <td>03/12/2016</td>\n",
              "      <td>15147.6</td>\n",
              "      <td>NaN</td>\n",
              "      <td>26/04/2016</td>\n",
              "    </tr>\n",
              "  </tbody>\n",
              "</table>\n",
              "</div>"
            ],
            "text/plain": [
              "         id  OVD_t1  OVD_t2  ...  new_balance  highest_balance  report_date\n",
              "0  58987402       0       0  ...          0.0              NaN          NaN\n",
              "1  58995151       0       0  ...     588720.0         491100.0          NaN\n",
              "2  58997200       0       0  ...     840000.0         700500.0   22/04/2016\n",
              "3  54988608       0       0  ...       8425.2           7520.0   25/04/2016\n",
              "4  54987763       0       0  ...      15147.6              NaN   26/04/2016\n",
              "\n",
              "[5 rows x 12 columns]"
            ]
          },
          "metadata": {},
          "execution_count": 13
        }
      ]
    },
    {
      "cell_type": "code",
      "metadata": {
        "colab": {
          "base_uri": "https://localhost:8080/"
        },
        "id": "YijEPfdjQ2qn",
        "outputId": "0f69cff4-5ddf-4c74-ae1d-6546af6c98c7"
      },
      "source": [
        "paymt_df.info()"
      ],
      "execution_count": null,
      "outputs": [
        {
          "output_type": "stream",
          "name": "stdout",
          "text": [
            "<class 'pandas.core.frame.DataFrame'>\n",
            "RangeIndex: 8250 entries, 0 to 8249\n",
            "Data columns (total 12 columns):\n",
            " #   Column           Non-Null Count  Dtype  \n",
            "---  ------           --------------  -----  \n",
            " 0   id               8250 non-null   int64  \n",
            " 1   OVD_t1           8250 non-null   int64  \n",
            " 2   OVD_t2           8250 non-null   int64  \n",
            " 3   OVD_t3           8250 non-null   int64  \n",
            " 4   OVD_sum          8250 non-null   int64  \n",
            " 5   pay_normal       8250 non-null   int64  \n",
            " 6   prod_code        8250 non-null   int64  \n",
            " 7   prod_limit       2132 non-null   float64\n",
            " 8   update_date      8224 non-null   object \n",
            " 9   new_balance      8250 non-null   float64\n",
            " 10  highest_balance  7841 non-null   float64\n",
            " 11  report_date      7136 non-null   object \n",
            "dtypes: float64(3), int64(7), object(2)\n",
            "memory usage: 773.6+ KB\n"
          ]
        }
      ]
    },
    {
      "cell_type": "code",
      "metadata": {
        "colab": {
          "base_uri": "https://localhost:8080/"
        },
        "id": "IdQxCZdQQ9ep",
        "outputId": "fb37ee08-a296-4170-bf1f-27a93971204f"
      },
      "source": [
        "# Percentage of missing values \n",
        "(paymt_df.isnull().sum()/paymt_df.isnull().count()*100).sort_values(ascending = False)"
      ],
      "execution_count": null,
      "outputs": [
        {
          "output_type": "execute_result",
          "data": {
            "text/plain": [
              "prod_limit         74.157576\n",
              "report_date        13.503030\n",
              "highest_balance     4.957576\n",
              "update_date         0.315152\n",
              "new_balance         0.000000\n",
              "prod_code           0.000000\n",
              "pay_normal          0.000000\n",
              "OVD_sum             0.000000\n",
              "OVD_t3              0.000000\n",
              "OVD_t2              0.000000\n",
              "OVD_t1              0.000000\n",
              "id                  0.000000\n",
              "dtype: float64"
            ]
          },
          "metadata": {},
          "execution_count": 15
        }
      ]
    },
    {
      "cell_type": "markdown",
      "metadata": {
        "id": "GBlkpDtDRD5K"
      },
      "source": [
        "We can see that prod_limit has 74% missing values and wouldn't be of much significance during our statistical analysis."
      ]
    },
    {
      "cell_type": "markdown",
      "metadata": {
        "id": "dZ-T8xJCQjYS"
      },
      "source": [
        "## Customer Data"
      ]
    },
    {
      "cell_type": "code",
      "metadata": {
        "colab": {
          "base_uri": "https://localhost:8080/",
          "height": 204
        },
        "id": "QyEKkI_axeYg",
        "outputId": "55fcf28b-0564-4bdf-c41b-d003ca515c8e"
      },
      "source": [
        "cust_df.head()"
      ],
      "execution_count": null,
      "outputs": [
        {
          "output_type": "execute_result",
          "data": {
            "text/html": [
              "<div>\n",
              "<style scoped>\n",
              "    .dataframe tbody tr th:only-of-type {\n",
              "        vertical-align: middle;\n",
              "    }\n",
              "\n",
              "    .dataframe tbody tr th {\n",
              "        vertical-align: top;\n",
              "    }\n",
              "\n",
              "    .dataframe thead th {\n",
              "        text-align: right;\n",
              "    }\n",
              "</style>\n",
              "<table border=\"1\" class=\"dataframe\">\n",
              "  <thead>\n",
              "    <tr style=\"text-align: right;\">\n",
              "      <th></th>\n",
              "      <th>label</th>\n",
              "      <th>id</th>\n",
              "      <th>fea_1</th>\n",
              "      <th>fea_2</th>\n",
              "      <th>fea_3</th>\n",
              "      <th>fea_4</th>\n",
              "      <th>fea_5</th>\n",
              "      <th>fea_6</th>\n",
              "      <th>fea_7</th>\n",
              "      <th>fea_8</th>\n",
              "      <th>fea_9</th>\n",
              "      <th>fea_10</th>\n",
              "      <th>fea_11</th>\n",
              "    </tr>\n",
              "  </thead>\n",
              "  <tbody>\n",
              "    <tr>\n",
              "      <th>0</th>\n",
              "      <td>1</td>\n",
              "      <td>54982665</td>\n",
              "      <td>5</td>\n",
              "      <td>1245.5</td>\n",
              "      <td>3</td>\n",
              "      <td>77000.0</td>\n",
              "      <td>2</td>\n",
              "      <td>15</td>\n",
              "      <td>5</td>\n",
              "      <td>109</td>\n",
              "      <td>5</td>\n",
              "      <td>151300</td>\n",
              "      <td>244.948974</td>\n",
              "    </tr>\n",
              "    <tr>\n",
              "      <th>1</th>\n",
              "      <td>0</td>\n",
              "      <td>59004779</td>\n",
              "      <td>4</td>\n",
              "      <td>1277.0</td>\n",
              "      <td>1</td>\n",
              "      <td>113000.0</td>\n",
              "      <td>2</td>\n",
              "      <td>8</td>\n",
              "      <td>-1</td>\n",
              "      <td>100</td>\n",
              "      <td>3</td>\n",
              "      <td>341759</td>\n",
              "      <td>207.173840</td>\n",
              "    </tr>\n",
              "    <tr>\n",
              "      <th>2</th>\n",
              "      <td>0</td>\n",
              "      <td>58990862</td>\n",
              "      <td>7</td>\n",
              "      <td>1298.0</td>\n",
              "      <td>1</td>\n",
              "      <td>110000.0</td>\n",
              "      <td>2</td>\n",
              "      <td>11</td>\n",
              "      <td>-1</td>\n",
              "      <td>101</td>\n",
              "      <td>5</td>\n",
              "      <td>72001</td>\n",
              "      <td>1.000000</td>\n",
              "    </tr>\n",
              "    <tr>\n",
              "      <th>3</th>\n",
              "      <td>1</td>\n",
              "      <td>58995168</td>\n",
              "      <td>7</td>\n",
              "      <td>1335.5</td>\n",
              "      <td>1</td>\n",
              "      <td>151000.0</td>\n",
              "      <td>2</td>\n",
              "      <td>11</td>\n",
              "      <td>5</td>\n",
              "      <td>110</td>\n",
              "      <td>3</td>\n",
              "      <td>60084</td>\n",
              "      <td>1.000000</td>\n",
              "    </tr>\n",
              "    <tr>\n",
              "      <th>4</th>\n",
              "      <td>0</td>\n",
              "      <td>54987320</td>\n",
              "      <td>7</td>\n",
              "      <td>NaN</td>\n",
              "      <td>2</td>\n",
              "      <td>59000.0</td>\n",
              "      <td>2</td>\n",
              "      <td>11</td>\n",
              "      <td>5</td>\n",
              "      <td>108</td>\n",
              "      <td>4</td>\n",
              "      <td>450081</td>\n",
              "      <td>197.403141</td>\n",
              "    </tr>\n",
              "  </tbody>\n",
              "</table>\n",
              "</div>"
            ],
            "text/plain": [
              "   label        id  fea_1   fea_2  ...  fea_8  fea_9  fea_10      fea_11\n",
              "0      1  54982665      5  1245.5  ...    109      5  151300  244.948974\n",
              "1      0  59004779      4  1277.0  ...    100      3  341759  207.173840\n",
              "2      0  58990862      7  1298.0  ...    101      5   72001    1.000000\n",
              "3      1  58995168      7  1335.5  ...    110      3   60084    1.000000\n",
              "4      0  54987320      7     NaN  ...    108      4  450081  197.403141\n",
              "\n",
              "[5 rows x 13 columns]"
            ]
          },
          "metadata": {},
          "execution_count": 6
        }
      ]
    },
    {
      "cell_type": "code",
      "metadata": {
        "colab": {
          "base_uri": "https://localhost:8080/"
        },
        "id": "HR-n6GWGxgR4",
        "outputId": "3265ac20-5810-474a-a679-8d5fd3c651b9"
      },
      "source": [
        "cust_df.info()"
      ],
      "execution_count": null,
      "outputs": [
        {
          "output_type": "stream",
          "name": "stdout",
          "text": [
            "<class 'pandas.core.frame.DataFrame'>\n",
            "RangeIndex: 1125 entries, 0 to 1124\n",
            "Data columns (total 13 columns):\n",
            " #   Column  Non-Null Count  Dtype  \n",
            "---  ------  --------------  -----  \n",
            " 0   label   1125 non-null   int64  \n",
            " 1   id      1125 non-null   int64  \n",
            " 2   fea_1   1125 non-null   int64  \n",
            " 3   fea_2   976 non-null    float64\n",
            " 4   fea_3   1125 non-null   int64  \n",
            " 5   fea_4   1125 non-null   float64\n",
            " 6   fea_5   1125 non-null   int64  \n",
            " 7   fea_6   1125 non-null   int64  \n",
            " 8   fea_7   1125 non-null   int64  \n",
            " 9   fea_8   1125 non-null   int64  \n",
            " 10  fea_9   1125 non-null   int64  \n",
            " 11  fea_10  1125 non-null   int64  \n",
            " 12  fea_11  1125 non-null   float64\n",
            "dtypes: float64(3), int64(10)\n",
            "memory usage: 114.4 KB\n"
          ]
        }
      ]
    },
    {
      "cell_type": "markdown",
      "metadata": {
        "id": "_AsgCStFOSq1"
      },
      "source": [
        "We can see that fea_2 has some null values that needs to be handled before we proceed with EDA/Model Building.\n"
      ]
    },
    {
      "cell_type": "code",
      "metadata": {
        "colab": {
          "base_uri": "https://localhost:8080/"
        },
        "id": "YWwcSJciOzKt",
        "outputId": "aa3f859d-fb52-4b4e-c206-8ddaee22de6a"
      },
      "source": [
        "# Percentage of missing values \n",
        "(cust_df.isnull().sum()/cust_df.isnull().count()*100).sort_values(ascending = False)"
      ],
      "execution_count": null,
      "outputs": [
        {
          "output_type": "execute_result",
          "data": {
            "text/plain": [
              "fea_2     13.244444\n",
              "fea_11     0.000000\n",
              "fea_10     0.000000\n",
              "fea_9      0.000000\n",
              "fea_8      0.000000\n",
              "fea_7      0.000000\n",
              "fea_6      0.000000\n",
              "fea_5      0.000000\n",
              "fea_4      0.000000\n",
              "fea_3      0.000000\n",
              "fea_1      0.000000\n",
              "id         0.000000\n",
              "label      0.000000\n",
              "dtype: float64"
            ]
          },
          "metadata": {},
          "execution_count": 8
        }
      ]
    },
    {
      "cell_type": "code",
      "metadata": {
        "colab": {
          "base_uri": "https://localhost:8080/",
          "height": 316
        },
        "id": "0jNWgaiLxkKZ",
        "outputId": "c8ac0eca-aa4b-46d5-aa9d-8c506bd809eb"
      },
      "source": [
        "cust_df.describe()"
      ],
      "execution_count": null,
      "outputs": [
        {
          "output_type": "execute_result",
          "data": {
            "text/html": [
              "<div>\n",
              "<style scoped>\n",
              "    .dataframe tbody tr th:only-of-type {\n",
              "        vertical-align: middle;\n",
              "    }\n",
              "\n",
              "    .dataframe tbody tr th {\n",
              "        vertical-align: top;\n",
              "    }\n",
              "\n",
              "    .dataframe thead th {\n",
              "        text-align: right;\n",
              "    }\n",
              "</style>\n",
              "<table border=\"1\" class=\"dataframe\">\n",
              "  <thead>\n",
              "    <tr style=\"text-align: right;\">\n",
              "      <th></th>\n",
              "      <th>label</th>\n",
              "      <th>id</th>\n",
              "      <th>fea_1</th>\n",
              "      <th>fea_2</th>\n",
              "      <th>fea_3</th>\n",
              "      <th>fea_4</th>\n",
              "      <th>fea_5</th>\n",
              "      <th>fea_6</th>\n",
              "      <th>fea_7</th>\n",
              "      <th>fea_8</th>\n",
              "      <th>fea_9</th>\n",
              "      <th>fea_10</th>\n",
              "      <th>fea_11</th>\n",
              "    </tr>\n",
              "  </thead>\n",
              "  <tbody>\n",
              "    <tr>\n",
              "      <th>count</th>\n",
              "      <td>1125.000000</td>\n",
              "      <td>1.125000e+03</td>\n",
              "      <td>1125.000000</td>\n",
              "      <td>976.000000</td>\n",
              "      <td>1125.000000</td>\n",
              "      <td>1.125000e+03</td>\n",
              "      <td>1125.000000</td>\n",
              "      <td>1125.000000</td>\n",
              "      <td>1125.000000</td>\n",
              "      <td>1125.000000</td>\n",
              "      <td>1125.000000</td>\n",
              "      <td>1125.000000</td>\n",
              "      <td>1125.000000</td>\n",
              "    </tr>\n",
              "    <tr>\n",
              "      <th>mean</th>\n",
              "      <td>0.200000</td>\n",
              "      <td>5.783677e+07</td>\n",
              "      <td>5.482667</td>\n",
              "      <td>1283.911373</td>\n",
              "      <td>2.333333</td>\n",
              "      <td>1.208836e+05</td>\n",
              "      <td>1.928889</td>\n",
              "      <td>10.872000</td>\n",
              "      <td>4.832889</td>\n",
              "      <td>100.802667</td>\n",
              "      <td>4.195556</td>\n",
              "      <td>164618.495111</td>\n",
              "      <td>134.999004</td>\n",
              "    </tr>\n",
              "    <tr>\n",
              "      <th>std</th>\n",
              "      <td>0.400178</td>\n",
              "      <td>1.817150e+06</td>\n",
              "      <td>1.383338</td>\n",
              "      <td>51.764022</td>\n",
              "      <td>0.878773</td>\n",
              "      <td>8.844523e+04</td>\n",
              "      <td>0.257125</td>\n",
              "      <td>2.676437</td>\n",
              "      <td>2.971182</td>\n",
              "      <td>11.988955</td>\n",
              "      <td>0.855679</td>\n",
              "      <td>152520.488281</td>\n",
              "      <td>112.616798</td>\n",
              "    </tr>\n",
              "    <tr>\n",
              "      <th>min</th>\n",
              "      <td>0.000000</td>\n",
              "      <td>5.498235e+07</td>\n",
              "      <td>1.000000</td>\n",
              "      <td>1116.500000</td>\n",
              "      <td>1.000000</td>\n",
              "      <td>1.500000e+04</td>\n",
              "      <td>1.000000</td>\n",
              "      <td>3.000000</td>\n",
              "      <td>-1.000000</td>\n",
              "      <td>64.000000</td>\n",
              "      <td>1.000000</td>\n",
              "      <td>60000.000000</td>\n",
              "      <td>1.000000</td>\n",
              "    </tr>\n",
              "    <tr>\n",
              "      <th>25%</th>\n",
              "      <td>0.000000</td>\n",
              "      <td>5.499050e+07</td>\n",
              "      <td>4.000000</td>\n",
              "      <td>1244.000000</td>\n",
              "      <td>1.000000</td>\n",
              "      <td>7.200000e+04</td>\n",
              "      <td>2.000000</td>\n",
              "      <td>8.000000</td>\n",
              "      <td>5.000000</td>\n",
              "      <td>90.000000</td>\n",
              "      <td>3.000000</td>\n",
              "      <td>60044.000000</td>\n",
              "      <td>1.000000</td>\n",
              "    </tr>\n",
              "    <tr>\n",
              "      <th>50%</th>\n",
              "      <td>0.000000</td>\n",
              "      <td>5.898975e+07</td>\n",
              "      <td>5.000000</td>\n",
              "      <td>1281.500000</td>\n",
              "      <td>3.000000</td>\n",
              "      <td>1.020000e+05</td>\n",
              "      <td>2.000000</td>\n",
              "      <td>11.000000</td>\n",
              "      <td>5.000000</td>\n",
              "      <td>105.000000</td>\n",
              "      <td>4.000000</td>\n",
              "      <td>72000.000000</td>\n",
              "      <td>173.205081</td>\n",
              "    </tr>\n",
              "    <tr>\n",
              "      <th>75%</th>\n",
              "      <td>0.000000</td>\n",
              "      <td>5.899799e+07</td>\n",
              "      <td>7.000000</td>\n",
              "      <td>1314.500000</td>\n",
              "      <td>3.000000</td>\n",
              "      <td>1.390000e+05</td>\n",
              "      <td>2.000000</td>\n",
              "      <td>11.000000</td>\n",
              "      <td>5.000000</td>\n",
              "      <td>111.000000</td>\n",
              "      <td>5.000000</td>\n",
              "      <td>151307.000000</td>\n",
              "      <td>202.484567</td>\n",
              "    </tr>\n",
              "    <tr>\n",
              "      <th>max</th>\n",
              "      <td>1.000000</td>\n",
              "      <td>5.900624e+07</td>\n",
              "      <td>7.000000</td>\n",
              "      <td>1481.000000</td>\n",
              "      <td>3.000000</td>\n",
              "      <td>1.200000e+06</td>\n",
              "      <td>2.000000</td>\n",
              "      <td>16.000000</td>\n",
              "      <td>10.000000</td>\n",
              "      <td>115.000000</td>\n",
              "      <td>5.000000</td>\n",
              "      <td>650070.000000</td>\n",
              "      <td>707.106781</td>\n",
              "    </tr>\n",
              "  </tbody>\n",
              "</table>\n",
              "</div>"
            ],
            "text/plain": [
              "             label            id  ...         fea_10       fea_11\n",
              "count  1125.000000  1.125000e+03  ...    1125.000000  1125.000000\n",
              "mean      0.200000  5.783677e+07  ...  164618.495111   134.999004\n",
              "std       0.400178  1.817150e+06  ...  152520.488281   112.616798\n",
              "min       0.000000  5.498235e+07  ...   60000.000000     1.000000\n",
              "25%       0.000000  5.499050e+07  ...   60044.000000     1.000000\n",
              "50%       0.000000  5.898975e+07  ...   72000.000000   173.205081\n",
              "75%       0.000000  5.899799e+07  ...  151307.000000   202.484567\n",
              "max       1.000000  5.900624e+07  ...  650070.000000   707.106781\n",
              "\n",
              "[8 rows x 13 columns]"
            ]
          },
          "metadata": {},
          "execution_count": 9
        }
      ]
    },
    {
      "cell_type": "code",
      "metadata": {
        "id": "0YA5gz3fPEzA"
      },
      "source": [
        "# Lets fill up the missing values using the average value of fea_2\n",
        "imputer = SimpleImputer(missing_values=np.nan, strategy='mean')\n",
        "cust_df['fea_2'] = imputer.fit_transform(cust_df['fea_2'].values.reshape(-1, 1))"
      ],
      "execution_count": null,
      "outputs": []
    },
    {
      "cell_type": "code",
      "metadata": {
        "colab": {
          "base_uri": "https://localhost:8080/",
          "height": 49
        },
        "id": "xcM3PgiXPtZk",
        "outputId": "d65fc20d-eba8-4279-c7fe-908115c819e3"
      },
      "source": [
        "# check for duplicate records\n",
        "cust_df[cust_df.duplicated()]"
      ],
      "execution_count": null,
      "outputs": [
        {
          "output_type": "execute_result",
          "data": {
            "text/html": [
              "<div>\n",
              "<style scoped>\n",
              "    .dataframe tbody tr th:only-of-type {\n",
              "        vertical-align: middle;\n",
              "    }\n",
              "\n",
              "    .dataframe tbody tr th {\n",
              "        vertical-align: top;\n",
              "    }\n",
              "\n",
              "    .dataframe thead th {\n",
              "        text-align: right;\n",
              "    }\n",
              "</style>\n",
              "<table border=\"1\" class=\"dataframe\">\n",
              "  <thead>\n",
              "    <tr style=\"text-align: right;\">\n",
              "      <th></th>\n",
              "      <th>label</th>\n",
              "      <th>id</th>\n",
              "      <th>fea_1</th>\n",
              "      <th>fea_2</th>\n",
              "      <th>fea_3</th>\n",
              "      <th>fea_4</th>\n",
              "      <th>fea_5</th>\n",
              "      <th>fea_6</th>\n",
              "      <th>fea_7</th>\n",
              "      <th>fea_8</th>\n",
              "      <th>fea_9</th>\n",
              "      <th>fea_10</th>\n",
              "      <th>fea_11</th>\n",
              "    </tr>\n",
              "  </thead>\n",
              "  <tbody>\n",
              "  </tbody>\n",
              "</table>\n",
              "</div>"
            ],
            "text/plain": [
              "Empty DataFrame\n",
              "Columns: [label, id, fea_1, fea_2, fea_3, fea_4, fea_5, fea_6, fea_7, fea_8, fea_9, fea_10, fea_11]\n",
              "Index: []"
            ]
          },
          "metadata": {},
          "execution_count": 11
        }
      ]
    },
    {
      "cell_type": "code",
      "metadata": {
        "colab": {
          "base_uri": "https://localhost:8080/",
          "height": 542
        },
        "id": "L8jjyb1ehf7Z",
        "outputId": "e98bdafa-3a23-45ee-e9f8-ff6cd56105fe"
      },
      "source": [
        "temp_df = pay_cus.groupby(['label'])['id'].nunique().reset_index()\n",
        "temp_df = temp_df.sort_values(by=['id'],ascending=False)\n",
        "\n",
        "layout = dict(\n",
        "    title_text = \"<b> Count of Customers By Label </b>\",\n",
        "    xaxis_title=\"ID\",\n",
        "    yaxis_title=\"Count\",\n",
        "    title_x = 0.5)\n",
        "\n",
        "fig = px.bar(x=temp_df['label'],y= temp_df['id'],\n",
        "             color = temp_df['id'],\n",
        "             color_continuous_scale=px.colors.sequential.Sunset)\n",
        "\n",
        "fig.update_layout(layout, template = 'plotly_white')   \n",
        "fig.show()"
      ],
      "execution_count": null,
      "outputs": [
        {
          "output_type": "display_data",
          "data": {
            "text/html": [
              "<html>\n",
              "<head><meta charset=\"utf-8\" /></head>\n",
              "<body>\n",
              "    <div>\n",
              "            <script src=\"https://cdnjs.cloudflare.com/ajax/libs/mathjax/2.7.5/MathJax.js?config=TeX-AMS-MML_SVG\"></script><script type=\"text/javascript\">if (window.MathJax) {MathJax.Hub.Config({SVG: {font: \"STIX-Web\"}});}</script>\n",
              "                <script type=\"text/javascript\">window.PlotlyConfig = {MathJaxConfig: 'local'};</script>\n",
              "        <script src=\"https://cdn.plot.ly/plotly-latest.min.js\"></script>    \n",
              "            <div id=\"2adb849b-adf2-4f2e-b85b-39e6976ed221\" class=\"plotly-graph-div\" style=\"height:525px; width:100%;\"></div>\n",
              "            <script type=\"text/javascript\">\n",
              "                \n",
              "                    window.PLOTLYENV=window.PLOTLYENV || {};\n",
              "                    \n",
              "                if (document.getElementById(\"2adb849b-adf2-4f2e-b85b-39e6976ed221\")) {\n",
              "                    Plotly.newPlot(\n",
              "                        '2adb849b-adf2-4f2e-b85b-39e6976ed221',\n",
              "                        [{\"alignmentgroup\": \"True\", \"hoverlabel\": {\"namelength\": 0}, \"hovertemplate\": \"x=%{x}<br>y=%{y}<br>color=%{marker.color}\", \"legendgroup\": \"\", \"marker\": {\"color\": [900, 225], \"coloraxis\": \"coloraxis\"}, \"name\": \"\", \"offsetgroup\": \"\", \"orientation\": \"v\", \"showlegend\": false, \"textposition\": \"auto\", \"type\": \"bar\", \"x\": [0, 1], \"xaxis\": \"x\", \"y\": [900, 225], \"yaxis\": \"y\"}],\n",
              "                        {\"barmode\": \"relative\", \"coloraxis\": {\"colorbar\": {\"title\": {\"text\": \"color\"}}, \"colorscale\": [[0.0, \"rgb(243, 231, 155)\"], [0.16666666666666666, \"rgb(250, 196, 132)\"], [0.3333333333333333, \"rgb(248, 160, 126)\"], [0.5, \"rgb(235, 127, 134)\"], [0.6666666666666666, \"rgb(206, 102, 147)\"], [0.8333333333333334, \"rgb(160, 89, 160)\"], [1.0, \"rgb(92, 83, 165)\"]]}, \"legend\": {\"tracegroupgap\": 0}, \"margin\": {\"t\": 60}, \"template\": {\"data\": {\"bar\": [{\"error_x\": {\"color\": \"#2a3f5f\"}, \"error_y\": {\"color\": \"#2a3f5f\"}, \"marker\": {\"line\": {\"color\": \"white\", \"width\": 0.5}}, \"type\": \"bar\"}], \"barpolar\": [{\"marker\": {\"line\": {\"color\": \"white\", \"width\": 0.5}}, \"type\": \"barpolar\"}], \"carpet\": [{\"aaxis\": {\"endlinecolor\": \"#2a3f5f\", \"gridcolor\": \"#C8D4E3\", \"linecolor\": \"#C8D4E3\", \"minorgridcolor\": \"#C8D4E3\", \"startlinecolor\": \"#2a3f5f\"}, \"baxis\": {\"endlinecolor\": \"#2a3f5f\", \"gridcolor\": \"#C8D4E3\", \"linecolor\": \"#C8D4E3\", \"minorgridcolor\": \"#C8D4E3\", \"startlinecolor\": \"#2a3f5f\"}, \"type\": \"carpet\"}], \"choropleth\": [{\"colorbar\": {\"outlinewidth\": 0, \"ticks\": \"\"}, \"type\": \"choropleth\"}], \"contour\": [{\"colorbar\": {\"outlinewidth\": 0, \"ticks\": \"\"}, \"colorscale\": [[0.0, \"#0d0887\"], [0.1111111111111111, \"#46039f\"], [0.2222222222222222, \"#7201a8\"], [0.3333333333333333, \"#9c179e\"], [0.4444444444444444, \"#bd3786\"], [0.5555555555555556, \"#d8576b\"], [0.6666666666666666, \"#ed7953\"], [0.7777777777777778, \"#fb9f3a\"], [0.8888888888888888, \"#fdca26\"], [1.0, \"#f0f921\"]], \"type\": \"contour\"}], \"contourcarpet\": [{\"colorbar\": {\"outlinewidth\": 0, \"ticks\": \"\"}, \"type\": \"contourcarpet\"}], \"heatmap\": [{\"colorbar\": {\"outlinewidth\": 0, \"ticks\": \"\"}, \"colorscale\": [[0.0, \"#0d0887\"], [0.1111111111111111, \"#46039f\"], [0.2222222222222222, \"#7201a8\"], [0.3333333333333333, \"#9c179e\"], [0.4444444444444444, \"#bd3786\"], [0.5555555555555556, \"#d8576b\"], [0.6666666666666666, \"#ed7953\"], [0.7777777777777778, \"#fb9f3a\"], [0.8888888888888888, \"#fdca26\"], [1.0, \"#f0f921\"]], \"type\": \"heatmap\"}], \"heatmapgl\": [{\"colorbar\": {\"outlinewidth\": 0, \"ticks\": \"\"}, \"colorscale\": [[0.0, \"#0d0887\"], [0.1111111111111111, \"#46039f\"], [0.2222222222222222, \"#7201a8\"], [0.3333333333333333, \"#9c179e\"], [0.4444444444444444, \"#bd3786\"], [0.5555555555555556, \"#d8576b\"], [0.6666666666666666, \"#ed7953\"], [0.7777777777777778, \"#fb9f3a\"], [0.8888888888888888, \"#fdca26\"], [1.0, \"#f0f921\"]], \"type\": \"heatmapgl\"}], \"histogram\": [{\"marker\": {\"colorbar\": {\"outlinewidth\": 0, \"ticks\": \"\"}}, \"type\": \"histogram\"}], \"histogram2d\": [{\"colorbar\": {\"outlinewidth\": 0, \"ticks\": \"\"}, \"colorscale\": [[0.0, \"#0d0887\"], [0.1111111111111111, \"#46039f\"], [0.2222222222222222, \"#7201a8\"], [0.3333333333333333, \"#9c179e\"], [0.4444444444444444, \"#bd3786\"], [0.5555555555555556, \"#d8576b\"], [0.6666666666666666, \"#ed7953\"], [0.7777777777777778, \"#fb9f3a\"], [0.8888888888888888, \"#fdca26\"], [1.0, \"#f0f921\"]], \"type\": \"histogram2d\"}], \"histogram2dcontour\": [{\"colorbar\": {\"outlinewidth\": 0, \"ticks\": \"\"}, \"colorscale\": [[0.0, \"#0d0887\"], [0.1111111111111111, \"#46039f\"], [0.2222222222222222, \"#7201a8\"], [0.3333333333333333, \"#9c179e\"], [0.4444444444444444, \"#bd3786\"], [0.5555555555555556, \"#d8576b\"], [0.6666666666666666, \"#ed7953\"], [0.7777777777777778, \"#fb9f3a\"], [0.8888888888888888, \"#fdca26\"], [1.0, \"#f0f921\"]], \"type\": \"histogram2dcontour\"}], \"mesh3d\": [{\"colorbar\": {\"outlinewidth\": 0, \"ticks\": \"\"}, \"type\": \"mesh3d\"}], \"parcoords\": [{\"line\": {\"colorbar\": {\"outlinewidth\": 0, \"ticks\": \"\"}}, \"type\": \"parcoords\"}], \"pie\": [{\"automargin\": true, \"type\": \"pie\"}], \"scatter\": [{\"marker\": {\"colorbar\": {\"outlinewidth\": 0, \"ticks\": \"\"}}, \"type\": \"scatter\"}], \"scatter3d\": [{\"line\": {\"colorbar\": {\"outlinewidth\": 0, \"ticks\": \"\"}}, \"marker\": {\"colorbar\": {\"outlinewidth\": 0, \"ticks\": \"\"}}, \"type\": \"scatter3d\"}], \"scattercarpet\": [{\"marker\": {\"colorbar\": {\"outlinewidth\": 0, \"ticks\": \"\"}}, \"type\": \"scattercarpet\"}], \"scattergeo\": [{\"marker\": {\"colorbar\": {\"outlinewidth\": 0, \"ticks\": \"\"}}, \"type\": \"scattergeo\"}], \"scattergl\": [{\"marker\": {\"colorbar\": {\"outlinewidth\": 0, \"ticks\": \"\"}}, \"type\": \"scattergl\"}], \"scattermapbox\": [{\"marker\": {\"colorbar\": {\"outlinewidth\": 0, \"ticks\": \"\"}}, \"type\": \"scattermapbox\"}], \"scatterpolar\": [{\"marker\": {\"colorbar\": {\"outlinewidth\": 0, \"ticks\": \"\"}}, \"type\": \"scatterpolar\"}], \"scatterpolargl\": [{\"marker\": {\"colorbar\": {\"outlinewidth\": 0, \"ticks\": \"\"}}, \"type\": \"scatterpolargl\"}], \"scatterternary\": [{\"marker\": {\"colorbar\": {\"outlinewidth\": 0, \"ticks\": \"\"}}, \"type\": \"scatterternary\"}], \"surface\": [{\"colorbar\": {\"outlinewidth\": 0, \"ticks\": \"\"}, \"colorscale\": [[0.0, \"#0d0887\"], [0.1111111111111111, \"#46039f\"], [0.2222222222222222, \"#7201a8\"], [0.3333333333333333, \"#9c179e\"], [0.4444444444444444, \"#bd3786\"], [0.5555555555555556, \"#d8576b\"], [0.6666666666666666, \"#ed7953\"], [0.7777777777777778, \"#fb9f3a\"], [0.8888888888888888, \"#fdca26\"], [1.0, \"#f0f921\"]], \"type\": \"surface\"}], \"table\": [{\"cells\": {\"fill\": {\"color\": \"#EBF0F8\"}, \"line\": {\"color\": \"white\"}}, \"header\": {\"fill\": {\"color\": \"#C8D4E3\"}, \"line\": {\"color\": \"white\"}}, \"type\": \"table\"}]}, \"layout\": {\"annotationdefaults\": {\"arrowcolor\": \"#2a3f5f\", \"arrowhead\": 0, \"arrowwidth\": 1}, \"coloraxis\": {\"colorbar\": {\"outlinewidth\": 0, \"ticks\": \"\"}}, \"colorscale\": {\"diverging\": [[0, \"#8e0152\"], [0.1, \"#c51b7d\"], [0.2, \"#de77ae\"], [0.3, \"#f1b6da\"], [0.4, \"#fde0ef\"], [0.5, \"#f7f7f7\"], [0.6, \"#e6f5d0\"], [0.7, \"#b8e186\"], [0.8, \"#7fbc41\"], [0.9, \"#4d9221\"], [1, \"#276419\"]], \"sequential\": [[0.0, \"#0d0887\"], [0.1111111111111111, \"#46039f\"], [0.2222222222222222, \"#7201a8\"], [0.3333333333333333, \"#9c179e\"], [0.4444444444444444, \"#bd3786\"], [0.5555555555555556, \"#d8576b\"], [0.6666666666666666, \"#ed7953\"], [0.7777777777777778, \"#fb9f3a\"], [0.8888888888888888, \"#fdca26\"], [1.0, \"#f0f921\"]], \"sequentialminus\": [[0.0, \"#0d0887\"], [0.1111111111111111, \"#46039f\"], [0.2222222222222222, \"#7201a8\"], [0.3333333333333333, \"#9c179e\"], [0.4444444444444444, \"#bd3786\"], [0.5555555555555556, \"#d8576b\"], [0.6666666666666666, \"#ed7953\"], [0.7777777777777778, \"#fb9f3a\"], [0.8888888888888888, \"#fdca26\"], [1.0, \"#f0f921\"]]}, \"colorway\": [\"#636efa\", \"#EF553B\", \"#00cc96\", \"#ab63fa\", \"#FFA15A\", \"#19d3f3\", \"#FF6692\", \"#B6E880\", \"#FF97FF\", \"#FECB52\"], \"font\": {\"color\": \"#2a3f5f\"}, \"geo\": {\"bgcolor\": \"white\", \"lakecolor\": \"white\", \"landcolor\": \"white\", \"showlakes\": true, \"showland\": true, \"subunitcolor\": \"#C8D4E3\"}, \"hoverlabel\": {\"align\": \"left\"}, \"hovermode\": \"closest\", \"mapbox\": {\"style\": \"light\"}, \"paper_bgcolor\": \"white\", \"plot_bgcolor\": \"white\", \"polar\": {\"angularaxis\": {\"gridcolor\": \"#EBF0F8\", \"linecolor\": \"#EBF0F8\", \"ticks\": \"\"}, \"bgcolor\": \"white\", \"radialaxis\": {\"gridcolor\": \"#EBF0F8\", \"linecolor\": \"#EBF0F8\", \"ticks\": \"\"}}, \"scene\": {\"xaxis\": {\"backgroundcolor\": \"white\", \"gridcolor\": \"#DFE8F3\", \"gridwidth\": 2, \"linecolor\": \"#EBF0F8\", \"showbackground\": true, \"ticks\": \"\", \"zerolinecolor\": \"#EBF0F8\"}, \"yaxis\": {\"backgroundcolor\": \"white\", \"gridcolor\": \"#DFE8F3\", \"gridwidth\": 2, \"linecolor\": \"#EBF0F8\", \"showbackground\": true, \"ticks\": \"\", \"zerolinecolor\": \"#EBF0F8\"}, \"zaxis\": {\"backgroundcolor\": \"white\", \"gridcolor\": \"#DFE8F3\", \"gridwidth\": 2, \"linecolor\": \"#EBF0F8\", \"showbackground\": true, \"ticks\": \"\", \"zerolinecolor\": \"#EBF0F8\"}}, \"shapedefaults\": {\"line\": {\"color\": \"#2a3f5f\"}}, \"ternary\": {\"aaxis\": {\"gridcolor\": \"#DFE8F3\", \"linecolor\": \"#A2B1C6\", \"ticks\": \"\"}, \"baxis\": {\"gridcolor\": \"#DFE8F3\", \"linecolor\": \"#A2B1C6\", \"ticks\": \"\"}, \"bgcolor\": \"white\", \"caxis\": {\"gridcolor\": \"#DFE8F3\", \"linecolor\": \"#A2B1C6\", \"ticks\": \"\"}}, \"title\": {\"x\": 0.05}, \"xaxis\": {\"automargin\": true, \"gridcolor\": \"#EBF0F8\", \"linecolor\": \"#EBF0F8\", \"ticks\": \"\", \"title\": {\"standoff\": 15}, \"zerolinecolor\": \"#EBF0F8\", \"zerolinewidth\": 2}, \"yaxis\": {\"automargin\": true, \"gridcolor\": \"#EBF0F8\", \"linecolor\": \"#EBF0F8\", \"ticks\": \"\", \"title\": {\"standoff\": 15}, \"zerolinecolor\": \"#EBF0F8\", \"zerolinewidth\": 2}}}, \"title\": {\"text\": \"<b> Count of Customers By Label </b>\", \"x\": 0.5}, \"xaxis\": {\"anchor\": \"y\", \"domain\": [0.0, 1.0], \"title\": {\"text\": \"ID\"}}, \"yaxis\": {\"anchor\": \"x\", \"domain\": [0.0, 1.0], \"title\": {\"text\": \"Count\"}}},\n",
              "                        {\"responsive\": true}\n",
              "                    ).then(function(){\n",
              "                            \n",
              "var gd = document.getElementById('2adb849b-adf2-4f2e-b85b-39e6976ed221');\n",
              "var x = new MutationObserver(function (mutations, observer) {{\n",
              "        var display = window.getComputedStyle(gd).display;\n",
              "        if (!display || display === 'none') {{\n",
              "            console.log([gd, 'removed!']);\n",
              "            Plotly.purge(gd);\n",
              "            observer.disconnect();\n",
              "        }}\n",
              "}});\n",
              "\n",
              "// Listen for the removal of the full notebook cells\n",
              "var notebookContainer = gd.closest('#notebook-container');\n",
              "if (notebookContainer) {{\n",
              "    x.observe(notebookContainer, {childList: true});\n",
              "}}\n",
              "\n",
              "// Listen for the clearing of the current output cell\n",
              "var outputEl = gd.closest('.output');\n",
              "if (outputEl) {{\n",
              "    x.observe(outputEl, {childList: true});\n",
              "}}\n",
              "\n",
              "                        })\n",
              "                };\n",
              "                \n",
              "            </script>\n",
              "        </div>\n",
              "</body>\n",
              "</html>"
            ]
          },
          "metadata": {}
        }
      ]
    },
    {
      "cell_type": "markdown",
      "metadata": {
        "id": "TDOuPsuzidF6"
      },
      "source": [
        "As we can see, our model data is highly imbalanced and handling this should give us a good model for predicting high risk customers."
      ]
    },
    {
      "cell_type": "markdown",
      "metadata": {
        "id": "WYlfeMqyP-AV"
      },
      "source": [
        "# Feature Engineering for our Model using given customer attributes"
      ]
    },
    {
      "cell_type": "code",
      "metadata": {
        "colab": {
          "base_uri": "https://localhost:8080/",
          "height": 662
        },
        "id": "WgnYn_MIRWIL",
        "outputId": "7a8450e2-dc5a-48d5-d34b-e6c5b2618f54"
      },
      "source": [
        "# Distribution of our feature variables\n",
        "cust_df.hist(figsize=(30,15));"
      ],
      "execution_count": null,
      "outputs": [
        {
          "output_type": "display_data",
          "data": {
            "image/png": "[encoded data removed]",
            "text/plain": [
              "<Figure size 2160x1080 with 16 Axes>"
            ]
          },
          "metadata": {
            "needs_background": "light"
          }
        }
      ]
    },
    {
      "cell_type": "markdown",
      "metadata": {
        "id": "KCTW1Hf-Qssm"
      },
      "source": [
        "Firstly, it can be noticed that our data doesn't strictly follow a normal distribution curve and considering the variance in scales,<b> it would be best to normalize our data.</b> \n",
        "\n",
        "We can observe that we have some categorical features (Ex. fea_7, fea_3 etc.) as well as some continuous variables like (fea_2, fea_4, fea_8 etc.). \n",
        "\n",
        "Some of our continuous variables like fea_4 needs to be tranformed inorder to follow a bell curve and make them as \"normally distributed\" as possible which would make the results of the models built using these features more valid.\n",
        "\n",
        "We can accomplish the same using the Log transformation as shown below."
      ]
    },
    {
      "cell_type": "code",
      "metadata": {
        "colab": {
          "base_uri": "https://localhost:8080/",
          "height": 281
        },
        "id": "Wf1QIkAkQsHF",
        "outputId": "4764a825-0567-4bf2-83fa-fdc5bca54e79"
      },
      "source": [
        "cust_df['fea_4'] = np.log10(cust_df['fea_4'])\n",
        "cust_df.hist(['fea_4'],figsize=(7,4));"
      ],
      "execution_count": null,
      "outputs": [
        {
          "output_type": "display_data",
          "data": {
            "image/png": "[encoded data removed]",
            "text/plain": [
              "<Figure size 504x288 with 1 Axes>"
            ]
          },
          "metadata": {
            "needs_background": "light"
          }
        }
      ]
    },
    {
      "cell_type": "code",
      "metadata": {
        "colab": {
          "base_uri": "https://localhost:8080/",
          "height": 596
        },
        "id": "T535Ji4Q7ygA",
        "outputId": "c5ef1544-9911-4990-c587-c50cbcecdd48"
      },
      "source": [
        "plt.figure(figsize=(10,10))\n",
        "sns.heatmap(cust_df.corr(), cmap = 'inferno_r',annot= True);"
      ],
      "execution_count": null,
      "outputs": [
        {
          "output_type": "display_data",
          "data": {
            "image/png": "[encoded data removed]",
            "text/plain": [
              "<Figure size 720x720 with 2 Axes>"
            ]
          },
          "metadata": {
            "needs_background": "light"
          }
        }
      ]
    },
    {
      "cell_type": "markdown",
      "metadata": {
        "id": "fZg80QV99o0K"
      },
      "source": [
        "Although there are no positive correlations, we can notice some negative correlation between features: \n",
        "\n",
        "*   fea_10 and fea_7\n",
        "*   fea_3 and fea_2\n",
        "*   label and fea_4"
      ]
    },
    {
      "cell_type": "markdown",
      "metadata": {
        "id": "-LMSuuI5Djqy"
      },
      "source": [
        "Let's try to visualize the numerical features that we have identified."
      ]
    },
    {
      "cell_type": "code",
      "metadata": {
        "colab": {
          "base_uri": "https://localhost:8080/",
          "height": 542
        },
        "id": "hdbdjlhN-rmI",
        "outputId": "1c58f7a1-15f2-4097-df9d-8cf7714006fa"
      },
      "source": [
        "fig = px.scatter_3d(cust_df, x='fea_2', y='fea_4', z='fea_8',color='label')\n",
        "fig.show()"
      ],
      "execution_count": null,
      "outputs": [
        {
          "output_type": "display_data",
          "data": {
            "text/html": [
              "<html>\n",
              "<head><meta charset=\"utf-8\" /></head>\n",
              "<body>\n",
              "    <div>\n",
              "            <script src=\"https://cdnjs.cloudflare.com/ajax/libs/mathjax/2.7.5/MathJax.js?config=TeX-AMS-MML_SVG\"></script><script type=\"text/javascript\">if (window.MathJax) {MathJax.Hub.Config({SVG: {font: \"STIX-Web\"}});}</script>\n",
              "                <script type=\"text/javascript\">window.PlotlyConfig = {MathJaxConfig: 'local'};</script>\n",
              "        <script src=\"https://cdn.plot.ly/plotly-latest.min.js\"></script>    \n",
              "            <div id=\"155246e7-2c33-4e21-83c9-5f703328ddd2\" class=\"plotly-graph-div\" style=\"height:525px; width:100%;\"></div>\n",
              "            <script type=\"text/javascript\">\n",
              "                \n",
              "                    window.PLOTLYENV=window.PLOTLYENV || {};\n",
              "                    \n",
              "                if (document.getElementById(\"155246e7-2c33-4e21-83c9-5f703328ddd2\")) {\n",
              "                    Plotly.newPlot(\n",
              "                        '155246e7-2c33-4e21-83c9-5f703328ddd2',\n",
              "                        [{\"hoverlabel\": {\"namelength\": 0}, \"hovertemplate\": \"fea_2=%{x}<br>fea_4=%{y}<br>fea_8=%{z}<br>label=%{marker.color}\", \"legendgroup\": \"\", \"marker\": {\"color\": [1, 0, 0, 1, 0, 0, 1, 1, 0, 0, 0, 0, 0, 0, 0, 0, 0, 1, 1, 1, 0, 0, 0, 0, 0, 0, 1, 0, 1, 1, 0, 0, 0, 0, 0, 0, 0, 0, 1, 0, 0, 0, 0, 0, 0, 1, 0, 1, 0, 0, 0, 0, 0, 0, 0, 0, 0, 0, 0, 1, 0, 0, 1, 0, 0, 1, 0, 1, 1, 0, 0, 0, 0, 0, 0, 0, 0, 1, 0, 0, 1, 0, 0, 0, 0, 1, 0, 0, 0, 0, 0, 0, 0, 0, 1, 0, 0, 0, 0, 0, 0, 0, 1, 1, 0, 0, 0, 0, 0, 0, 0, 1, 1, 0, 0, 0, 0, 0, 0, 0, 1, 0, 0, 0, 1, 0, 0, 0, 0, 0, 0, 1, 0, 0, 1, 0, 0, 0, 0, 0, 0, 0, 1, 0, 0, 0, 1, 0, 0, 0, 0, 0, 0, 1, 0, 0, 1, 0, 0, 0, 0, 0, 0, 0, 0, 0, 0, 0, 0, 1, 0, 1, 0, 1, 1, 0, 0, 0, 0, 0, 1, 1, 0, 0, 0, 1, 0, 1, 0, 0, 0, 0, 0, 1, 0, 0, 1, 0, 0, 0, 0, 0, 0, 1, 0, 0, 0, 0, 0, 1, 0, 0, 0, 1, 1, 0, 0, 0, 1, 0, 0, 0, 0, 0, 0, 1, 0, 0, 0, 0, 0, 0, 1, 0, 0, 1, 0, 1, 0, 1, 0, 0, 1, 0, 1, 0, 0, 0, 0, 0, 1, 0, 0, 0, 1, 1, 0, 0, 0, 0, 1, 0, 0, 0, 0, 0, 0, 0, 0, 0, 0, 1, 1, 1, 0, 0, 1, 0, 0, 0, 0, 0, 1, 1, 0, 1, 0, 0, 1, 0, 0, 0, 1, 0, 1, 0, 0, 0, 0, 1, 0, 0, 0, 0, 0, 0, 0, 0, 0, 0, 0, 0, 0, 0, 0, 0, 0, 0, 0, 0, 0, 0, 0, 0, 0, 0, 0, 1, 1, 0, 1, 0, 0, 0, 1, 1, 0, 0, 0, 0, 0, 0, 0, 1, 0, 1, 0, 0, 0, 0, 0, 1, 0, 1, 0, 0, 0, 0, 0, 0, 0, 1, 0, 1, 0, 0, 1, 0, 1, 0, 1, 0, 0, 0, 0, 0, 0, 0, 0, 0, 0, 0, 1, 0, 1, 0, 0, 0, 1, 0, 1, 0, 0, 1, 0, 0, 0, 0, 1, 0, 0, 0, 0, 1, 1, 0, 0, 0, 0, 0, 0, 0, 0, 0, 0, 0, 0, 0, 1, 0, 0, 0, 0, 0, 0, 0, 0, 0, 0, 0, 0, 0, 0, 0, 0, 1, 0, 1, 1, 0, 0, 0, 0, 1, 0, 1, 1, 0, 0, 0, 0, 0, 1, 0, 0, 0, 1, 0, 0, 0, 1, 0, 1, 0, 0, 0, 0, 0, 0, 1, 0, 0, 0, 0, 1, 0, 0, 0, 0, 0, 0, 0, 0, 0, 0, 0, 0, 0, 1, 0, 1, 0, 0, 0, 0, 0, 0, 0, 1, 0, 0, 0, 0, 1, 0, 0, 0, 1, 0, 0, 0, 0, 0, 1, 0, 0, 0, 0, 0, 0, 0, 0, 0, 0, 0, 0, 0, 0, 0, 0, 0, 0, 0, 0, 0, 1, 1, 0, 0, 1, 0, 1, 1, 0, 1, 1, 0, 0, 0, 0, 1, 1, 0, 0, 0, 1, 1, 0, 1, 0, 0, 0, 0, 0, 1, 0, 1, 0, 0, 1, 0, 0, 0, 0, 0, 0, 0, 0, 1, 0, 0, 1, 1, 0, 1, 0, 1, 0, 1, 0, 0, 1, 0, 0, 0, 0, 0, 1, 0, 0, 0, 0, 0, 0, 0, 0, 0, 1, 0, 0, 0, 0, 1, 0, 0, 0, 0, 1, 0, 0, 0, 0, 0, 0, 1, 0, 0, 0, 0, 1, 0, 0, 0, 0, 0, 1, 0, 1, 0, 1, 0, 0, 0, 0, 1, 0, 0, 1, 1, 0, 0, 1, 0, 0, 0, 0, 0, 0, 0, 0, 1, 0, 1, 1, 0, 0, 0, 0, 0, 0, 0, 0, 1, 0, 0, 0, 0, 0, 1, 0, 0, 0, 0, 0, 0, 0, 0, 0, 0, 0, 1, 0, 0, 1, 0, 0, 1, 0, 1, 0, 0, 1, 0, 0, 0, 1, 1, 0, 0, 0, 0, 0, 1, 0, 0, 1, 0, 0, 0, 0, 1, 0, 0, 0, 0, 0, 0, 0, 0, 0, 1, 0, 1, 1, 0, 0, 0, 0, 0, 0, 0, 0, 1, 0, 0, 0, 0, 0, 0, 0, 0, 0, 0, 0, 0, 0, 0, 0, 1, 0, 0, 1, 0, 0, 0, 0, 0, 0, 1, 0, 0, 0, 0, 0, 1, 0, 1, 0, 0, 0, 0, 0, 1, 0, 1, 0, 0, 0, 0, 1, 0, 1, 0, 0, 0, 0, 0, 1, 0, 0, 0, 0, 0, 1, 0, 0, 0, 0, 0, 0, 0, 0, 0, 0, 0, 0, 0, 0, 0, 0, 0, 0, 0, 0, 0, 1, 1, 0, 0, 0, 0, 0, 0, 0, 0, 1, 0, 0, 0, 0, 0, 0, 0, 0, 0, 0, 0, 0, 0, 0, 0, 0, 0, 0, 0, 0, 0, 1, 0, 0, 1, 1, 0, 1, 0, 0, 0, 0, 0, 0, 1, 0, 0, 0, 0, 0, 0, 1, 0, 0, 0, 0, 0, 0, 0, 0, 0, 0, 0, 1, 0, 0, 1, 1, 0, 0, 0, 0, 0, 1, 1, 0, 1, 1, 0, 1, 1, 0, 0, 1, 0, 0, 0, 0, 0, 0, 0, 1, 0, 0, 0, 0, 0, 0, 0, 0, 0, 0, 0, 0, 1, 0, 0, 0, 0, 0, 0, 0, 0, 0, 0, 0, 1, 0, 0, 0, 0, 0, 0, 1, 1, 1, 0, 0, 0, 0, 0, 0, 0, 0, 1, 0, 0, 0, 0, 0, 0, 0, 0, 1, 0, 0, 0, 1, 0, 0, 0, 0, 1, 0, 0, 0, 0, 0, 0, 0, 0, 0, 0, 0, 0, 1, 1, 0, 0, 0, 0, 0, 0, 0, 0, 1, 0, 0, 0, 0, 0, 0, 0, 0, 0, 0, 0, 0, 0, 0, 0, 0, 0, 0, 0, 0, 1, 0, 0, 1, 0, 1, 0, 0, 0, 0, 0, 0, 0, 1, 0, 0, 0, 0, 0, 1, 0, 0, 0, 0, 0, 0, 0, 1, 0, 0, 0, 0, 0, 0, 0, 0, 0, 0, 0, 0, 1, 0, 1, 1, 0, 1, 0, 0, 0, 1, 0, 0, 0, 0, 1, 0, 0, 1, 0, 0, 0, 0, 0, 0, 0, 0, 0, 0, 0, 0, 0, 0, 0, 0, 0, 0, 0, 0, 0, 1, 0, 1, 0, 1, 0, 0, 0, 0, 0, 0, 0, 0, 0, 0, 0, 0, 0, 0, 0, 0, 0, 0, 0], \"coloraxis\": \"coloraxis\", \"symbol\": \"circle\"}, \"mode\": \"markers\", \"name\": \"\", \"scene\": \"scene\", \"showlegend\": false, \"type\": \"scatter3d\", \"x\": [1245.5, 1277.0, 1298.0, 1335.5, 1283.9113729508197, 1217.0, 1304.0, 1256.0, 1323.5, 1283.9113729508197, 1314.5, 1250.0, 1223.0, 1283.9113729508197, 1365.5, 1257.5, 1214.0, 1241.0, 1241.0, 1283.9113729508197, 1283.9113729508197, 1305.5, 1277.0, 1304.0, 1320.5, 1290.5, 1283.9113729508197, 1455.5, 1242.5, 1239.5, 1335.5, 1355.0, 1283.9113729508197, 1338.5, 1259.0, 1364.0, 1283.9113729508197, 1335.5, 1272.5, 1347.5, 1191.5, 1298.0, 1469.0, 1283.9113729508197, 1400.0, 1302.5, 1314.5, 1317.5, 1314.5, 1280.0, 1287.5, 1241.0, 1187.0, 1350.5, 1302.5, 1205.0, 1130.0, 1352.0, 1223.0, 1235.0, 1334.0, 1214.0, 1241.0, 1293.5, 1382.0, 1283.9113729508197, 1323.5, 1206.5, 1214.0, 1272.5, 1322.0, 1239.5, 1328.0, 1371.5, 1313.0, 1212.5, 1322.0, 1214.0, 1305.5, 1278.5, 1241.0, 1281.5, 1230.5, 1283.9113729508197, 1257.5, 1305.5, 1223.0, 1214.0, 1235.0, 1266.5, 1304.0, 1283.9113729508197, 1283.9113729508197, 1244.0, 1314.5, 1386.5, 1283.9113729508197, 1257.5, 1269.5, 1304.0, 1283.0, 1283.9113729508197, 1283.9113729508197, 1265.0, 1256.0, 1314.5, 1320.5, 1377.5, 1415.0, 1272.5, 1278.5, 1254.5, 1239.5, 1281.5, 1376.0, 1350.5, 1338.5, 1250.0, 1307.0, 1235.0, 1308.5, 1340.0, 1214.0, 1230.5, 1241.0, 1283.9113729508197, 1284.5, 1308.5, 1227.5, 1277.0, 1277.0, 1347.5, 1283.9113729508197, 1266.5, 1268.0, 1265.0, 1310.0, 1290.5, 1272.5, 1304.0, 1277.0, 1356.5, 1262.0, 1247.0, 1235.0, 1196.0, 1269.5, 1256.0, 1254.5, 1239.5, 1241.0, 1341.5, 1317.5, 1326.5, 1310.0, 1274.0, 1283.9113729508197, 1317.5, 1346.0, 1277.0, 1338.5, 1316.0, 1272.5, 1269.5, 1283.0, 1329.5, 1266.5, 1248.5, 1340.0, 1292.0, 1266.5, 1283.9113729508197, 1268.0, 1242.5, 1272.5, 1283.9113729508197, 1298.0, 1298.0, 1283.9113729508197, 1214.0, 1355.0, 1289.0, 1295.0, 1308.5, 1283.9113729508197, 1188.5, 1290.5, 1305.5, 1230.5, 1283.9113729508197, 1283.9113729508197, 1287.5, 1290.5, 1367.0, 1419.5, 1307.0, 1322.0, 1250.0, 1179.5, 1283.9113729508197, 1269.5, 1316.0, 1272.5, 1262.0, 1443.5, 1187.0, 1338.5, 1283.9113729508197, 1296.5, 1355.0, 1253.0, 1296.5, 1283.9113729508197, 1283.9113729508197, 1302.5, 1238.0, 1214.0, 1283.9113729508197, 1290.5, 1245.5, 1316.0, 1283.9113729508197, 1332.5, 1290.5, 1259.0, 1283.9113729508197, 1245.5, 1296.5, 1283.9113729508197, 1349.0, 1319.0, 1301.0, 1241.0, 1397.0, 1224.5, 1307.0, 1236.5, 1305.5, 1305.5, 1238.0, 1229.0, 1305.5, 1205.0, 1266.5, 1349.0, 1283.9113729508197, 1247.0, 1232.0, 1367.0, 1298.0, 1259.0, 1233.5, 1352.0, 1370.0, 1325.0, 1295.0, 1329.5, 1310.0, 1274.0, 1326.5, 1334.0, 1256.0, 1320.5, 1257.5, 1425.5, 1248.5, 1328.0, 1283.9113729508197, 1242.5, 1263.5, 1313.0, 1322.0, 1283.9113729508197, 1263.5, 1221.5, 1289.0, 1283.9113729508197, 1307.0, 1283.9113729508197, 1190.0, 1353.5, 1257.5, 1272.5, 1283.9113729508197, 1238.0, 1280.0, 1263.5, 1293.5, 1190.0, 1262.0, 1358.0, 1217.0, 1223.0, 1287.5, 1361.0, 1223.0, 1283.9113729508197, 1283.9113729508197, 1298.0, 1326.5, 1170.5, 1325.0, 1320.5, 1256.0, 1304.0, 1283.9113729508197, 1238.0, 1214.0, 1368.5, 1262.0, 1362.5, 1253.0, 1220.0, 1236.5, 1223.0, 1290.5, 1305.5, 1241.0, 1397.0, 1314.5, 1305.5, 1223.0, 1304.0, 1223.0, 1256.0, 1233.5, 1281.5, 1242.5, 1281.5, 1328.0, 1283.9113729508197, 1277.0, 1335.5, 1239.5, 1299.5, 1214.0, 1283.9113729508197, 1298.0, 1419.5, 1241.0, 1304.0, 1301.0, 1266.5, 1283.9113729508197, 1269.5, 1308.5, 1304.0, 1304.0, 1307.0, 1235.0, 1277.0, 1253.0, 1242.5, 1241.0, 1116.5, 1287.5, 1251.5, 1350.5, 1305.5, 1388.0, 1320.5, 1283.9113729508197, 1376.0, 1365.5, 1239.5, 1223.0, 1274.0, 1301.0, 1323.5, 1227.5, 1299.5, 1317.5, 1259.0, 1298.0, 1284.5, 1284.5, 1334.0, 1314.5, 1298.0, 1278.5, 1257.5, 1320.5, 1125.5, 1283.9113729508197, 1259.0, 1266.5, 1266.5, 1377.5, 1242.5, 1352.0, 1308.5, 1265.0, 1320.5, 1304.0, 1308.5, 1283.0, 1316.0, 1275.5, 1283.9113729508197, 1367.0, 1211.0, 1293.5, 1275.5, 1328.0, 1241.0, 1311.5, 1197.5, 1245.5, 1283.9113729508197, 1272.5, 1239.5, 1289.0, 1290.5, 1227.5, 1283.9113729508197, 1253.0, 1283.9113729508197, 1244.0, 1230.5, 1233.5, 1283.9113729508197, 1257.5, 1302.5, 1230.5, 1245.5, 1244.0, 1302.5, 1283.9113729508197, 1320.5, 1304.0, 1287.5, 1283.9113729508197, 1214.0, 1262.0, 1277.0, 1211.0, 1251.5, 1343.0, 1251.5, 1275.5, 1262.0, 1248.5, 1283.9113729508197, 1223.0, 1257.5, 1391.0, 1283.9113729508197, 1232.0, 1364.0, 1313.0, 1266.5, 1296.5, 1239.5, 1244.0, 1215.5, 1250.0, 1361.0, 1361.0, 1251.5, 1314.5, 1256.0, 1283.9113729508197, 1212.5, 1322.0, 1226.0, 1256.0, 1268.0, 1341.5, 1265.0, 1218.5, 1257.5, 1283.9113729508197, 1341.5, 1230.5, 1283.9113729508197, 1257.5, 1292.0, 1376.0, 1227.5, 1241.0, 1287.5, 1302.5, 1313.0, 1292.0, 1263.5, 1308.5, 1265.0, 1163.0, 1283.9113729508197, 1283.9113729508197, 1245.5, 1253.0, 1299.5, 1212.5, 1356.5, 1298.0, 1287.5, 1275.5, 1293.5, 1260.5, 1266.5, 1286.0, 1353.5, 1283.9113729508197, 1191.5, 1241.0, 1283.9113729508197, 1305.5, 1314.5, 1268.0, 1287.5, 1296.5, 1290.5, 1328.0, 1317.5, 1215.5, 1362.5, 1283.9113729508197, 1263.5, 1277.0, 1214.0, 1272.5, 1322.0, 1356.5, 1313.0, 1358.0, 1310.0, 1260.5, 1296.5, 1250.0, 1226.0, 1296.5, 1283.9113729508197, 1245.5, 1283.9113729508197, 1283.9113729508197, 1223.0, 1338.5, 1272.5, 1215.5, 1364.0, 1179.5, 1310.0, 1323.5, 1256.0, 1283.9113729508197, 1283.9113729508197, 1283.9113729508197, 1241.0, 1227.5, 1256.0, 1218.5, 1227.5, 1316.0, 1449.5, 1245.5, 1230.5, 1223.0, 1304.0, 1241.0, 1262.0, 1278.5, 1407.5, 1274.0, 1223.0, 1218.5, 1299.5, 1278.5, 1230.5, 1283.9113729508197, 1239.5, 1214.0, 1256.0, 1239.5, 1254.5, 1340.0, 1304.0, 1266.5, 1316.0, 1296.5, 1340.0, 1272.5, 1305.5, 1230.5, 1283.9113729508197, 1325.0, 1283.9113729508197, 1311.5, 1266.5, 1241.0, 1289.0, 1230.5, 1283.9113729508197, 1367.0, 1350.5, 1206.5, 1271.0, 1241.0, 1406.0, 1443.5, 1308.5, 1343.0, 1278.5, 1290.5, 1281.5, 1214.0, 1283.9113729508197, 1227.5, 1295.0, 1256.0, 1304.0, 1283.9113729508197, 1269.5, 1338.5, 1347.5, 1310.0, 1244.0, 1283.9113729508197, 1262.0, 1287.5, 1469.0, 1283.9113729508197, 1311.5, 1302.5, 1283.9113729508197, 1257.5, 1311.5, 1287.5, 1283.9113729508197, 1295.0, 1247.0, 1343.0, 1280.0, 1325.0, 1286.0, 1200.5, 1322.0, 1256.0, 1289.0, 1311.5, 1308.5, 1362.5, 1356.5, 1277.0, 1239.5, 1214.0, 1266.5, 1377.5, 1358.0, 1379.0, 1371.5, 1365.5, 1271.0, 1259.0, 1283.9113729508197, 1274.0, 1283.9113729508197, 1248.5, 1268.0, 1233.5, 1214.0, 1241.0, 1262.0, 1257.5, 1350.5, 1262.0, 1415.0, 1268.0, 1266.5, 1248.5, 1305.5, 1322.0, 1310.0, 1305.5, 1251.5, 1320.5, 1307.0, 1220.0, 1313.0, 1266.5, 1215.5, 1413.5, 1272.5, 1245.5, 1283.9113729508197, 1257.5, 1338.5, 1211.0, 1223.0, 1191.5, 1386.5, 1326.5, 1287.5, 1281.5, 1283.0, 1229.0, 1283.9113729508197, 1284.5, 1257.5, 1278.5, 1305.5, 1250.0, 1316.0, 1274.0, 1310.0, 1283.9113729508197, 1205.0, 1299.5, 1241.0, 1322.0, 1329.5, 1292.0, 1292.0, 1223.0, 1238.0, 1214.0, 1226.0, 1283.9113729508197, 1260.5, 1400.0, 1289.0, 1263.5, 1308.5, 1283.9113729508197, 1290.5, 1364.0, 1259.0, 1283.9113729508197, 1283.9113729508197, 1275.5, 1241.0, 1340.0, 1344.5, 1371.5, 1215.5, 1191.5, 1266.5, 1214.0, 1310.0, 1332.5, 1353.5, 1377.5, 1283.9113729508197, 1241.0, 1223.0, 1241.0, 1298.0, 1362.5, 1358.0, 1271.0, 1232.0, 1322.0, 1350.5, 1266.5, 1250.0, 1296.5, 1290.5, 1283.9113729508197, 1241.0, 1319.0, 1250.0, 1277.0, 1313.0, 1283.9113729508197, 1317.5, 1214.0, 1322.0, 1250.0, 1281.5, 1239.5, 1232.0, 1289.0, 1281.5, 1214.0, 1283.9113729508197, 1299.5, 1283.9113729508197, 1241.0, 1286.0, 1218.5, 1293.5, 1227.5, 1287.5, 1322.0, 1230.5, 1283.9113729508197, 1335.5, 1223.0, 1410.5, 1187.0, 1283.9113729508197, 1268.0, 1266.5, 1227.5, 1289.0, 1235.0, 1283.9113729508197, 1272.5, 1287.5, 1308.5, 1349.0, 1278.5, 1481.0, 1230.5, 1404.5, 1239.5, 1299.5, 1241.0, 1269.5, 1215.5, 1319.0, 1250.0, 1323.5, 1293.5, 1250.0, 1269.5, 1287.5, 1283.9113729508197, 1314.5, 1314.5, 1283.9113729508197, 1314.5, 1214.0, 1194.5, 1278.5, 1299.5, 1389.5, 1298.0, 1322.0, 1283.9113729508197, 1292.0, 1305.5, 1283.9113729508197, 1283.9113729508197, 1283.9113729508197, 1214.0, 1203.5, 1250.0, 1283.9113729508197, 1346.0, 1302.5, 1200.5, 1283.9113729508197, 1223.0, 1283.9113729508197, 1307.0, 1287.5, 1283.9113729508197, 1364.0, 1283.9113729508197, 1308.5, 1283.9113729508197, 1475.0, 1283.9113729508197, 1206.5, 1280.0, 1322.0, 1283.9113729508197, 1283.9113729508197, 1226.0, 1283.9113729508197, 1224.5, 1220.0, 1253.0, 1203.5, 1232.0, 1320.5, 1296.5, 1308.5, 1283.9113729508197, 1239.5, 1326.5, 1269.5, 1278.5, 1337.0, 1329.5, 1250.0, 1241.0, 1305.5, 1317.5, 1283.9113729508197, 1332.5, 1361.0, 1328.0, 1283.9113729508197, 1290.5, 1308.5, 1259.0, 1283.9113729508197, 1230.5, 1283.9113729508197, 1241.0, 1289.0, 1287.5, 1269.5, 1220.0, 1326.5, 1229.0, 1241.0, 1319.0, 1365.5, 1229.0, 1305.5, 1214.0, 1251.5, 1316.0, 1241.0, 1233.5, 1283.9113729508197, 1304.0, 1370.0, 1299.5, 1280.0, 1287.5, 1283.9113729508197, 1331.0, 1257.5, 1277.0, 1241.0, 1311.5, 1287.5, 1283.9113729508197, 1299.5, 1263.5, 1242.5, 1251.5, 1241.0, 1296.5, 1328.0, 1283.0, 1274.0, 1214.0, 1283.9113729508197, 1283.9113729508197, 1373.0, 1323.5, 1283.9113729508197, 1305.5, 1278.5, 1286.0, 1223.0, 1148.0, 1334.0, 1244.0, 1316.0, 1338.5, 1305.5, 1275.5, 1283.9113729508197, 1245.5, 1283.9113729508197, 1283.9113729508197, 1266.5, 1352.0, 1229.0, 1212.5, 1214.0, 1224.5, 1365.5, 1287.5, 1346.0, 1289.0, 1257.5, 1283.9113729508197, 1304.0, 1286.0, 1277.0, 1268.0, 1244.0, 1332.5, 1239.5, 1251.5, 1278.5, 1241.0, 1292.0, 1283.9113729508197, 1352.0, 1239.5, 1353.5, 1386.5, 1236.5, 1241.0, 1335.5, 1283.9113729508197, 1356.5, 1250.0, 1323.5, 1314.5, 1304.0, 1283.9113729508197, 1238.0, 1164.5, 1382.0, 1350.5, 1283.9113729508197, 1227.5, 1281.5, 1250.0, 1329.5, 1283.9113729508197, 1224.5, 1214.0, 1379.0, 1257.5, 1260.5, 1292.0, 1278.5, 1275.5, 1290.5, 1314.5, 1341.5, 1283.9113729508197, 1322.0, 1283.9113729508197, 1310.0, 1271.0, 1274.0, 1166.0, 1244.0, 1311.5, 1202.0, 1245.5, 1250.0, 1365.5, 1305.5, 1244.0, 1301.0, 1332.5, 1239.5, 1284.5, 1241.0, 1338.5, 1287.5, 1262.0, 1328.0, 1272.5, 1229.0, 1257.5, 1274.0, 1223.0, 1305.5, 1215.5, 1283.9113729508197, 1293.5, 1311.5, 1241.0, 1283.9113729508197, 1328.0, 1283.9113729508197, 1283.9113729508197, 1316.0, 1305.5, 1283.9113729508197, 1283.9113729508197, 1209.5, 1320.5, 1292.0, 1326.5, 1380.5, 1304.0, 1233.5, 1365.5, 1389.5, 1283.0, 1302.5, 1241.0, 1271.0, 1214.0, 1256.0, 1364.0, 1283.9113729508197, 1281.5, 1352.0, 1272.5, 1248.5, 1380.5, 1278.5, 1248.5, 1290.5, 1320.5, 1293.5, 1374.5, 1268.0, 1205.0, 1316.0, 1248.5, 1352.0, 1304.0, 1230.5, 1328.0, 1403.0, 1391.0, 1293.5, 1230.5, 1370.0, 1338.5, 1292.0, 1283.9113729508197, 1272.5, 1257.5, 1283.9113729508197, 1308.5, 1296.5, 1287.5, 1268.0, 1283.9113729508197, 1262.0, 1283.9113729508197, 1283.9113729508197, 1259.0, 1223.0, 1170.5, 1322.0, 1311.5, 1272.5, 1235.0, 1343.0, 1283.9113729508197, 1137.5, 1320.5, 1289.0, 1283.9113729508197, 1220.0, 1250.0, 1415.0], \"y\": [4.886490725172482, 5.05307844348342, 5.041392685158225, 5.17897694729317, 4.770852011642144, 4.748188027006201, 4.544068044350276, 4.892094602690481, 5.338456493604605, 4.544068044350276, 5.683947130751513, 4.977723605288848, 4.9084850188786495, 4.880813592280791, 4.982271233039568, 5.1003705451175625, 4.9084850188786495, 4.892094602690481, 5.045322978786658, 4.672097857935717, 4.886490725172482, 5.110589710299249, 5.176091259055681, 4.544068044350276, 5.214843848047698, 5.075546961392531, 4.531478917042255, 4.544068044350276, 4.8512583487190755, 4.897627091290442, 5.176091259055681, 5.247973266361806, 5.3560258571931225, 4.477121254719663, 4.869231719730976, 5.301029995663981, 4.954242509439325, 5.1003705451175625, 4.698970004336019, 5.593286067020458, 4.698970004336019, 5.103803720955957, 5.041392685158225, 4.690196080028514, 5.0, 4.963787827345556, 5.103803720955957, 5.103803720955957, 4.949390006644912, 4.982271233039568, 5.143014800254095, 4.778151250383644, 4.954242509439325, 5.3747483460101035, 4.963787827345556, 4.785329835010767, 6.0, 5.225309281725863, 4.863322860120456, 5.004321373782642, 5.008600171761918, 4.832508912706237, 4.740362689494244, 5.660865478003869, 4.880813592280791, 5.1003705451175625, 5.012837224705172, 4.690196080028514, 4.770852011642144, 4.845098040014257, 4.544068044350276, 4.832508912706237, 5.1702617153949575, 4.913813852383717, 5.123851640967086, 5.096910013008056, 5.017033339298781, 4.707570176097937, 4.959041392321094, 5.060697840353612, 4.8750612633917, 5.482873583608754, 4.763427993562937, 4.763427993562937, 4.924279286061882, 4.770852011642144, 4.954242509439325, 5.071882007306125, 4.924279286061882, 5.217483944213907, 5.0, 4.8061799739838875, 5.033423755486949, 4.770852011642144, 5.247973266361806, 5.471291711058939, 4.544068044350276, 4.959041392321094, 5.02938377768521, 4.778151250383644, 4.954242509439325, 5.143014800254095, 4.778151250383644, 4.845098040014257, 5.1003705451175625, 5.176091259055681, 5.139879086401237, 4.982271233039568, 5.190331698170292, 5.155336037465061, 5.269512944217916, 5.0, 4.954242509439325, 4.991226075692495, 5.176091259055681, 5.041392685158225, 5.049218022670182, 5.222716471147583, 5.123851640967086, 4.8750612633917, 4.477121254719663, 5.064457989226918, 4.9084850188786495, 5.110589710299249, 4.778151250383644, 4.977723605288848, 5.02530586526477, 4.544068044350276, 4.7923916894982534, 5.152288344383057, 4.991226075692495, 5.176091259055681, 4.913813852383717, 4.949390006644912, 4.959041392321094, 4.954242509439325, 5.698970004336019, 4.99563519459755, 4.986771734266245, 5.5910646070264995, 5.0, 5.1702617153949575, 5.235528446907549, 4.8512583487190755, 4.949390006644912, 4.812913356642856, 4.9344984512435675, 5.041392685158225, 4.986771734266245, 4.892094602690481, 4.799340549453582, 4.959041392321094, 5.466867620354109, 4.477121254719663, 5.511883360978874, 5.103803720955957, 4.477121254719663, 5.176091259055681, 5.049218022670182, 5.004321373782642, 5.217483944213907, 5.068185861746161, 5.230448921378274, 5.243038048686294, 4.973127853599698, 5.176091259055681, 5.113943352306837, 4.991226075692495, 5.532754378992498, 5.075546961392531, 5.079181246047625, 4.954242509439325, 5.017033339298781, 4.748188027006201, 4.903089986991944, 4.7558748556724915, 4.8512583487190755, 5.004321373782642, 5.1003705451175625, 4.763427993562937, 4.973127853599698, 5.02938377768521, 5.064457989226918, 5.155336037465061, 4.724275869600789, 4.954242509439325, 5.071882007306125, 4.544068044350276, 5.056904851336473, 5.252853030979893, 4.973127853599698, 5.041392685158225, 5.012837224705172, 5.222716471147583, 4.949390006644912, 4.959041392321094, 5.290034611362518, 4.968482948553935, 4.748188027006201, 4.5910646070264995, 4.886490725172482, 5.103803720955957, 5.359835482339888, 5.17897694729317, 5.190331698170292, 5.008600171761918, 5.02938377768521, 5.413299764081252, 5.113943352306837, 5.204119982655925, 5.670245853074124, 5.139879086401237, 5.02530586526477, 4.698970004336019, 5.247973266361806, 5.096910013008056, 4.748188027006201, 4.653212513775344, 5.05307844348342, 4.763427993562937, 5.698970004336019, 4.986771734266245, 4.991226075692495, 5.033423755486949, 5.1673173347481764, 5.649334858712142, 4.939519252618618, 5.1702617153949575, 4.8750612633917, 5.143014800254095, 4.944482672150168, 5.056904851336473, 4.778151250383644, 5.117271295655764, 4.748188027006201, 5.260071387985075, 5.176091259055681, 5.107209969647869, 5.068185861746161, 4.8750612633917, 4.698970004336019, 5.113943352306837, 4.886490725172482, 4.913813852383717, 5.456366033129043, 4.799340549453582, 4.819543935541868, 4.982271233039568, 4.903089986991944, 5.217483944213907, 4.973127853599698, 4.892094602690481, 5.107209969647869, 5.595496221825574, 5.1003705451175625, 4.544068044350276, 5.2576785748691846, 5.107209969647869, 5.12057393120585, 4.959041392321094, 4.9344984512435675, 5.113943352306837, 5.086359830674748, 5.041392685158225, 5.164352855784437, 4.698970004336019, 4.8512583487190755, 4.863322860120456, 4.845098040014257, 4.544068044350276, 4.991226075692495, 4.477121254719663, 4.681241237375588, 4.724275869600789, 4.986771734266245, 4.832508912706237, 4.763427993562937, 4.5910646070264995, 4.857332496431268, 5.107209969647869, 5.096910013008056, 4.544068044350276, 4.880813592280791, 4.672097857935717, 4.770852011642144, 5.079181246047625, 5.0, 5.173186268412274, 4.977723605288848, 5.017033339298781, 5.004321373782642, 5.477121254719663, 4.698970004336019, 4.944482672150168, 4.477121254719663, 4.832508912706237, 4.99563519459755, 5.021189299069938, 5.056904851336473, 5.318063334962762, 4.8512583487190755, 4.698970004336019, 5.089905111439398, 5.079181246047625, 4.991226075692495, 4.681241237375588, 5.017033339298781, 4.913813852383717, 5.5910646070264995, 5.08278537031645, 4.919078092376074, 4.698970004336019, 5.419955748489758, 4.7160033436347994, 4.986771734266245, 5.146128035678238, 5.089905111439398, 4.477121254719663, 5.281033367247727, 5.247973266361806, 5.071882007306125, 4.886490725172482, 5.113943352306837, 4.857332496431268, 5.14921911265538, 4.770852011642144, 5.482873583608754, 4.748188027006201, 4.8750612633917, 5.260071387985075, 4.8750612633917, 5.075546961392531, 5.267171728403014, 4.929418925714293, 5.1303337684950066, 4.748188027006201, 4.954242509439325, 5.107209969647869, 4.785329835010767, 4.707570176097937, 5.1303337684950066, 4.8750612633917, 5.041392685158225, 4.973127853599698, 5.2552725051033065, 4.5910646070264995, 4.544068044350276, 5.4623979978989565, 4.903089986991944, 4.832508912706237, 5.209515014542631, 4.924279286061882, 4.477121254719663, 4.812913356642856, 5.330413773349191, 5.05307844348342, 5.02530586526477, 5.136720567156407, 4.857332496431268, 4.8750612633917, 5.089905111439398, 4.698970004336019, 5.152288344383057, 5.155336037465061, 4.857332496431268, 4.748188027006201, 5.588831725594207, 4.886490725172482, 5.181843587944773, 4.544068044350276, 4.477121254719663, 4.9084850188786495, 4.544068044350276, 5.0, 4.913813852383717, 5.158362492095249, 5.033423755486949, 4.986771734266245, 4.544068044350276, 5.117271295655764, 5.158362492095249, 5.113943352306837, 4.897627091290442, 5.568201724066995, 5.08278537031645, 5.017033339298781, 5.281033367247727, 4.892094602690481, 4.8750612633917, 5.152288344383057, 5.127104798364807, 5.079181246047625, 5.146128035678238, 4.799340549453582, 5.096910013008056, 5.164352855784437, 5.155336037465061, 5.453318340047038, 4.886490725172482, 5.3692158574101425, 4.986771734266245, 5.056904851336473, 5.133538908370218, 5.176091259055681, 4.748188027006201, 5.332438459915605, 4.799340549453582, 5.0, 4.7558748556724915, 5.139879086401237, 5.033423755486949, 5.113943352306837, 5.075546961392531, 5.041392685158225, 4.770852011642144, 4.986771734266245, 5.017033339298781, 5.02938377768521, 5.096910013008056, 5.278753600952829, 5.113943352306837, 4.977723605288848, 5.021189299069938, 4.7558748556724915, 5.041392685158225, 4.986771734266245, 5.324282455297693, 4.698970004336019, 5.161368002234975, 5.110589710299249, 5.181843587944773, 5.103803720955957, 4.707570176097937, 5.02530586526477, 5.385606273598312, 4.8512583487190755, 5.05307844348342, 5.740362689494244, 4.707570176097937, 5.086359830674748, 4.968482948553935, 5.456366033129043, 4.662757831681574, 4.863322860120456, 4.544068044350276, 5.049218022670182, 4.819543935541868, 5.0, 5.152288344383057, 5.515873843711679, 4.9344984512435675, 5.3979400086720375, 5.376576957056512, 5.075546961392531, 5.0, 5.008600171761918, 5.437750562820388, 4.886490725172482, 5.556302500767287, 5.2455126678141495, 5.008600171761918, 4.845098040014257, 4.785329835010767, 5.060697840353612, 4.954242509439325, 4.832508912706237, 5.578639209968072, 5.049218022670182, 5.1303337684950066, 5.004321373782642, 4.977723605288848, 5.008600171761918, 5.26245108973043, 4.892094602690481, 4.643452676486188, 4.544068044350276, 5.113943352306837, 4.886490725172482, 4.698970004336019, 4.7160033436347994, 5.1003705451175625, 5.155336037465061, 5.05307844348342, 5.113943352306837, 5.079181246047625, 5.645422269349092, 5.071882007306125, 4.623249290397901, 4.653212513775344, 5.068185861746161, 4.9084850188786495, 4.857332496431268, 4.544068044350276, 4.863322860120456, 5.296665190261531, 5.093421685162235, 5.008600171761918, 4.954242509439325, 4.939519252618618, 5.060697840353612, 5.315970345456917, 4.99563519459755, 5.271841606536499, 4.653212513775344, 4.724275869600789, 4.732393759822968, 5.071882007306125, 4.939519252618618, 5.075546961392531, 5.071882007306125, 5.041392685158225, 4.880813592280791, 5.064457989226918, 5.103803720955957, 4.949390006644912, 4.544068044350276, 5.176091259055681, 4.57978359661681, 5.1003705451175625, 5.004321373782642, 4.9084850188786495, 4.690196080028514, 4.939519252618618, 5.342422680822207, 5.528916700277655, 5.209515014542631, 5.431363764158987, 5.041392685158225, 5.113943352306837, 4.913813852383717, 4.785329835010767, 4.973127853599698, 4.857332496431268, 4.763427993562937, 5.307496037913213, 4.845098040014257, 4.740362689494244, 5.209515014542631, 5.075546961392531, 4.763427993562937, 5.414973347970818, 4.690196080028514, 4.944482672150168, 5.086359830674748, 5.2552725051033065, 4.643452676486188, 4.8512583487190755, 4.857332496431268, 4.869231719730976, 4.826074802700826, 4.982271233039568, 4.681241237375588, 5.3979400086720375, 5.14921911265538, 4.954242509439325, 4.812913356642856, 4.857332496431268, 4.799340549453582, 4.544068044350276, 4.698970004336019, 4.973127853599698, 5.303196057420489, 5.184691430817598, 5.380211241711606, 4.698970004336019, 4.826074802700826, 4.477121254719663, 5.056904851336473, 4.785329835010767, 4.799340549453582, 5.012837224705172, 4.869231719730976, 5.004321373782642, 4.812913356642856, 4.9084850188786495, 5.471291711058939, 5.164352855784437, 5.045322978786658, 4.681241237375588, 5.133538908370218, 4.903089986991944, 4.698970004336019, 4.812913356642856, 4.929418925714293, 4.968482948553935, 4.903089986991944, 4.690196080028514, 5.060697840353612, 5.012837224705172, 5.060697840353612, 4.869231719730976, 4.544068044350276, 4.544068044350276, 5.103803720955957, 5.113943352306837, 4.819543935541868, 5.079181246047625, 4.832508912706237, 5.318063334962762, 5.209515014542631, 5.041392685158225, 5.195899652409234, 4.986771734266245, 5.064457989226918, 4.99563519459755, 4.763427993562937, 4.698970004336019, 4.954242509439325, 4.477121254719663, 5.110589710299249, 5.176091259055681, 5.021189299069938, 5.3222192947339195, 5.176091259055681, 5.139879086401237, 5.146128035678238, 5.064457989226918, 5.045322978786658, 5.556302500767287, 5.1303337684950066, 5.012837224705172, 5.033423755486949, 5.176091259055681, 5.041392685158225, 4.748188027006201, 5.05307844348342, 4.959041392321094, 5.103803720955957, 5.4065401804339555, 4.863322860120456, 5.041392685158225, 5.107209969647869, 4.968482948553935, 5.290034611362518, 5.041392685158225, 5.041392685158225, 5.123851640967086, 5.079181246047625, 4.986771734266245, 5.021189299069938, 5.089905111439398, 4.968482948553935, 5.133538908370218, 5.1303337684950066, 4.477121254719663, 4.778151250383644, 5.3560258571931225, 4.740362689494244, 5.08278537031645, 5.689308859123621, 5.08278537031645, 5.113943352306837, 4.929418925714293, 4.903089986991944, 5.008600171761918, 5.26245108973043, 5.079181246047625, 5.02530586526477, 5.045322978786658, 4.7923916894982534, 4.819543935541868, 4.732393759822968, 5.113943352306837, 5.021189299069938, 5.190331698170292, 5.267171728403014, 5.227886704613674, 5.173186268412274, 4.99563519459755, 4.778151250383644, 4.968482948553935, 5.298853076409706, 5.269512944217916, 4.698970004336019, 5.380211241711606, 5.176091259055681, 5.290034611362518, 4.8061799739838875, 5.127104798364807, 4.939519252618618, 4.973127853599698, 5.309630167425898, 5.079181246047625, 4.832508912706237, 4.838849090737256, 4.959041392321094, 5.511883360978874, 4.819543935541868, 4.732393759822968, 4.845098040014257, 5.217483944213907, 5.146128035678238, 5.049218022670182, 5.158362492095249, 5.0, 4.7923916894982534, 4.897627091290442, 5.12057393120585, 4.991226075692495, 5.021189299069938, 5.045322978786658, 4.973127853599698, 5.305351369446623, 5.515873843711679, 5.110589710299249, 4.986771734266245, 4.799340549453582, 4.939519252618618, 4.544068044350276, 5.290034611362518, 5.290034611362518, 5.068185861746161, 5.060697840353612, 4.832508912706237, 4.819543935541868, 4.763427993562937, 4.863322860120456, 4.8750612633917, 5.155336037465061, 5.583198773968623, 5.155336037465061, 5.008600171761918, 5.117271295655764, 4.653212513775344, 5.4361626470407565, 5.02530586526477, 4.8750612633917, 5.056904851336473, 5.107209969647869, 4.954242509439325, 4.662757831681574, 4.99563519459755, 5.136720567156407, 4.919078092376074, 4.826074802700826, 4.785329835010767, 5.037426497940624, 4.799340549453582, 5.227886704613674, 5.184691430817598, 5.155336037465061, 5.698970004336019, 5.079181246047625, 4.869231719730976, 4.9084850188786495, 4.832508912706237, 5.260071387985075, 5.056904851336473, 5.698970004336019, 5.071882007306125, 5.0, 4.544068044350276, 5.2455126678141495, 5.004321373782642, 5.060697840353612, 5.103803720955957, 4.9344984512435675, 4.919078092376074, 4.623249290397901, 5.247973266361806, 5.079181246047625, 5.12057393120585, 5.1303337684950066, 4.763427993562937, 5.421603926869831, 4.7923916894982534, 5.290034611362518, 4.897627091290442, 5.238046103128795, 4.892094602690481, 4.949390006644912, 5.484299839346786, 4.924279286061882, 4.99563519459755, 4.959041392321094, 5.195899652409234, 4.973127853599698, 4.7923916894982534, 4.963787827345556, 5.332438459915605, 5.303196057420489, 5.176091259055681, 5.079181246047625, 4.832508912706237, 4.857332496431268, 5.204119982655925, 4.8512583487190755, 4.748188027006201, 5.477121254719663, 5.0, 4.732393759822968, 4.954242509439325, 4.869231719730976, 4.832508912706237, 5.143014800254095, 5.056904851336473, 4.9084850188786495, 5.14921911265538, 5.212187604403958, 5.2878017299302265, 5.285557309007774, 4.991226075692495, 5.004321373782642, 4.8061799739838875, 5.176091259055681, 4.763427993562937, 5.4361626470407565, 4.819543935541868, 5.093421685162235, 4.799340549453582, 4.176091259055681, 4.924279286061882, 5.068185861746161, 5.698970004336019, 4.778151250383644, 5.209515014542631, 5.158362492095249, 4.863322860120456, 5.068185861746161, 4.949390006644912, 4.9084850188786495, 5.176091259055681, 5.056904851336473, 4.799340549453582, 4.944482672150168, 4.8061799739838875, 5.269512944217916, 5.173186268412274, 4.8512583487190755, 4.6127838567197355, 5.212187604403958, 5.110589710299249, 4.919078092376074, 5.187520720836463, 5.021189299069938, 4.763427993562937, 4.8512583487190755, 4.939519252618618, 4.9344984512435675, 5.008600171761918, 5.6127838567197355, 4.838849090737256, 4.8512583487190755, 4.892094602690481, 4.869231719730976, 5.220108088040055, 5.313867220369153, 4.707570176097937, 5.2878017299302265, 4.544068044350276, 5.494154594018442, 5.2552725051033065, 4.982271233039568, 4.707570176097937, 4.880813592280791, 4.949390006644912, 5.14921911265538, 4.633468455579586, 4.963787827345556, 4.8061799739838875, 4.748188027006201, 4.653212513775344, 4.886490725172482, 4.770852011642144, 4.880813592280791, 4.832508912706237, 5.008600171761918, 4.903089986991944, 5.158362492095249, 5.045322978786658, 4.863322860120456, 5.123851640967086, 5.056904851336473, 4.8512583487190755, 5.6127838567197355, 5.056904851336473, 4.892094602690481, 4.785329835010767, 4.959041392321094, 5.26245108973043, 4.812913356642856, 5.511883360978874, 5.004321373782642, 5.688419822002711, 4.832508912706237, 5.02530586526477, 5.089905111439398, 4.9344984512435675, 5.136720567156407, 4.897627091290442, 5.0, 4.892094602690481, 4.544068044350276, 5.1003705451175625, 5.05307844348342, 5.146128035678238, 4.982271233039568, 4.698970004336019, 5.021189299069938, 5.173186268412274, 5.181843587944773, 4.662757831681574, 5.113943352306837, 4.698970004336019, 5.012837224705172, 4.8061799739838875, 4.748188027006201, 4.913813852383717, 4.544068044350276, 5.05307844348342, 5.152288344383057, 5.698970004336019, 5.193124598354462, 5.214843848047698, 4.880813592280791, 5.532754378992498, 4.944482672150168, 4.959041392321094, 4.9344984512435675, 5.222716471147583, 5.02938377768521, 4.544068044350276, 5.143014800254095, 5.1702617153949575, 5.198657086954422, 5.012837224705172, 4.799340549453582, 5.460897842756548, 5.276461804173244, 4.954242509439325, 4.880813592280791, 4.763427993562937, 5.698970004336019, 4.672097857935717, 5.567026366159061, 5.342422680822207, 4.991226075692495, 5.107209969647869, 5.012837224705172, 5.414973347970818, 4.799340549453582, 5.02530586526477, 4.544068044350276, 4.7558748556724915, 5.02938377768521, 5.02938377768521, 4.924279286061882, 5.133538908370218, 4.698970004336019, 4.9084850188786495, 4.826074802700826, 4.949390006644912, 5.079181246047625, 4.8750612633917, 5.0, 4.826074802700826, 4.99563519459755, 5.494154594018442, 4.924279286061882, 5.123851640967086, 5.1702617153949575, 5.158362492095249, 4.9084850188786495, 5.064457989226918, 5.409933123331294, 4.9344984512435675, 4.698970004336019, 5.004321373782642, 5.113943352306837, 5.02530586526477, 5.041392685158225, 5.093421685162235, 5.155336037465061, 4.8512583487190755, 5.12057393120585, 4.838849090737256, 4.8512583487190755, 4.832508912706237, 5.238046103128795, 4.939519252618618, 5.017033339298781, 4.477121254719663, 5.737192642704737, 4.7923916894982534, 5.155336037465061, 5.08278537031645, 5.103803720955957, 4.724275869600789, 5.110589710299249, 4.949390006644912, 5.017033339298781, 4.544068044350276, 5.060697840353612, 5.371067862271737, 4.919078092376074, 4.8061799739838875, 4.903089986991944, 5.012837224705172, 5.060697840353612, 4.57978359661681, 4.770852011642144, 4.832508912706237, 5.158362492095249, 4.903089986991944, 4.869231719730976, 5.235528446907549, 4.544068044350276, 5.049218022670182, 5.113943352306837, 5.103803720955957, 4.819543935541868, 5.05307844348342, 5.164352855784437, 4.698970004336019, 5.222716471147583, 5.136720567156407, 4.968482948553935, 5.2455126678141495, 4.924279286061882, 5.127104798364807, 4.799340549453582, 4.698970004336019, 4.698970004336019, 4.886490725172482, 5.133538908370218, 4.477121254719663, 5.158362492095249, 5.14921911265538, 4.99563519459755, 5.12057393120585, 4.544068044350276, 5.193124598354462, 5.075546961392531, 5.190331698170292, 5.021189299069938, 4.698970004336019, 5.230448921378274, 5.02938377768521, 5.079181246047625, 5.0, 4.954242509439325, 4.778151250383644, 4.959041392321094, 5.173186268412274, 5.227886704613674, 4.924279286061882, 4.954242509439325, 5.212187604403958, 4.812913356642856, 5.1003705451175625, 5.1673173347481764, 5.195899652409234, 4.954242509439325, 4.892094602690481, 4.544068044350276, 5.075546961392531, 5.271841606536499, 5.14921911265538, 5.431363764158987, 5.045322978786658, 4.748188027006201, 5.176091259055681, 4.57978359661681, 4.826074802700826, 5.378397900948138, 4.845098040014257, 4.99563519459755, 4.770852011642144, 5.107209969647869, 5.127104798364807, 4.973127853599698, 4.977723605288848, 5.243038048686294, 5.2552725051033065, 4.880813592280791, 5.432969290874405, 5.004321373782642, 5.164352855784437, 5.20682587603185, 5.107209969647869, 4.544068044350276, 5.6020599913279625, 5.209515014542631, 4.973127853599698, 4.176091259055681, 4.9084850188786495, 4.944482672150168, 5.146128035678238, 4.838849090737256, 5.089905111439398, 5.264817823009537, 6.079181246047625, 5.227886704613674, 4.8512583487190755, 5.4361626470407565, 5.123851640967086, 5.290034611362518, 5.193124598354462, 4.819543935541868, 5.008600171761918, 5.0, 5.698970004336019, 5.103803720955957, 4.949390006644912, 5.02938377768521, 5.176091259055681, 5.0, 5.3979400086720375, 4.5910646070264995, 5.526339277389844, 4.770852011642144, 5.0, 5.187520720836463, 5.1673173347481764, 5.033423755486949, 4.748188027006201, 5.041392685158225, 4.763427993562937, 4.944482672150168, 5.033423755486949, 5.238046103128795, 4.698970004336019, 4.880813592280791, 5.136720567156407, 4.968482948553935], \"z\": [109, 100, 101, 110, 108, 100, 85, 111, 112, 101, 101, 111, 114, 113, 78, 105, 111, 105, 90, 107, 114, 81, 95, 105, 105, 85, 100, 92, 108, 111, 105, 87, 110, 110, 95, 90, 114, 83, 79, 114, 106, 113, 82, 113, 94, 105, 109, 88, 111, 112, 100, 90, 100, 86, 105, 76, 100, 105, 111, 112, 84, 110, 113, 75, 100, 115, 85, 102, 86, 113, 95, 84, 110, 115, 80, 113, 114, 111, 95, 99, 110, 84, 92, 113, 106, 113, 101, 110, 82, 111, 113, 113, 111, 79, 105, 109, 86, 90, 81, 95, 85, 111, 100, 81, 102, 113, 108, 87, 107, 114, 100, 84, 100, 114, 110, 108, 90, 90, 110, 91, 99, 104, 101, 88, 115, 112, 104, 103, 110, 111, 92, 110, 106, 89, 112, 110, 103, 110, 105, 91, 100, 83, 112, 95, 115, 108, 89, 107, 83, 112, 107, 100, 100, 110, 83, 113, 104, 112, 85, 111, 111, 110, 110, 110, 64, 86, 100, 110, 112, 107, 110, 92, 95, 113, 86, 100, 113, 105, 109, 112, 114, 102, 108, 100, 105, 98, 100, 115, 112, 113, 113, 80, 112, 95, 110, 110, 90, 111, 99, 113, 84, 95, 112, 114, 104, 113, 82, 110, 86, 84, 81, 100, 90, 87, 80, 85, 101, 85, 109, 101, 104, 110, 107, 95, 110, 90, 112, 100, 111, 109, 114, 106, 107, 95, 113, 101, 110, 114, 112, 104, 110, 100, 85, 114, 80, 84, 109, 88, 112, 90, 105, 105, 72, 112, 106, 90, 111, 105, 107, 106, 113, 105, 103, 89, 113, 100, 109, 109, 103, 115, 103, 91, 101, 111, 109, 86, 95, 114, 107, 105, 107, 89, 104, 112, 112, 115, 64, 96, 88, 107, 111, 79, 89, 113, 110, 84, 90, 110, 103, 105, 111, 105, 105, 105, 113, 107, 110, 100, 101, 106, 100, 112, 90, 112, 109, 101, 106, 80, 114, 112, 112, 111, 111, 114, 84, 91, 111, 85, 87, 98, 100, 105, 100, 66, 87, 109, 111, 92, 80, 88, 90, 112, 99, 113, 90, 82, 90, 111, 95, 110, 85, 107, 80, 110, 112, 110, 83, 100, 100, 113, 113, 112, 99, 83, 89, 110, 111, 95, 98, 105, 95, 90, 90, 112, 103, 96, 90, 90, 103, 110, 114, 85, 107, 85, 91, 92, 85, 100, 109, 111, 95, 105, 108, 110, 104, 110, 77, 107, 83, 113, 86, 111, 113, 107, 103, 110, 93, 90, 107, 71, 110, 84, 114, 98, 111, 115, 108, 112, 109, 85, 73, 111, 95, 108, 100, 99, 87, 100, 100, 103, 108, 110, 104, 109, 83, 101, 85, 77, 74, 108, 86, 112, 114, 105, 112, 112, 113, 111, 100, 90, 87, 105, 110, 100, 110, 100, 100, 103, 110, 114, 110, 90, 112, 84, 106, 105, 108, 83, 100, 101, 93, 101, 78, 85, 89, 100, 108, 113, 100, 110, 107, 75, 107, 111, 86, 106, 106, 113, 111, 87, 80, 112, 111, 85, 90, 89, 112, 103, 113, 85, 100, 87, 114, 113, 114, 99, 107, 114, 75, 95, 89, 113, 85, 112, 114, 113, 90, 109, 113, 106, 114, 86, 90, 107, 90, 110, 115, 109, 110, 105, 105, 114, 109, 85, 107, 110, 89, 108, 82, 96, 96, 105, 100, 86, 105, 111, 90, 114, 105, 85, 102, 90, 100, 99, 107, 109, 113, 91, 110, 105, 89, 102, 112, 104, 110, 114, 100, 112, 109, 111, 103, 110, 110, 92, 110, 110, 90, 79, 114, 115, 110, 107, 80, 86, 108, 82, 114, 88, 89, 105, 109, 112, 113, 101, 97, 104, 89, 102, 112, 110, 108, 103, 100, 109, 114, 103, 110, 100, 93, 110, 105, 109, 84, 110, 102, 90, 111, 99, 113, 109, 71, 108, 83, 108, 113, 100, 113, 111, 99, 100, 91, 107, 110, 109, 112, 113, 99, 99, 110, 88, 100, 115, 74, 84, 100, 108, 112, 114, 112, 99, 85, 100, 100, 112, 104, 77, 105, 85, 100, 88, 82, 112, 100, 73, 104, 105, 81, 106, 86, 90, 104, 111, 112, 113, 85, 108, 95, 114, 104, 98, 86, 107, 110, 111, 106, 94, 110, 101, 112, 107, 100, 100, 90, 68, 95, 84, 112, 109, 101, 112, 113, 113, 105, 82, 100, 76, 106, 85, 99, 95, 64, 99, 114, 112, 79, 110, 104, 107, 110, 100, 70, 103, 110, 114, 113, 86, 89, 110, 111, 110, 80, 85, 101, 95, 95, 111, 107, 85, 109, 112, 110, 89, 101, 105, 112, 107, 100, 112, 112, 80, 95, 111, 102, 101, 112, 107, 93, 110, 107, 112, 91, 80, 75, 112, 83, 114, 104, 110, 106, 97, 112, 110, 113, 84, 105, 113, 109, 95, 81, 82, 113, 78, 114, 86, 85, 85, 110, 112, 64, 102, 89, 86, 105, 114, 114, 85, 110, 110, 90, 105, 100, 82, 100, 82, 100, 107, 108, 115, 112, 100, 114, 100, 112, 105, 114, 81, 114, 114, 109, 100, 100, 115, 90, 105, 89, 110, 110, 112, 114, 110, 109, 95, 85, 110, 99, 112, 110, 105, 114, 100, 84, 104, 90, 75, 85, 88, 102, 112, 110, 114, 89, 114, 110, 110, 108, 85, 84, 111, 107, 103, 93, 81, 94, 110, 78, 75, 110, 112, 107, 110, 87, 110, 83, 111, 83, 76, 82, 109, 100, 90, 112, 103, 115, 114, 114, 112, 84, 88, 112, 112, 110, 77, 76, 99, 110, 109, 113, 103, 114, 112, 84, 111, 112, 114, 102, 87, 108, 88, 93, 112, 113, 112, 96, 100, 92, 114, 101, 114, 104, 85, 114, 113, 95, 90, 113, 108, 112, 95, 85, 112, 89, 112, 70, 114, 108, 78, 109, 96, 90, 109, 113, 94, 77, 95, 112, 113, 112, 113, 113, 103, 100, 80, 109, 105, 102, 110, 112, 99, 100, 91, 105, 100, 107, 110, 75, 95, 103, 108, 98, 100, 80, 112, 111, 80, 64, 112, 104, 100, 65, 105, 112, 114, 80, 111, 107, 112, 109, 103, 111, 87, 109, 67, 100, 113, 111, 76, 111, 104, 86, 114, 80, 92, 113, 103, 113, 113, 80, 85, 114, 110, 73, 93, 100, 114, 105, 68, 100, 87, 108, 113, 112, 88, 84, 109, 105, 100, 113, 109, 110, 104, 104, 69, 85, 110, 109, 115, 91, 113, 84, 114, 93, 112, 107, 84, 112, 87, 79, 79, 112, 83, 105, 111, 113, 84, 78, 96, 114, 67, 64, 113, 80, 110, 109, 114, 100, 106, 114, 84, 114, 83, 81, 93, 105, 110, 95, 81, 112, 105, 109, 112, 105, 104, 113, 103, 114, 79, 101, 80, 72, 99, 80, 64, 106, 100, 110, 80, 112, 84, 105, 80, 99, 85, 112, 105, 105, 100, 113, 111, 90, 112, 112, 86, 110, 98, 113, 114, 105, 100, 107, 110, 112, 108, 90, 90, 113]}],\n",
              "                        {\"coloraxis\": {\"colorbar\": {\"title\": {\"text\": \"label\"}}, \"colorscale\": [[0.0, \"#0d0887\"], [0.1111111111111111, \"#46039f\"], [0.2222222222222222, \"#7201a8\"], [0.3333333333333333, \"#9c179e\"], [0.4444444444444444, \"#bd3786\"], [0.5555555555555556, \"#d8576b\"], [0.6666666666666666, \"#ed7953\"], [0.7777777777777778, \"#fb9f3a\"], [0.8888888888888888, \"#fdca26\"], [1.0, \"#f0f921\"]]}, \"legend\": {\"tracegroupgap\": 0}, \"margin\": {\"t\": 60}, \"scene\": {\"domain\": {\"x\": [0.0, 1.0], \"y\": [0.0, 1.0]}, \"xaxis\": {\"title\": {\"text\": \"fea_2\"}}, \"yaxis\": {\"title\": {\"text\": \"fea_4\"}}, \"zaxis\": {\"title\": {\"text\": \"fea_8\"}}}, \"template\": {\"data\": {\"bar\": [{\"error_x\": {\"color\": \"#2a3f5f\"}, \"error_y\": {\"color\": \"#2a3f5f\"}, \"marker\": {\"line\": {\"color\": \"#E5ECF6\", \"width\": 0.5}}, \"type\": \"bar\"}], \"barpolar\": [{\"marker\": {\"line\": {\"color\": \"#E5ECF6\", \"width\": 0.5}}, \"type\": \"barpolar\"}], \"carpet\": [{\"aaxis\": {\"endlinecolor\": \"#2a3f5f\", \"gridcolor\": \"white\", \"linecolor\": \"white\", \"minorgridcolor\": \"white\", \"startlinecolor\": \"#2a3f5f\"}, \"baxis\": {\"endlinecolor\": \"#2a3f5f\", \"gridcolor\": \"white\", \"linecolor\": \"white\", \"minorgridcolor\": \"white\", \"startlinecolor\": \"#2a3f5f\"}, \"type\": \"carpet\"}], \"choropleth\": [{\"colorbar\": {\"outlinewidth\": 0, \"ticks\": \"\"}, \"type\": \"choropleth\"}], \"contour\": [{\"colorbar\": {\"outlinewidth\": 0, \"ticks\": \"\"}, \"colorscale\": [[0.0, \"#0d0887\"], [0.1111111111111111, \"#46039f\"], [0.2222222222222222, \"#7201a8\"], [0.3333333333333333, \"#9c179e\"], [0.4444444444444444, \"#bd3786\"], [0.5555555555555556, \"#d8576b\"], [0.6666666666666666, \"#ed7953\"], [0.7777777777777778, \"#fb9f3a\"], [0.8888888888888888, \"#fdca26\"], [1.0, \"#f0f921\"]], \"type\": \"contour\"}], \"contourcarpet\": [{\"colorbar\": {\"outlinewidth\": 0, \"ticks\": \"\"}, \"type\": \"contourcarpet\"}], \"heatmap\": [{\"colorbar\": {\"outlinewidth\": 0, \"ticks\": \"\"}, \"colorscale\": [[0.0, \"#0d0887\"], [0.1111111111111111, \"#46039f\"], [0.2222222222222222, \"#7201a8\"], [0.3333333333333333, \"#9c179e\"], [0.4444444444444444, \"#bd3786\"], [0.5555555555555556, \"#d8576b\"], [0.6666666666666666, \"#ed7953\"], [0.7777777777777778, \"#fb9f3a\"], [0.8888888888888888, \"#fdca26\"], [1.0, \"#f0f921\"]], \"type\": \"heatmap\"}], \"heatmapgl\": [{\"colorbar\": {\"outlinewidth\": 0, \"ticks\": \"\"}, \"colorscale\": [[0.0, \"#0d0887\"], [0.1111111111111111, \"#46039f\"], [0.2222222222222222, \"#7201a8\"], [0.3333333333333333, \"#9c179e\"], [0.4444444444444444, \"#bd3786\"], [0.5555555555555556, \"#d8576b\"], [0.6666666666666666, \"#ed7953\"], [0.7777777777777778, \"#fb9f3a\"], [0.8888888888888888, \"#fdca26\"], [1.0, \"#f0f921\"]], \"type\": \"heatmapgl\"}], \"histogram\": [{\"marker\": {\"colorbar\": {\"outlinewidth\": 0, \"ticks\": \"\"}}, \"type\": \"histogram\"}], \"histogram2d\": [{\"colorbar\": {\"outlinewidth\": 0, \"ticks\": \"\"}, \"colorscale\": [[0.0, \"#0d0887\"], [0.1111111111111111, \"#46039f\"], [0.2222222222222222, \"#7201a8\"], [0.3333333333333333, \"#9c179e\"], [0.4444444444444444, \"#bd3786\"], [0.5555555555555556, \"#d8576b\"], [0.6666666666666666, \"#ed7953\"], [0.7777777777777778, \"#fb9f3a\"], [0.8888888888888888, \"#fdca26\"], [1.0, \"#f0f921\"]], \"type\": \"histogram2d\"}], \"histogram2dcontour\": [{\"colorbar\": {\"outlinewidth\": 0, \"ticks\": \"\"}, \"colorscale\": [[0.0, \"#0d0887\"], [0.1111111111111111, \"#46039f\"], [0.2222222222222222, \"#7201a8\"], [0.3333333333333333, \"#9c179e\"], [0.4444444444444444, \"#bd3786\"], [0.5555555555555556, \"#d8576b\"], [0.6666666666666666, \"#ed7953\"], [0.7777777777777778, \"#fb9f3a\"], [0.8888888888888888, \"#fdca26\"], [1.0, \"#f0f921\"]], \"type\": \"histogram2dcontour\"}], \"mesh3d\": [{\"colorbar\": {\"outlinewidth\": 0, \"ticks\": \"\"}, \"type\": \"mesh3d\"}], \"parcoords\": [{\"line\": {\"colorbar\": {\"outlinewidth\": 0, \"ticks\": \"\"}}, \"type\": \"parcoords\"}], \"pie\": [{\"automargin\": true, \"type\": \"pie\"}], \"scatter\": [{\"marker\": {\"colorbar\": {\"outlinewidth\": 0, \"ticks\": \"\"}}, \"type\": \"scatter\"}], \"scatter3d\": [{\"line\": {\"colorbar\": {\"outlinewidth\": 0, \"ticks\": \"\"}}, \"marker\": {\"colorbar\": {\"outlinewidth\": 0, \"ticks\": \"\"}}, \"type\": \"scatter3d\"}], \"scattercarpet\": [{\"marker\": {\"colorbar\": {\"outlinewidth\": 0, \"ticks\": \"\"}}, \"type\": \"scattercarpet\"}], \"scattergeo\": [{\"marker\": {\"colorbar\": {\"outlinewidth\": 0, \"ticks\": \"\"}}, \"type\": \"scattergeo\"}], \"scattergl\": [{\"marker\": {\"colorbar\": {\"outlinewidth\": 0, \"ticks\": \"\"}}, \"type\": \"scattergl\"}], \"scattermapbox\": [{\"marker\": {\"colorbar\": {\"outlinewidth\": 0, \"ticks\": \"\"}}, \"type\": \"scattermapbox\"}], \"scatterpolar\": [{\"marker\": {\"colorbar\": {\"outlinewidth\": 0, \"ticks\": \"\"}}, \"type\": \"scatterpolar\"}], \"scatterpolargl\": [{\"marker\": {\"colorbar\": {\"outlinewidth\": 0, \"ticks\": \"\"}}, \"type\": \"scatterpolargl\"}], \"scatterternary\": [{\"marker\": {\"colorbar\": {\"outlinewidth\": 0, \"ticks\": \"\"}}, \"type\": \"scatterternary\"}], \"surface\": [{\"colorbar\": {\"outlinewidth\": 0, \"ticks\": \"\"}, \"colorscale\": [[0.0, \"#0d0887\"], [0.1111111111111111, \"#46039f\"], [0.2222222222222222, \"#7201a8\"], [0.3333333333333333, \"#9c179e\"], [0.4444444444444444, \"#bd3786\"], [0.5555555555555556, \"#d8576b\"], [0.6666666666666666, \"#ed7953\"], [0.7777777777777778, \"#fb9f3a\"], [0.8888888888888888, \"#fdca26\"], [1.0, \"#f0f921\"]], \"type\": \"surface\"}], \"table\": [{\"cells\": {\"fill\": {\"color\": \"#EBF0F8\"}, \"line\": {\"color\": \"white\"}}, \"header\": {\"fill\": {\"color\": \"#C8D4E3\"}, \"line\": {\"color\": \"white\"}}, \"type\": \"table\"}]}, \"layout\": {\"annotationdefaults\": {\"arrowcolor\": \"#2a3f5f\", \"arrowhead\": 0, \"arrowwidth\": 1}, \"coloraxis\": {\"colorbar\": {\"outlinewidth\": 0, \"ticks\": \"\"}}, \"colorscale\": {\"diverging\": [[0, \"#8e0152\"], [0.1, \"#c51b7d\"], [0.2, \"#de77ae\"], [0.3, \"#f1b6da\"], [0.4, \"#fde0ef\"], [0.5, \"#f7f7f7\"], [0.6, \"#e6f5d0\"], [0.7, \"#b8e186\"], [0.8, \"#7fbc41\"], [0.9, \"#4d9221\"], [1, \"#276419\"]], \"sequential\": [[0.0, \"#0d0887\"], [0.1111111111111111, \"#46039f\"], [0.2222222222222222, \"#7201a8\"], [0.3333333333333333, \"#9c179e\"], [0.4444444444444444, \"#bd3786\"], [0.5555555555555556, \"#d8576b\"], [0.6666666666666666, \"#ed7953\"], [0.7777777777777778, \"#fb9f3a\"], [0.8888888888888888, \"#fdca26\"], [1.0, \"#f0f921\"]], \"sequentialminus\": [[0.0, \"#0d0887\"], [0.1111111111111111, \"#46039f\"], [0.2222222222222222, \"#7201a8\"], [0.3333333333333333, \"#9c179e\"], [0.4444444444444444, \"#bd3786\"], [0.5555555555555556, \"#d8576b\"], [0.6666666666666666, \"#ed7953\"], [0.7777777777777778, \"#fb9f3a\"], [0.8888888888888888, \"#fdca26\"], [1.0, \"#f0f921\"]]}, \"colorway\": [\"#636efa\", \"#EF553B\", \"#00cc96\", \"#ab63fa\", \"#FFA15A\", \"#19d3f3\", \"#FF6692\", \"#B6E880\", \"#FF97FF\", \"#FECB52\"], \"font\": {\"color\": \"#2a3f5f\"}, \"geo\": {\"bgcolor\": \"white\", \"lakecolor\": \"white\", \"landcolor\": \"#E5ECF6\", \"showlakes\": true, \"showland\": true, \"subunitcolor\": \"white\"}, \"hoverlabel\": {\"align\": \"left\"}, \"hovermode\": \"closest\", \"mapbox\": {\"style\": \"light\"}, \"paper_bgcolor\": \"white\", \"plot_bgcolor\": \"#E5ECF6\", \"polar\": {\"angularaxis\": {\"gridcolor\": \"white\", \"linecolor\": \"white\", \"ticks\": \"\"}, \"bgcolor\": \"#E5ECF6\", \"radialaxis\": {\"gridcolor\": \"white\", \"linecolor\": \"white\", \"ticks\": \"\"}}, \"scene\": {\"xaxis\": {\"backgroundcolor\": \"#E5ECF6\", \"gridcolor\": \"white\", \"gridwidth\": 2, \"linecolor\": \"white\", \"showbackground\": true, \"ticks\": \"\", \"zerolinecolor\": \"white\"}, \"yaxis\": {\"backgroundcolor\": \"#E5ECF6\", \"gridcolor\": \"white\", \"gridwidth\": 2, \"linecolor\": \"white\", \"showbackground\": true, \"ticks\": \"\", \"zerolinecolor\": \"white\"}, \"zaxis\": {\"backgroundcolor\": \"#E5ECF6\", \"gridcolor\": \"white\", \"gridwidth\": 2, \"linecolor\": \"white\", \"showbackground\": true, \"ticks\": \"\", \"zerolinecolor\": \"white\"}}, \"shapedefaults\": {\"line\": {\"color\": \"#2a3f5f\"}}, \"ternary\": {\"aaxis\": {\"gridcolor\": \"white\", \"linecolor\": \"white\", \"ticks\": \"\"}, \"baxis\": {\"gridcolor\": \"white\", \"linecolor\": \"white\", \"ticks\": \"\"}, \"bgcolor\": \"#E5ECF6\", \"caxis\": {\"gridcolor\": \"white\", \"linecolor\": \"white\", \"ticks\": \"\"}}, \"title\": {\"x\": 0.05}, \"xaxis\": {\"automargin\": true, \"gridcolor\": \"white\", \"linecolor\": \"white\", \"ticks\": \"\", \"title\": {\"standoff\": 15}, \"zerolinecolor\": \"white\", \"zerolinewidth\": 2}, \"yaxis\": {\"automargin\": true, \"gridcolor\": \"white\", \"linecolor\": \"white\", \"ticks\": \"\", \"title\": {\"standoff\": 15}, \"zerolinecolor\": \"white\", \"zerolinewidth\": 2}}}},\n",
              "                        {\"responsive\": true}\n",
              "                    ).then(function(){\n",
              "                            \n",
              "var gd = document.getElementById('155246e7-2c33-4e21-83c9-5f703328ddd2');\n",
              "var x = new MutationObserver(function (mutations, observer) {{\n",
              "        var display = window.getComputedStyle(gd).display;\n",
              "        if (!display || display === 'none') {{\n",
              "            console.log([gd, 'removed!']);\n",
              "            Plotly.purge(gd);\n",
              "            observer.disconnect();\n",
              "        }}\n",
              "}});\n",
              "\n",
              "// Listen for the removal of the full notebook cells\n",
              "var notebookContainer = gd.closest('#notebook-container');\n",
              "if (notebookContainer) {{\n",
              "    x.observe(notebookContainer, {childList: true});\n",
              "}}\n",
              "\n",
              "// Listen for the clearing of the current output cell\n",
              "var outputEl = gd.closest('.output');\n",
              "if (outputEl) {{\n",
              "    x.observe(outputEl, {childList: true});\n",
              "}}\n",
              "\n",
              "                        })\n",
              "                };\n",
              "                \n",
              "            </script>\n",
              "        </div>\n",
              "</body>\n",
              "</html>"
            ]
          },
          "metadata": {}
        }
      ]
    },
    {
      "cell_type": "markdown",
      "metadata": {
        "id": "UauQ84xvSs1b"
      },
      "source": [
        "# Train-Test Split\n",
        "\n",
        "Let's preprocess our data and split it into training and test sets for model building and evaluation"
      ]
    },
    {
      "cell_type": "code",
      "metadata": {
        "colab": {
          "base_uri": "https://localhost:8080/"
        },
        "id": "SbQqbhOtRuzl",
        "outputId": "cc72b4e4-8de3-44b1-e5f4-a9c8a5a963f4"
      },
      "source": [
        "cust_df.columns"
      ],
      "execution_count": null,
      "outputs": [
        {
          "output_type": "execute_result",
          "data": {
            "text/plain": [
              "Index(['label', 'id', 'fea_1', 'fea_2', 'fea_3', 'fea_4', 'fea_5', 'fea_6',\n",
              "       'fea_7', 'fea_8', 'fea_9', 'fea_10', 'fea_11'],\n",
              "      dtype='object')"
            ]
          },
          "metadata": {},
          "execution_count": 11
        }
      ]
    },
    {
      "cell_type": "markdown",
      "metadata": {
        "id": "qLnVLnHvT9ed"
      },
      "source": [
        "We are not taking the ID column into consideration because it wouldn't help our model much in terms of generalization. "
      ]
    },
    {
      "cell_type": "code",
      "metadata": {
        "id": "IIaES9ZbSpJ6"
      },
      "source": [
        "features = cust_df.loc[:,cust_df.columns[2:]]  \n",
        "y = cust_df['label'].values"
      ],
      "execution_count": null,
      "outputs": []
    },
    {
      "cell_type": "code",
      "metadata": {
        "id": "3Phi-ZlPSzhG"
      },
      "source": [
        "# normalizing our input feature data\n",
        "X = MinMaxScaler().fit_transform(features)\n",
        "\n",
        "X_train, X_test, y_train, y_test = train_test_split(X, y, shuffle=True, stratify=y, test_size = 0.25)"
      ],
      "execution_count": null,
      "outputs": []
    },
    {
      "cell_type": "markdown",
      "metadata": {
        "id": "NJPCBCCqYFrS"
      },
      "source": [
        "# Defining our metric(s)\n",
        "\n",
        "Before we proceed with model build, it's best practice to define our metric that would potentially help us in evaluating the different models we build.\n",
        "\n",
        "<b>This takes the task of understanding the problem statement and the objective of the model. <br>\n",
        "In our case, as we're trying to classify high risk customers, it's best to choose \"Recall\" as our metric. </b>\n",
        "\n",
        "To put this into context and simple words, if the precision of our model is at say, 70%, then it means that our model is only correct 70% of the time when it claims a customer is a high risk customer. \n",
        "\n",
        "If the recall of the model is at 85%, then it indicated that our model detects and catches 85% of the high risk customers from the dataset. \n",
        "\n",
        "**Therefore, with having recall as our metric, we should be moving in the right direction.**\n",
        "\n",
        "Other metrics like F1 (Harmonic mean of precision and recall) is not advised because harmonic mean gives more weight to low values and a high F1 is obtained only if <b> both </b> precision and recall are high. \n",
        "\n",
        "***Note: It is to be kept in mind that a higher recall would have a causal effect on precision causing it to be lower due to the precision-recall trade off.***"
      ]
    },
    {
      "cell_type": "markdown",
      "metadata": {
        "id": "YZ-Qj0w1SmUD"
      },
      "source": [
        "# Model Building"
      ]
    },
    {
      "cell_type": "markdown",
      "metadata": {
        "id": "DsIRBg49ak4G"
      },
      "source": [
        "Let's train a naive classification model to get started with"
      ]
    },
    {
      "cell_type": "code",
      "metadata": {
        "colab": {
          "base_uri": "https://localhost:8080/",
          "height": 443
        },
        "id": "RuPXFw3FUC5U",
        "outputId": "162aa367-b56a-4c7c-e914-f401fe060b67"
      },
      "source": [
        "from sklearn.linear_model import LogisticRegression\n",
        "lr = LogisticRegression()\n",
        "lr.fit(X_train,y_train)\n",
        "y_pred = lr.predict(X_test)\n",
        "\n",
        "# Confusion matrix and classification report\n",
        "print(classification_report(y_test, y_pred, zero_division=0))\n",
        "cf_matrix = confusion_matrix(y_test, y_pred)\n",
        "heatmap = sns.heatmap(cf_matrix,annot=True, fmt='d', color='blue')\n",
        "print(\"Precision score is {} and Recall core is {}\".format(precision_score(y_test,y_pred,zero_division=0), recall_score(y_test,y_pred,zero_division=0)))"
      ],
      "execution_count": null,
      "outputs": [
        {
          "output_type": "stream",
          "name": "stdout",
          "text": [
            "              precision    recall  f1-score   support\n",
            "\n",
            "           0       0.80      1.00      0.89       226\n",
            "           1       0.00      0.00      0.00        56\n",
            "\n",
            "    accuracy                           0.80       282\n",
            "   macro avg       0.40      0.50      0.44       282\n",
            "weighted avg       0.64      0.80      0.71       282\n",
            "\n",
            "Precision score is 0.0 and Recall core is 0.0\n"
          ]
        },
        {
          "output_type": "display_data",
          "data": {
            "image/png": "[encoded data removed]",
            "text/plain": [
              "<Figure size 432x288 with 2 Axes>"
            ]
          },
          "metadata": {
            "needs_background": "light"
          }
        }
      ]
    },
    {
      "cell_type": "markdown",
      "metadata": {
        "id": "yOiHvYgZaeZ-"
      },
      "source": [
        "As we can see, we are off to a rough start but this is expected given the imbalance in our data set.  Basically, our model classifies everything as low risk inorder to achieve a high accuracy."
      ]
    },
    {
      "cell_type": "markdown",
      "metadata": {
        "id": "VqNegyvwa6Qu"
      },
      "source": [
        "Let's use Isolation Forest algoritm to mask out the anomalies present in the dataset.\n",
        "I'm choosing this algorithm for its robustness as it involves chopping up the dataset into pieces to isolate them based on a random feature and threshold value. Anomalies are identifies as those instances that are usually far from the other nodes. \n",
        "\n",
        "Other alternatives to accomplish the same are \n",
        "*  PCA\n",
        "*  One Class SVM\n",
        "*  Local outlier factor.\n",
        "\n"
      ]
    },
    {
      "cell_type": "code",
      "metadata": {
        "id": "nBRPOrMOVUvC"
      },
      "source": [
        "iso = IsolationForest(contamination=0.01,random_state=42)\n",
        "y_pred = iso.fit_predict(X_train,y_train)\n",
        "mask = y_pred != -1\n",
        "X_train,y_train = X_train[mask,:],y_train[mask]"
      ],
      "execution_count": null,
      "outputs": []
    },
    {
      "cell_type": "markdown",
      "metadata": {
        "id": "NfWMcK96dj2K"
      },
      "source": [
        "## Building our baseline model"
      ]
    },
    {
      "cell_type": "code",
      "metadata": {
        "colab": {
          "base_uri": "https://localhost:8080/"
        },
        "id": "J6-UFa0oZ40E",
        "outputId": "a60cf382-2dc2-41b1-c5e0-8038b430da8f"
      },
      "source": [
        "models = []\n",
        "results = []\n",
        "names = []\n",
        "scoring = 'recall'  #the metric we decided upon\n",
        "models.append(('KNN', KNeighborsClassifier()))\n",
        "models.append(('CART', DecisionTreeClassifier()))\n",
        "models.append(('NB', GaussianNB()))\n",
        "models.append(('RF', RandomForestClassifier()))\n",
        "models.append(('XGB', XGBClassifier()))\n",
        "\n",
        "for name, model in models:\n",
        "        kfold = KFold(n_splits=7, random_state=42,shuffle = True)\n",
        "        cv_results = cross_val_score(model, X_train, y_train, cv=kfold, scoring=scoring)\n",
        "        results.append(cv_results)\n",
        "        names.append(name)\n",
        "        opt = \"%s has an average recall of : %f with Standard Deviation: %f\" % (name, cv_results.mean(), cv_results.std())\n",
        "        print(opt)"
      ],
      "execution_count": null,
      "outputs": [
        {
          "output_type": "stream",
          "name": "stdout",
          "text": [
            "KNN has an average recall of : 0.072395 with Standard Deviation: 0.048067\n",
            "CART has an average recall of : 0.314707 with Standard Deviation: 0.091439\n",
            "NB has an average recall of : 0.012266 with Standard Deviation: 0.020534\n",
            "RF has an average recall of : 0.084106 with Standard Deviation: 0.036521\n",
            "XGB has an average recall of : 0.055084 with Standard Deviation: 0.045275\n"
          ]
        }
      ]
    },
    {
      "cell_type": "markdown",
      "metadata": {
        "id": "tJi3hForhCkm"
      },
      "source": [
        "We still have a low recall which needs to be increased for achieving a better model. \n",
        "\n",
        "A smart approach would be to gather more data to balance the training set. \n",
        "In case, thats not possible, we could trying methods like \n",
        "*   Brute force hyperparameter tuning \n",
        "*   Over Sampling and/or Under Sampling (We'll be choosing OverSampling for our solution)\n",
        "\n",
        "**In my personal opinion, I would go for the second approach of Over sampling the data inorder to build a better model.**\n",
        "\n",
        "However, we can explore both the approaches here.\n",
        "\n"
      ]
    },
    {
      "cell_type": "code",
      "metadata": {
        "colab": {
          "base_uri": "https://localhost:8080/",
          "height": 356
        },
        "id": "EBmW7bdifKb-",
        "outputId": "e9d4bb6a-a04e-42ba-f6d0-625876d9f612"
      },
      "source": [
        "fig = plt.figure(figsize=(12,5))\n",
        "fig.suptitle('Model Comparision')\n",
        "ax = fig.add_subplot(111)\n",
        "plt.boxplot(results, patch_artist=True,showfliers=False)\n",
        "ax.set_xticklabels(names)\n",
        "plt.show()"
      ],
      "execution_count": null,
      "outputs": [
        {
          "output_type": "display_data",
          "data": {
            "image/png": "[encoded data removed]",
            "text/plain": [
              "<Figure size 864x360 with 1 Axes>"
            ]
          },
          "metadata": {
            "needs_background": "light"
          }
        }
      ]
    },
    {
      "cell_type": "markdown",
      "metadata": {
        "id": "jblPgMwvh_qn"
      },
      "source": [
        "As its observed that CART (Decision Tree) classifier has a relatively higher recall, we can start tuning the hyper parameters for the same. \n",
        "\n",
        "When it comes to tuning for increasing the recall, we have the following options:\n",
        "*   Tune the hyperparameters using GridSearch and tune the decision threshold for a better recall"
      ]
    },
    {
      "cell_type": "markdown",
      "metadata": {
        "id": "rDkUYWTvuZLY"
      },
      "source": [
        "### Naive CART (Decision Tree)"
      ]
    },
    {
      "cell_type": "code",
      "metadata": {
        "colab": {
          "base_uri": "https://localhost:8080/",
          "height": 443
        },
        "id": "fksNlTKZo8iq",
        "outputId": "2a4d1fc7-96b8-4f29-acc2-2a8a17c9613a"
      },
      "source": [
        "dt = DecisionTreeClassifier( max_features=11, min_samples_split= 6, random_state=42)\n",
        "dt.fit(X_train, y_train)\n",
        "y_pred = dt.predict(X_test)\n",
        "\n",
        "print(classification_report(y_test, y_pred, zero_division=0))\n",
        "cf_matrix = confusion_matrix(y_test, y_pred)\n",
        "heatmap = sns.heatmap(cf_matrix,annot=True, fmt='d', color='blue')\n",
        "print(\"Precision score is {} and Recall core is {}\".format(precision_score(y_test,y_pred,zero_division=0), recall_score(y_test,y_pred,zero_division=0)))"
      ],
      "execution_count": null,
      "outputs": [
        {
          "output_type": "stream",
          "name": "stdout",
          "text": [
            "              precision    recall  f1-score   support\n",
            "\n",
            "           0       0.82      0.79      0.80       226\n",
            "           1       0.26      0.30      0.28        56\n",
            "\n",
            "    accuracy                           0.69       282\n",
            "   macro avg       0.54      0.55      0.54       282\n",
            "weighted avg       0.71      0.69      0.70       282\n",
            "\n",
            "Precision score is 0.26153846153846155 and Recall core is 0.30357142857142855\n"
          ]
        },
        {
          "output_type": "display_data",
          "data": {
            "image/png": "[encoded data removed]",
            "text/plain": [
              "<Figure size 432x288 with 2 Axes>"
            ]
          },
          "metadata": {
            "needs_background": "light"
          }
        }
      ]
    },
    {
      "cell_type": "markdown",
      "metadata": {
        "id": "VTjbuV_Uln9X"
      },
      "source": [
        "A naive decision tree gives a recall of 30"
      ]
    },
    {
      "cell_type": "markdown",
      "metadata": {
        "id": "n3m_WjzzqE6Y"
      },
      "source": [
        "### Tuning using GridSearch for CART - Optimizing Recall"
      ]
    },
    {
      "cell_type": "code",
      "metadata": {
        "id": "Em74etHPdWQu"
      },
      "source": [
        "dt = DecisionTreeClassifier(random_state=42)\n",
        "\n",
        "param_grid = {\n",
        "    'min_samples_split': [2,3,5,6], \n",
        "    'max_depth': [10,15,18,20,30],\n",
        "    'max_features': [4,10, 11]\n",
        "}\n",
        "\n",
        "def grid_search_function(refit_score='recall_score'):\n",
        "\n",
        "    skf = StratifiedKFold(n_splits=7)\n",
        "    grid_search = GridSearchCV(dt, param_grid, scoring=make_scorer(recall_score), refit=refit_score,\n",
        "                           cv=skf, return_train_score=True, n_jobs=-1)\n",
        "    grid_search.fit(X_train, y_train)\n",
        "\n",
        "    y_pred = grid_search.predict(X_test)\n",
        "    predict_score= grid_search.predict_proba(X_test)[:,1]\n",
        "\n",
        "    print('Best params {}'.format(refit_score))\n",
        "    print(grid_search.best_params_)\n",
        "    print(grid_search.best_score_)\n",
        "\n",
        "    print('\\nConfusion matrix of CART optimized for {}:'.format(refit_score))\n",
        "    print(classification_report(y_test, y_pred, zero_division=0))\n",
        "    cf_matrix = confusion_matrix(y_test, y_pred)\n",
        "    heatmap = sns.heatmap(cf_matrix,annot=True, fmt='d', color='blue')\n",
        "    print(\"Precision score is {} and Recall score is {}\".format(precision_score(y_test,y_pred,zero_division=0), recall_score(y_test,y_pred,zero_division=0)))\n",
        "    return predict_score, grid_search\n",
        "\n"
      ],
      "execution_count": null,
      "outputs": []
    },
    {
      "cell_type": "code",
      "metadata": {
        "colab": {
          "base_uri": "https://localhost:8080/",
          "height": 532
        },
        "id": "uy3ofdXagzSp",
        "outputId": "b6f44d33-9ce7-459f-f7e4-699e6016511c"
      },
      "source": [
        "predict_score, grid_search_clf = grid_search_function(refit_score='recall_score')"
      ],
      "execution_count": null,
      "outputs": [
        {
          "output_type": "stream",
          "name": "stdout",
          "text": [
            "Best params recall_score\n",
            "{'max_depth': 20, 'max_features': 10, 'min_samples_split': 2}\n",
            "0.32142857142857145\n",
            "\n",
            "Confusion matrix of CART optimized for recall_score:\n",
            "              precision    recall  f1-score   support\n",
            "\n",
            "           0       0.83      0.78      0.80       226\n",
            "           1       0.29      0.36      0.32        56\n",
            "\n",
            "    accuracy                           0.70       282\n",
            "   macro avg       0.56      0.57      0.56       282\n",
            "weighted avg       0.72      0.70      0.71       282\n",
            "\n",
            "Precision score is 0.2857142857142857 and Recall score is 0.35714285714285715\n"
          ]
        },
        {
          "output_type": "display_data",
          "data": {
            "image/png": "[encoded data removed]",
            "text/plain": [
              "<Figure size 432x288 with 2 Axes>"
            ]
          },
          "metadata": {
            "needs_background": "light"
          }
        }
      ]
    },
    {
      "cell_type": "code",
      "metadata": {
        "colab": {
          "base_uri": "https://localhost:8080/",
          "height": 313
        },
        "id": "oYV7kDN30EFx",
        "outputId": "a8de5a0a-1f80-46b7-bf6a-0d57df11df22"
      },
      "source": [
        "fpr, tpr, _ =  roc_curve(y_test, predict_score)\n",
        "print(\"Area Under Curve is {}\".format(roc_auc_score(y_test, predict_score)))\n",
        "\n",
        "plt.plot([0, 1], [0, 1], 'k--')\n",
        "plt.plot(fpr, tpr)\n",
        "plt.xlabel('False Positive Rate')\n",
        "plt.ylabel('True Positive Rate')\n",
        "plt.title('ROC Curve')\n",
        "plt.show()"
      ],
      "execution_count": null,
      "outputs": [
        {
          "output_type": "stream",
          "name": "stdout",
          "text": [
            "Area Under Curve is 0.56795195954488\n"
          ]
        },
        {
          "output_type": "display_data",
          "data": {
            "image/png": "[encoded data removed]",
            "text/plain": [
              "<Figure size 432x288 with 1 Axes>"
            ]
          },
          "metadata": {
            "needs_background": "light"
          }
        }
      ]
    },
    {
      "cell_type": "markdown",
      "metadata": {
        "id": "96XzOcih1QiJ"
      },
      "source": [
        "The gridsearch optimized to recall score has helped our model to improve its recall to 36 but this is still not a \"production worthy\" model that solves our problem."
      ]
    },
    {
      "cell_type": "markdown",
      "metadata": {
        "id": "DaGiWhgXmCx4"
      },
      "source": [
        "#### Further tuning using the decision threshold for recall"
      ]
    },
    {
      "cell_type": "code",
      "metadata": {
        "id": "7x18KrpDhO5h"
      },
      "source": [
        "dt = DecisionTreeClassifier(random_state=42)\n",
        "dt.fit(X_train, y_train)\n",
        "y_pred = dt.predict(X_test)\n",
        "predict_score = dt.predict_proba(X_test)[:,1]\n",
        "precision, recall, thresholds = precision_recall_curve(y_test, predict_score)"
      ],
      "execution_count": null,
      "outputs": []
    },
    {
      "cell_type": "code",
      "metadata": {
        "id": "DmtzJ93-hiye"
      },
      "source": [
        "# A step wise function with the given threshold (t)\n",
        "def step_wise(predict_score, t):  \n",
        "    return [1 if y >= t else 0 for y in predict_score]"
      ],
      "execution_count": null,
      "outputs": []
    },
    {
      "cell_type": "code",
      "metadata": {
        "id": "b5ZpgwTKhivF"
      },
      "source": [
        "def precision_recall_threshold(precision, recall, thresholds, t=0.5):\n",
        "   \n",
        "    y_pred_cls = step_wise(predict_score, t)\n",
        "    print(classification_report(y_test, y_pred_cls, zero_division=0))\n",
        "    cf_matrix = confusion_matrix(y_test, y_pred_cls)\n",
        "    heatmap = sns.heatmap(cf_matrix,annot=True, fmt='d', color='blue')\n",
        "    print(\"Precision score is {} and Recall core is {}\".format(precision_score(y_test,y_pred,zero_division=0), recall_score(y_test,y_pred,zero_division=0)))\n",
        "    \n",
        "    plt.figure(figsize=(6,7))\n",
        "    plt.title(\"Precision and Recall curve -  ^ = current threshold\")\n",
        "    plt.step(recall, precision, color='b', alpha=0.2, where='post')\n",
        "    plt.fill_between(recall, precision, step='post', alpha=0.2, color='r')\n",
        "    plt.ylim([0, 1.01]);\n",
        "    plt.xlim([0, 1.01]);\n",
        "    plt.xlabel('Recall');\n",
        "    plt.ylabel('Precision');\n",
        "    \n",
        "    close_default_clf = np.argmin(np.abs(thresholds - t))\n",
        "    plt.plot(recall[close_default_clf], precision[close_default_clf], '^', c='k',\n",
        "            markersize=15)"
      ],
      "execution_count": null,
      "outputs": []
    },
    {
      "cell_type": "code",
      "metadata": {
        "colab": {
          "base_uri": "https://localhost:8080/",
          "height": 884
        },
        "id": "Sn0OtbQNhitI",
        "outputId": "6a747086-095d-4e44-88a9-b726727b6110"
      },
      "source": [
        "precision_recall_threshold(precision, recall, thresholds, 0.7)"
      ],
      "execution_count": null,
      "outputs": [
        {
          "output_type": "stream",
          "name": "stdout",
          "text": [
            "              precision    recall  f1-score   support\n",
            "\n",
            "           0       0.83      0.77      0.80       226\n",
            "           1       0.27      0.36      0.31        56\n",
            "\n",
            "    accuracy                           0.68       282\n",
            "   macro avg       0.55      0.56      0.55       282\n",
            "weighted avg       0.72      0.68      0.70       282\n",
            "\n",
            "Precision score is 0.273972602739726 and Recall core is 0.35714285714285715\n"
          ]
        },
        {
          "output_type": "display_data",
          "data": {
            "image/png": "[encoded data removed]",
            "text/plain": [
              "<Figure size 432x288 with 2 Axes>"
            ]
          },
          "metadata": {
            "needs_background": "light"
          }
        },
        {
          "output_type": "display_data",
          "data": {
            "image/png": "[encoded data removed]",
            "text/plain": [
              "<Figure size 432x504 with 1 Axes>"
            ]
          },
          "metadata": {
            "needs_background": "light"
          }
        }
      ]
    },
    {
      "cell_type": "code",
      "metadata": {
        "colab": {
          "base_uri": "https://localhost:8080/",
          "height": 313
        },
        "id": "NXPGkjWI1HoB",
        "outputId": "33e96220-4ea8-49db-95ed-418f8c6eaf9a"
      },
      "source": [
        "fpr, tpr, _ =  roc_curve(y_test, predict_score)\n",
        "print(\"Area Under Curve is {}\".format(roc_auc_score(y_test, predict_score)))\n",
        "\n",
        "plt.plot([0, 1], [0, 1], 'k--')\n",
        "plt.plot(fpr, tpr)\n",
        "plt.xlabel('False Positive Rate')\n",
        "plt.ylabel('True Positive Rate')\n",
        "plt.title('ROC Curve')\n",
        "plt.show()"
      ],
      "execution_count": null,
      "outputs": [
        {
          "output_type": "stream",
          "name": "stdout",
          "text": [
            "Area Under Curve is 0.561314791403287\n"
          ]
        },
        {
          "output_type": "display_data",
          "data": {
            "image/png": "[encoded data removed]",
            "text/plain": [
              "<Figure size 432x288 with 1 Axes>"
            ]
          },
          "metadata": {
            "needs_background": "light"
          }
        }
      ]
    },
    {
      "cell_type": "markdown",
      "metadata": {
        "id": "ldRe2q9f07vR"
      },
      "source": [
        "Well, the decision function didn't help much in our case. \n",
        "Let's try our next approach."
      ]
    },
    {
      "cell_type": "markdown",
      "metadata": {
        "id": "1Ijt4b3lj9iq"
      },
      "source": [
        "## Best Solution - After handling the imbalanced data"
      ]
    },
    {
      "cell_type": "markdown",
      "metadata": {
        "id": "jMOhGNun1oXP"
      },
      "source": [
        "A smart way to overcome challenges from imbalanced data is to generate new samples in the classes which are under-represented.\n",
        "\n",
        "The different available methods are:\n"
      ]
    },
    {
      "cell_type": "code",
      "metadata": {
        "colab": {
          "base_uri": "https://localhost:8080/"
        },
        "id": "MjTzDoRjD8pM",
        "outputId": "777a3fad-1b7e-4fa2-eb13-1f2ca9e575ee"
      },
      "source": [
        "ros = RandomOverSampler(random_state=0)\n",
        "X_resampled, y_resampled = ros.fit_resample(X, y)\n",
        "X_train, X_test, y_train, y_test = train_test_split(X_resampled, y_resampled, shuffle=True, stratify=y_resampled, test_size = 0.25)"
      ],
      "execution_count": null,
      "outputs": [
        {
          "output_type": "stream",
          "name": "stderr",
          "text": [
            "/usr/local/lib/python3.7/dist-packages/sklearn/utils/deprecation.py:87: FutureWarning: Function safe_indexing is deprecated; safe_indexing is deprecated in version 0.22 and will be removed in version 0.24.\n",
            "  warnings.warn(msg, category=FutureWarning)\n"
          ]
        }
      ]
    },
    {
      "cell_type": "code",
      "metadata": {
        "colab": {
          "base_uri": "https://localhost:8080/"
        },
        "id": "l323VuRH3SEo",
        "outputId": "581d62d3-e657-4686-8d49-c108386d3124"
      },
      "source": [
        "results = []\n",
        "for name, model in models:\n",
        "        kfold = KFold(n_splits=7, random_state=42,shuffle = True)\n",
        "        cv_results = cross_val_score(model, X_train, y_train, cv=kfold, scoring=scoring)\n",
        "        results.append(cv_results)\n",
        "        names.append(name)\n",
        "        opt = \"%s has an average recall of : %f with Standard Deviation: %f\" % (name, cv_results.mean(), cv_results.std())\n",
        "        print(opt)"
      ],
      "execution_count": null,
      "outputs": [
        {
          "output_type": "stream",
          "name": "stdout",
          "text": [
            "KNN has an average recall of : 0.765406 with Standard Deviation: 0.027026\n",
            "CART has an average recall of : 0.942317 with Standard Deviation: 0.011111\n",
            "NB has an average recall of : 0.604442 with Standard Deviation: 0.059413\n",
            "RF has an average recall of : 0.940941 with Standard Deviation: 0.018692\n",
            "XGB has an average recall of : 0.743155 with Standard Deviation: 0.025638\n"
          ]
        }
      ]
    },
    {
      "cell_type": "code",
      "metadata": {
        "colab": {
          "base_uri": "https://localhost:8080/",
          "height": 663
        },
        "id": "4YsqvtSc3lHn",
        "outputId": "63d15e75-f4c4-43ed-8ae9-1cbe1b85805d"
      },
      "source": [
        "fig = plt.figure(figsize=(15,10))\n",
        "fig.suptitle('Model Comparision')\n",
        "ax = fig.add_subplot(111)\n",
        "plt.boxplot(results, patch_artist=True,showfliers=False)\n",
        "ax.set_xticklabels(names)\n",
        "plt.show()"
      ],
      "execution_count": null,
      "outputs": [
        {
          "output_type": "display_data",
          "data": {
            "image/png": "[encoded data removed]",
            "text/plain": [
              "<Figure size 1080x720 with 1 Axes>"
            ]
          },
          "metadata": {
            "needs_background": "light"
          }
        }
      ]
    },
    {
      "cell_type": "code",
      "metadata": {
        "colab": {
          "base_uri": "https://localhost:8080/",
          "height": 532
        },
        "id": "l8XfGRiN3tFg",
        "outputId": "bd2729d5-56d1-438b-bbbc-fa2877697bc3"
      },
      "source": [
        "predict_score, grid_search_clf = grid_search_function(refit_score='recall_score')"
      ],
      "execution_count": null,
      "outputs": [
        {
          "output_type": "stream",
          "name": "stdout",
          "text": [
            "Best params recall_score\n",
            "{'max_depth': 18, 'max_features': 11, 'min_samples_split': 2}\n",
            "0.9511383161512029\n",
            "\n",
            "Confusion matrix of CART optimized for recall_score:\n",
            "              precision    recall  f1-score   support\n",
            "\n",
            "           0       0.99      0.71      0.83       225\n",
            "           1       0.77      0.99      0.87       225\n",
            "\n",
            "    accuracy                           0.85       450\n",
            "   macro avg       0.88      0.85      0.85       450\n",
            "weighted avg       0.88      0.85      0.85       450\n",
            "\n",
            "Precision score is 0.7743055555555556 and Recall score is 0.9911111111111112\n"
          ]
        },
        {
          "output_type": "display_data",
          "data": {
            "image/png": "[encoded data removed]",
            "text/plain": [
              "<Figure size 432x288 with 2 Axes>"
            ]
          },
          "metadata": {
            "needs_background": "light"
          }
        }
      ]
    },
    {
      "cell_type": "code",
      "metadata": {
        "id": "7Kcm4ettJvic",
        "colab": {
          "base_uri": "https://localhost:8080/",
          "height": 313
        },
        "outputId": "fca07878-8f62-4628-b626-bbe5168ec90f"
      },
      "source": [
        "fpr, tpr, _ =  roc_curve(y_test, predict_score)\n",
        "print(\"Area Under Curve is {}\".format(roc_auc_score(y_test, predict_score)))\n",
        "\n",
        "plt.plot([0, 1], [0, 1], 'k--')\n",
        "plt.plot(fpr, tpr)\n",
        "plt.xlabel('False Positive Rate')\n",
        "plt.ylabel('True Positive Rate')\n",
        "plt.title('ROC Curve')\n",
        "plt.show()"
      ],
      "execution_count": null,
      "outputs": [
        {
          "output_type": "stream",
          "name": "stdout",
          "text": [
            "Area Under Curve is 0.8545382716049382\n"
          ]
        },
        {
          "output_type": "display_data",
          "data": {
            "image/png": "[encoded data removed]",
            "text/plain": [
              "<Figure size 432x288 with 1 Axes>"
            ]
          },
          "metadata": {
            "needs_background": "light"
          }
        }
      ]
    },
    {
      "cell_type": "markdown",
      "metadata": {
        "id": "HdV42wxe6uoS"
      },
      "source": [
        "# Conclusion\n",
        "\n",
        "We have a better model with recall of about 0.85 and Area under curve of 1. \n",
        "This model should weed out the higher risk customers in an efficient but sometimes at the cost of categorizing some low risk customers also as high risk customers. \n",
        "This could, however, be mitigated by adding more training data and further tuning of the hyperparameters with a wide parameter search space. "
      ]
    },
    {
      "cell_type": "markdown",
      "metadata": {
        "id": "RrxfrVlBRTNS"
      },
      "source": [
        "# Exploratory Data Analysis Of Payment Data"
      ]
    },
    {
      "cell_type": "code",
      "metadata": {
        "id": "kb8EAWazQ9cA"
      },
      "source": [
        "pay_cus = pd.merge(cust_df,paymt_df, on='id', how ='inner')"
      ],
      "execution_count": null,
      "outputs": []
    },
    {
      "cell_type": "code",
      "metadata": {
        "colab": {
          "base_uri": "https://localhost:8080/",
          "height": 542
        },
        "id": "QkhktLYkQ9Wp",
        "outputId": "377bff7d-3560-407b-a773-c755647abbbe"
      },
      "source": [
        "temp_df = pay_cus.groupby(['label'])['highest_balance'].mean().reset_index()\n",
        "temp_df = temp_df.sort_values(by=['highest_balance'],ascending=False)\n",
        "\n",
        "layout = dict(\n",
        "    title_text = \"<b> Average Highest Balance By Label </b>\",\n",
        "    xaxis_title=\"Label\",\n",
        "    yaxis_title=\"Mean Highest Balance\",\n",
        "    title_x = 0.5)\n",
        "\n",
        "fig = px.bar(x=temp_df['label'],y= temp_df['highest_balance'],\n",
        "             color = temp_df['highest_balance'],\n",
        "             color_continuous_scale=px.colors.sequential.RdBu)\n",
        "\n",
        "fig.update_layout(layout, template = 'plotly_dark')   \n",
        "fig.show()"
      ],
      "execution_count": null,
      "outputs": [
        {
          "output_type": "display_data",
          "data": {
            "text/html": [
              "<html>\n",
              "<head><meta charset=\"utf-8\" /></head>\n",
              "<body>\n",
              "    <div>\n",
              "            <script src=\"https://cdnjs.cloudflare.com/ajax/libs/mathjax/2.7.5/MathJax.js?config=TeX-AMS-MML_SVG\"></script><script type=\"text/javascript\">if (window.MathJax) {MathJax.Hub.Config({SVG: {font: \"STIX-Web\"}});}</script>\n",
              "                <script type=\"text/javascript\">window.PlotlyConfig = {MathJaxConfig: 'local'};</script>\n",
              "        <script src=\"https://cdn.plot.ly/plotly-latest.min.js\"></script>    \n",
              "            <div id=\"e6117714-c9a0-422f-a3c0-484ae8d38d25\" class=\"plotly-graph-div\" style=\"height:525px; width:100%;\"></div>\n",
              "            <script type=\"text/javascript\">\n",
              "                \n",
              "                    window.PLOTLYENV=window.PLOTLYENV || {};\n",
              "                    \n",
              "                if (document.getElementById(\"e6117714-c9a0-422f-a3c0-484ae8d38d25\")) {\n",
              "                    Plotly.newPlot(\n",
              "                        'e6117714-c9a0-422f-a3c0-484ae8d38d25',\n",
              "                        [{\"alignmentgroup\": \"True\", \"hoverlabel\": {\"namelength\": 0}, \"hovertemplate\": \"x=%{x}<br>y=%{y}<br>color=%{marker.color}\", \"legendgroup\": \"\", \"marker\": {\"color\": [566087.2900820284, 147637.772], \"coloraxis\": \"coloraxis\"}, \"name\": \"\", \"offsetgroup\": \"\", \"orientation\": \"v\", \"showlegend\": false, \"textposition\": \"auto\", \"type\": \"bar\", \"x\": [1, 0], \"xaxis\": \"x\", \"y\": [566087.2900820284, 147637.772], \"yaxis\": \"y\"}],\n",
              "                        {\"barmode\": \"relative\", \"coloraxis\": {\"colorbar\": {\"title\": {\"text\": \"color\"}}, \"colorscale\": [[0.0, \"rgb(103,0,31)\"], [0.1, \"rgb(178,24,43)\"], [0.2, \"rgb(214,96,77)\"], [0.3, \"rgb(244,165,130)\"], [0.4, \"rgb(253,219,199)\"], [0.5, \"rgb(247,247,247)\"], [0.6, \"rgb(209,229,240)\"], [0.7, \"rgb(146,197,222)\"], [0.8, \"rgb(67,147,195)\"], [0.9, \"rgb(33,102,172)\"], [1.0, \"rgb(5,48,97)\"]]}, \"legend\": {\"tracegroupgap\": 0}, \"margin\": {\"t\": 60}, \"template\": {\"data\": {\"bar\": [{\"error_x\": {\"color\": \"#f2f5fa\"}, \"error_y\": {\"color\": \"#f2f5fa\"}, \"marker\": {\"line\": {\"color\": \"rgb(17,17,17)\", \"width\": 0.5}}, \"type\": \"bar\"}], \"barpolar\": [{\"marker\": {\"line\": {\"color\": \"rgb(17,17,17)\", \"width\": 0.5}}, \"type\": \"barpolar\"}], \"carpet\": [{\"aaxis\": {\"endlinecolor\": \"#A2B1C6\", \"gridcolor\": \"#506784\", \"linecolor\": \"#506784\", \"minorgridcolor\": \"#506784\", \"startlinecolor\": \"#A2B1C6\"}, \"baxis\": {\"endlinecolor\": \"#A2B1C6\", \"gridcolor\": \"#506784\", \"linecolor\": \"#506784\", \"minorgridcolor\": \"#506784\", \"startlinecolor\": \"#A2B1C6\"}, \"type\": \"carpet\"}], \"choropleth\": [{\"colorbar\": {\"outlinewidth\": 0, \"ticks\": \"\"}, \"type\": \"choropleth\"}], \"contour\": [{\"colorbar\": {\"outlinewidth\": 0, \"ticks\": \"\"}, \"colorscale\": [[0.0, \"#0d0887\"], [0.1111111111111111, \"#46039f\"], [0.2222222222222222, \"#7201a8\"], [0.3333333333333333, \"#9c179e\"], [0.4444444444444444, \"#bd3786\"], [0.5555555555555556, \"#d8576b\"], [0.6666666666666666, \"#ed7953\"], [0.7777777777777778, \"#fb9f3a\"], [0.8888888888888888, \"#fdca26\"], [1.0, \"#f0f921\"]], \"type\": \"contour\"}], \"contourcarpet\": [{\"colorbar\": {\"outlinewidth\": 0, \"ticks\": \"\"}, \"type\": \"contourcarpet\"}], \"heatmap\": [{\"colorbar\": {\"outlinewidth\": 0, \"ticks\": \"\"}, \"colorscale\": [[0.0, \"#0d0887\"], [0.1111111111111111, \"#46039f\"], [0.2222222222222222, \"#7201a8\"], [0.3333333333333333, \"#9c179e\"], [0.4444444444444444, \"#bd3786\"], [0.5555555555555556, \"#d8576b\"], [0.6666666666666666, \"#ed7953\"], [0.7777777777777778, \"#fb9f3a\"], [0.8888888888888888, \"#fdca26\"], [1.0, \"#f0f921\"]], \"type\": \"heatmap\"}], \"heatmapgl\": [{\"colorbar\": {\"outlinewidth\": 0, \"ticks\": \"\"}, \"colorscale\": [[0.0, \"#0d0887\"], [0.1111111111111111, \"#46039f\"], [0.2222222222222222, \"#7201a8\"], [0.3333333333333333, \"#9c179e\"], [0.4444444444444444, \"#bd3786\"], [0.5555555555555556, \"#d8576b\"], [0.6666666666666666, \"#ed7953\"], [0.7777777777777778, \"#fb9f3a\"], [0.8888888888888888, \"#fdca26\"], [1.0, \"#f0f921\"]], \"type\": \"heatmapgl\"}], \"histogram\": [{\"marker\": {\"colorbar\": {\"outlinewidth\": 0, \"ticks\": \"\"}}, \"type\": \"histogram\"}], \"histogram2d\": [{\"colorbar\": {\"outlinewidth\": 0, \"ticks\": \"\"}, \"colorscale\": [[0.0, \"#0d0887\"], [0.1111111111111111, \"#46039f\"], [0.2222222222222222, \"#7201a8\"], [0.3333333333333333, \"#9c179e\"], [0.4444444444444444, \"#bd3786\"], [0.5555555555555556, \"#d8576b\"], [0.6666666666666666, \"#ed7953\"], [0.7777777777777778, \"#fb9f3a\"], [0.8888888888888888, \"#fdca26\"], [1.0, \"#f0f921\"]], \"type\": \"histogram2d\"}], \"histogram2dcontour\": [{\"colorbar\": {\"outlinewidth\": 0, \"ticks\": \"\"}, \"colorscale\": [[0.0, \"#0d0887\"], [0.1111111111111111, \"#46039f\"], [0.2222222222222222, \"#7201a8\"], [0.3333333333333333, \"#9c179e\"], [0.4444444444444444, \"#bd3786\"], [0.5555555555555556, \"#d8576b\"], [0.6666666666666666, \"#ed7953\"], [0.7777777777777778, \"#fb9f3a\"], [0.8888888888888888, \"#fdca26\"], [1.0, \"#f0f921\"]], \"type\": \"histogram2dcontour\"}], \"mesh3d\": [{\"colorbar\": {\"outlinewidth\": 0, \"ticks\": \"\"}, \"type\": \"mesh3d\"}], \"parcoords\": [{\"line\": {\"colorbar\": {\"outlinewidth\": 0, \"ticks\": \"\"}}, \"type\": \"parcoords\"}], \"pie\": [{\"automargin\": true, \"type\": \"pie\"}], \"scatter\": [{\"marker\": {\"line\": {\"color\": \"#283442\"}}, \"type\": \"scatter\"}], \"scatter3d\": [{\"line\": {\"colorbar\": {\"outlinewidth\": 0, \"ticks\": \"\"}}, \"marker\": {\"colorbar\": {\"outlinewidth\": 0, \"ticks\": \"\"}}, \"type\": \"scatter3d\"}], \"scattercarpet\": [{\"marker\": {\"colorbar\": {\"outlinewidth\": 0, \"ticks\": \"\"}}, \"type\": \"scattercarpet\"}], \"scattergeo\": [{\"marker\": {\"colorbar\": {\"outlinewidth\": 0, \"ticks\": \"\"}}, \"type\": \"scattergeo\"}], \"scattergl\": [{\"marker\": {\"line\": {\"color\": \"#283442\"}}, \"type\": \"scattergl\"}], \"scattermapbox\": [{\"marker\": {\"colorbar\": {\"outlinewidth\": 0, \"ticks\": \"\"}}, \"type\": \"scattermapbox\"}], \"scatterpolar\": [{\"marker\": {\"colorbar\": {\"outlinewidth\": 0, \"ticks\": \"\"}}, \"type\": \"scatterpolar\"}], \"scatterpolargl\": [{\"marker\": {\"colorbar\": {\"outlinewidth\": 0, \"ticks\": \"\"}}, \"type\": \"scatterpolargl\"}], \"scatterternary\": [{\"marker\": {\"colorbar\": {\"outlinewidth\": 0, \"ticks\": \"\"}}, \"type\": \"scatterternary\"}], \"surface\": [{\"colorbar\": {\"outlinewidth\": 0, \"ticks\": \"\"}, \"colorscale\": [[0.0, \"#0d0887\"], [0.1111111111111111, \"#46039f\"], [0.2222222222222222, \"#7201a8\"], [0.3333333333333333, \"#9c179e\"], [0.4444444444444444, \"#bd3786\"], [0.5555555555555556, \"#d8576b\"], [0.6666666666666666, \"#ed7953\"], [0.7777777777777778, \"#fb9f3a\"], [0.8888888888888888, \"#fdca26\"], [1.0, \"#f0f921\"]], \"type\": \"surface\"}], \"table\": [{\"cells\": {\"fill\": {\"color\": \"#506784\"}, \"line\": {\"color\": \"rgb(17,17,17)\"}}, \"header\": {\"fill\": {\"color\": \"#2a3f5f\"}, \"line\": {\"color\": \"rgb(17,17,17)\"}}, \"type\": \"table\"}]}, \"layout\": {\"annotationdefaults\": {\"arrowcolor\": \"#f2f5fa\", \"arrowhead\": 0, \"arrowwidth\": 1}, \"coloraxis\": {\"colorbar\": {\"outlinewidth\": 0, \"ticks\": \"\"}}, \"colorscale\": {\"diverging\": [[0, \"#8e0152\"], [0.1, \"#c51b7d\"], [0.2, \"#de77ae\"], [0.3, \"#f1b6da\"], [0.4, \"#fde0ef\"], [0.5, \"#f7f7f7\"], [0.6, \"#e6f5d0\"], [0.7, \"#b8e186\"], [0.8, \"#7fbc41\"], [0.9, \"#4d9221\"], [1, \"#276419\"]], \"sequential\": [[0.0, \"#0d0887\"], [0.1111111111111111, \"#46039f\"], [0.2222222222222222, \"#7201a8\"], [0.3333333333333333, \"#9c179e\"], [0.4444444444444444, \"#bd3786\"], [0.5555555555555556, \"#d8576b\"], [0.6666666666666666, \"#ed7953\"], [0.7777777777777778, \"#fb9f3a\"], [0.8888888888888888, \"#fdca26\"], [1.0, \"#f0f921\"]], \"sequentialminus\": [[0.0, \"#0d0887\"], [0.1111111111111111, \"#46039f\"], [0.2222222222222222, \"#7201a8\"], [0.3333333333333333, \"#9c179e\"], [0.4444444444444444, \"#bd3786\"], [0.5555555555555556, \"#d8576b\"], [0.6666666666666666, \"#ed7953\"], [0.7777777777777778, \"#fb9f3a\"], [0.8888888888888888, \"#fdca26\"], [1.0, \"#f0f921\"]]}, \"colorway\": [\"#636efa\", \"#EF553B\", \"#00cc96\", \"#ab63fa\", \"#FFA15A\", \"#19d3f3\", \"#FF6692\", \"#B6E880\", \"#FF97FF\", \"#FECB52\"], \"font\": {\"color\": \"#f2f5fa\"}, \"geo\": {\"bgcolor\": \"rgb(17,17,17)\", \"lakecolor\": \"rgb(17,17,17)\", \"landcolor\": \"rgb(17,17,17)\", \"showlakes\": true, \"showland\": true, \"subunitcolor\": \"#506784\"}, \"hoverlabel\": {\"align\": \"left\"}, \"hovermode\": \"closest\", \"mapbox\": {\"style\": \"dark\"}, \"paper_bgcolor\": \"rgb(17,17,17)\", \"plot_bgcolor\": \"rgb(17,17,17)\", \"polar\": {\"angularaxis\": {\"gridcolor\": \"#506784\", \"linecolor\": \"#506784\", \"ticks\": \"\"}, \"bgcolor\": \"rgb(17,17,17)\", \"radialaxis\": {\"gridcolor\": \"#506784\", \"linecolor\": \"#506784\", \"ticks\": \"\"}}, \"scene\": {\"xaxis\": {\"backgroundcolor\": \"rgb(17,17,17)\", \"gridcolor\": \"#506784\", \"gridwidth\": 2, \"linecolor\": \"#506784\", \"showbackground\": true, \"ticks\": \"\", \"zerolinecolor\": \"#C8D4E3\"}, \"yaxis\": {\"backgroundcolor\": \"rgb(17,17,17)\", \"gridcolor\": \"#506784\", \"gridwidth\": 2, \"linecolor\": \"#506784\", \"showbackground\": true, \"ticks\": \"\", \"zerolinecolor\": \"#C8D4E3\"}, \"zaxis\": {\"backgroundcolor\": \"rgb(17,17,17)\", \"gridcolor\": \"#506784\", \"gridwidth\": 2, \"linecolor\": \"#506784\", \"showbackground\": true, \"ticks\": \"\", \"zerolinecolor\": \"#C8D4E3\"}}, \"shapedefaults\": {\"line\": {\"color\": \"#f2f5fa\"}}, \"sliderdefaults\": {\"bgcolor\": \"#C8D4E3\", \"bordercolor\": \"rgb(17,17,17)\", \"borderwidth\": 1, \"tickwidth\": 0}, \"ternary\": {\"aaxis\": {\"gridcolor\": \"#506784\", \"linecolor\": \"#506784\", \"ticks\": \"\"}, \"baxis\": {\"gridcolor\": \"#506784\", \"linecolor\": \"#506784\", \"ticks\": \"\"}, \"bgcolor\": \"rgb(17,17,17)\", \"caxis\": {\"gridcolor\": \"#506784\", \"linecolor\": \"#506784\", \"ticks\": \"\"}}, \"title\": {\"x\": 0.05}, \"updatemenudefaults\": {\"bgcolor\": \"#506784\", \"borderwidth\": 0}, \"xaxis\": {\"automargin\": true, \"gridcolor\": \"#283442\", \"linecolor\": \"#506784\", \"ticks\": \"\", \"title\": {\"standoff\": 15}, \"zerolinecolor\": \"#283442\", \"zerolinewidth\": 2}, \"yaxis\": {\"automargin\": true, \"gridcolor\": \"#283442\", \"linecolor\": \"#506784\", \"ticks\": \"\", \"title\": {\"standoff\": 15}, \"zerolinecolor\": \"#283442\", \"zerolinewidth\": 2}}}, \"title\": {\"text\": \"<b> Average Highest Balance By Label </b>\", \"x\": 0.5}, \"xaxis\": {\"anchor\": \"y\", \"domain\": [0.0, 1.0], \"title\": {\"text\": \"Label\"}}, \"yaxis\": {\"anchor\": \"x\", \"domain\": [0.0, 1.0], \"title\": {\"text\": \"Mean Highest Balance\"}}},\n",
              "                        {\"responsive\": true}\n",
              "                    ).then(function(){\n",
              "                            \n",
              "var gd = document.getElementById('e6117714-c9a0-422f-a3c0-484ae8d38d25');\n",
              "var x = new MutationObserver(function (mutations, observer) {{\n",
              "        var display = window.getComputedStyle(gd).display;\n",
              "        if (!display || display === 'none') {{\n",
              "            console.log([gd, 'removed!']);\n",
              "            Plotly.purge(gd);\n",
              "            observer.disconnect();\n",
              "        }}\n",
              "}});\n",
              "\n",
              "// Listen for the removal of the full notebook cells\n",
              "var notebookContainer = gd.closest('#notebook-container');\n",
              "if (notebookContainer) {{\n",
              "    x.observe(notebookContainer, {childList: true});\n",
              "}}\n",
              "\n",
              "// Listen for the clearing of the current output cell\n",
              "var outputEl = gd.closest('.output');\n",
              "if (outputEl) {{\n",
              "    x.observe(outputEl, {childList: true});\n",
              "}}\n",
              "\n",
              "                        })\n",
              "                };\n",
              "                \n",
              "            </script>\n",
              "        </div>\n",
              "</body>\n",
              "</html>"
            ]
          },
          "metadata": {}
        }
      ]
    },
    {
      "cell_type": "markdown",
      "metadata": {
        "id": "1AdFA5isSqLB"
      },
      "source": [
        "The plot shown above reflects that high risk customer has larger all time high account balance which could be due to some accounts with large amount of funds with its sources being unclear. \n",
        "For example, \n",
        "* non­resident customers\n",
        "* high net worth individuals \n",
        "* trusts, charities, NGOs and organizations receiving donations etc\n",
        "\n",
        "The same hypothesis can also be strengthened using a similar plot for current account balance. "
      ]
    },
    {
      "cell_type": "code",
      "metadata": {
        "colab": {
          "base_uri": "https://localhost:8080/",
          "height": 542
        },
        "id": "eys45zCwQ9UD",
        "outputId": "af774ada-ff06-476d-a7c3-017dec371b89"
      },
      "source": [
        "temp_df = pay_cus.groupby(['label'])['new_balance'].mean().reset_index()\n",
        "temp_df = temp_df.sort_values(by=['new_balance'],ascending=False)\n",
        "\n",
        "layout = dict(\n",
        "    title_text = \"<b> Average Current Balance By Label </b>\",\n",
        "    xaxis_title=\"Label\",\n",
        "    yaxis_title=\"Mean Current Balance\",\n",
        "    title_x = 0.5)\n",
        "\n",
        "fig = px.bar(x=temp_df['label'],y= temp_df['new_balance'],\n",
        "             color = temp_df['new_balance'],\n",
        "             color_continuous_scale=px.colors.sequential.RdBu)\n",
        "\n",
        "fig.update_layout(layout, template = 'plotly_dark')"
      ],
      "execution_count": null,
      "outputs": [
        {
          "output_type": "display_data",
          "data": {
            "text/html": [
              "<html>\n",
              "<head><meta charset=\"utf-8\" /></head>\n",
              "<body>\n",
              "    <div>\n",
              "            <script src=\"https://cdnjs.cloudflare.com/ajax/libs/mathjax/2.7.5/MathJax.js?config=TeX-AMS-MML_SVG\"></script><script type=\"text/javascript\">if (window.MathJax) {MathJax.Hub.Config({SVG: {font: \"STIX-Web\"}});}</script>\n",
              "                <script type=\"text/javascript\">window.PlotlyConfig = {MathJaxConfig: 'local'};</script>\n",
              "        <script src=\"https://cdn.plot.ly/plotly-latest.min.js\"></script>    \n",
              "            <div id=\"43290ff7-e7ec-4043-bad0-26e2c18c7499\" class=\"plotly-graph-div\" style=\"height:525px; width:100%;\"></div>\n",
              "            <script type=\"text/javascript\">\n",
              "                \n",
              "                    window.PLOTLYENV=window.PLOTLYENV || {};\n",
              "                    \n",
              "                if (document.getElementById(\"43290ff7-e7ec-4043-bad0-26e2c18c7499\")) {\n",
              "                    Plotly.newPlot(\n",
              "                        '43290ff7-e7ec-4043-bad0-26e2c18c7499',\n",
              "                        [{\"alignmentgroup\": \"True\", \"hoverlabel\": {\"namelength\": 0}, \"hovertemplate\": \"x=%{x}<br>y=%{y}<br>color=%{marker.color}\", \"legendgroup\": \"\", \"marker\": {\"color\": [255083.41600576794, 75154.2971295353], \"coloraxis\": \"coloraxis\"}, \"name\": \"\", \"offsetgroup\": \"\", \"orientation\": \"v\", \"showlegend\": false, \"textposition\": \"auto\", \"type\": \"bar\", \"x\": [1, 0], \"xaxis\": \"x\", \"y\": [255083.41600576794, 75154.2971295353], \"yaxis\": \"y\"}],\n",
              "                        {\"barmode\": \"relative\", \"coloraxis\": {\"colorbar\": {\"title\": {\"text\": \"color\"}}, \"colorscale\": [[0.0, \"rgb(103,0,31)\"], [0.1, \"rgb(178,24,43)\"], [0.2, \"rgb(214,96,77)\"], [0.3, \"rgb(244,165,130)\"], [0.4, \"rgb(253,219,199)\"], [0.5, \"rgb(247,247,247)\"], [0.6, \"rgb(209,229,240)\"], [0.7, \"rgb(146,197,222)\"], [0.8, \"rgb(67,147,195)\"], [0.9, \"rgb(33,102,172)\"], [1.0, \"rgb(5,48,97)\"]]}, \"legend\": {\"tracegroupgap\": 0}, \"margin\": {\"t\": 60}, \"template\": {\"data\": {\"bar\": [{\"error_x\": {\"color\": \"#f2f5fa\"}, \"error_y\": {\"color\": \"#f2f5fa\"}, \"marker\": {\"line\": {\"color\": \"rgb(17,17,17)\", \"width\": 0.5}}, \"type\": \"bar\"}], \"barpolar\": [{\"marker\": {\"line\": {\"color\": \"rgb(17,17,17)\", \"width\": 0.5}}, \"type\": \"barpolar\"}], \"carpet\": [{\"aaxis\": {\"endlinecolor\": \"#A2B1C6\", \"gridcolor\": \"#506784\", \"linecolor\": \"#506784\", \"minorgridcolor\": \"#506784\", \"startlinecolor\": \"#A2B1C6\"}, \"baxis\": {\"endlinecolor\": \"#A2B1C6\", \"gridcolor\": \"#506784\", \"linecolor\": \"#506784\", \"minorgridcolor\": \"#506784\", \"startlinecolor\": \"#A2B1C6\"}, \"type\": \"carpet\"}], \"choropleth\": [{\"colorbar\": {\"outlinewidth\": 0, \"ticks\": \"\"}, \"type\": \"choropleth\"}], \"contour\": [{\"colorbar\": {\"outlinewidth\": 0, \"ticks\": \"\"}, \"colorscale\": [[0.0, \"#0d0887\"], [0.1111111111111111, \"#46039f\"], [0.2222222222222222, \"#7201a8\"], [0.3333333333333333, \"#9c179e\"], [0.4444444444444444, \"#bd3786\"], [0.5555555555555556, \"#d8576b\"], [0.6666666666666666, \"#ed7953\"], [0.7777777777777778, \"#fb9f3a\"], [0.8888888888888888, \"#fdca26\"], [1.0, \"#f0f921\"]], \"type\": \"contour\"}], \"contourcarpet\": [{\"colorbar\": {\"outlinewidth\": 0, \"ticks\": \"\"}, \"type\": \"contourcarpet\"}], \"heatmap\": [{\"colorbar\": {\"outlinewidth\": 0, \"ticks\": \"\"}, \"colorscale\": [[0.0, \"#0d0887\"], [0.1111111111111111, \"#46039f\"], [0.2222222222222222, \"#7201a8\"], [0.3333333333333333, \"#9c179e\"], [0.4444444444444444, \"#bd3786\"], [0.5555555555555556, \"#d8576b\"], [0.6666666666666666, \"#ed7953\"], [0.7777777777777778, \"#fb9f3a\"], [0.8888888888888888, \"#fdca26\"], [1.0, \"#f0f921\"]], \"type\": \"heatmap\"}], \"heatmapgl\": [{\"colorbar\": {\"outlinewidth\": 0, \"ticks\": \"\"}, \"colorscale\": [[0.0, \"#0d0887\"], [0.1111111111111111, \"#46039f\"], [0.2222222222222222, \"#7201a8\"], [0.3333333333333333, \"#9c179e\"], [0.4444444444444444, \"#bd3786\"], [0.5555555555555556, \"#d8576b\"], [0.6666666666666666, \"#ed7953\"], [0.7777777777777778, \"#fb9f3a\"], [0.8888888888888888, \"#fdca26\"], [1.0, \"#f0f921\"]], \"type\": \"heatmapgl\"}], \"histogram\": [{\"marker\": {\"colorbar\": {\"outlinewidth\": 0, \"ticks\": \"\"}}, \"type\": \"histogram\"}], \"histogram2d\": [{\"colorbar\": {\"outlinewidth\": 0, \"ticks\": \"\"}, \"colorscale\": [[0.0, \"#0d0887\"], [0.1111111111111111, \"#46039f\"], [0.2222222222222222, \"#7201a8\"], [0.3333333333333333, \"#9c179e\"], [0.4444444444444444, \"#bd3786\"], [0.5555555555555556, \"#d8576b\"], [0.6666666666666666, \"#ed7953\"], [0.7777777777777778, \"#fb9f3a\"], [0.8888888888888888, \"#fdca26\"], [1.0, \"#f0f921\"]], \"type\": \"histogram2d\"}], \"histogram2dcontour\": [{\"colorbar\": {\"outlinewidth\": 0, \"ticks\": \"\"}, \"colorscale\": [[0.0, \"#0d0887\"], [0.1111111111111111, \"#46039f\"], [0.2222222222222222, \"#7201a8\"], [0.3333333333333333, \"#9c179e\"], [0.4444444444444444, \"#bd3786\"], [0.5555555555555556, \"#d8576b\"], [0.6666666666666666, \"#ed7953\"], [0.7777777777777778, \"#fb9f3a\"], [0.8888888888888888, \"#fdca26\"], [1.0, \"#f0f921\"]], \"type\": \"histogram2dcontour\"}], \"mesh3d\": [{\"colorbar\": {\"outlinewidth\": 0, \"ticks\": \"\"}, \"type\": \"mesh3d\"}], \"parcoords\": [{\"line\": {\"colorbar\": {\"outlinewidth\": 0, \"ticks\": \"\"}}, \"type\": \"parcoords\"}], \"pie\": [{\"automargin\": true, \"type\": \"pie\"}], \"scatter\": [{\"marker\": {\"line\": {\"color\": \"#283442\"}}, \"type\": \"scatter\"}], \"scatter3d\": [{\"line\": {\"colorbar\": {\"outlinewidth\": 0, \"ticks\": \"\"}}, \"marker\": {\"colorbar\": {\"outlinewidth\": 0, \"ticks\": \"\"}}, \"type\": \"scatter3d\"}], \"scattercarpet\": [{\"marker\": {\"colorbar\": {\"outlinewidth\": 0, \"ticks\": \"\"}}, \"type\": \"scattercarpet\"}], \"scattergeo\": [{\"marker\": {\"colorbar\": {\"outlinewidth\": 0, \"ticks\": \"\"}}, \"type\": \"scattergeo\"}], \"scattergl\": [{\"marker\": {\"line\": {\"color\": \"#283442\"}}, \"type\": \"scattergl\"}], \"scattermapbox\": [{\"marker\": {\"colorbar\": {\"outlinewidth\": 0, \"ticks\": \"\"}}, \"type\": \"scattermapbox\"}], \"scatterpolar\": [{\"marker\": {\"colorbar\": {\"outlinewidth\": 0, \"ticks\": \"\"}}, \"type\": \"scatterpolar\"}], \"scatterpolargl\": [{\"marker\": {\"colorbar\": {\"outlinewidth\": 0, \"ticks\": \"\"}}, \"type\": \"scatterpolargl\"}], \"scatterternary\": [{\"marker\": {\"colorbar\": {\"outlinewidth\": 0, \"ticks\": \"\"}}, \"type\": \"scatterternary\"}], \"surface\": [{\"colorbar\": {\"outlinewidth\": 0, \"ticks\": \"\"}, \"colorscale\": [[0.0, \"#0d0887\"], [0.1111111111111111, \"#46039f\"], [0.2222222222222222, \"#7201a8\"], [0.3333333333333333, \"#9c179e\"], [0.4444444444444444, \"#bd3786\"], [0.5555555555555556, \"#d8576b\"], [0.6666666666666666, \"#ed7953\"], [0.7777777777777778, \"#fb9f3a\"], [0.8888888888888888, \"#fdca26\"], [1.0, \"#f0f921\"]], \"type\": \"surface\"}], \"table\": [{\"cells\": {\"fill\": {\"color\": \"#506784\"}, \"line\": {\"color\": \"rgb(17,17,17)\"}}, \"header\": {\"fill\": {\"color\": \"#2a3f5f\"}, \"line\": {\"color\": \"rgb(17,17,17)\"}}, \"type\": \"table\"}]}, \"layout\": {\"annotationdefaults\": {\"arrowcolor\": \"#f2f5fa\", \"arrowhead\": 0, \"arrowwidth\": 1}, \"coloraxis\": {\"colorbar\": {\"outlinewidth\": 0, \"ticks\": \"\"}}, \"colorscale\": {\"diverging\": [[0, \"#8e0152\"], [0.1, \"#c51b7d\"], [0.2, \"#de77ae\"], [0.3, \"#f1b6da\"], [0.4, \"#fde0ef\"], [0.5, \"#f7f7f7\"], [0.6, \"#e6f5d0\"], [0.7, \"#b8e186\"], [0.8, \"#7fbc41\"], [0.9, \"#4d9221\"], [1, \"#276419\"]], \"sequential\": [[0.0, \"#0d0887\"], [0.1111111111111111, \"#46039f\"], [0.2222222222222222, \"#7201a8\"], [0.3333333333333333, \"#9c179e\"], [0.4444444444444444, \"#bd3786\"], [0.5555555555555556, \"#d8576b\"], [0.6666666666666666, \"#ed7953\"], [0.7777777777777778, \"#fb9f3a\"], [0.8888888888888888, \"#fdca26\"], [1.0, \"#f0f921\"]], \"sequentialminus\": [[0.0, \"#0d0887\"], [0.1111111111111111, \"#46039f\"], [0.2222222222222222, \"#7201a8\"], [0.3333333333333333, \"#9c179e\"], [0.4444444444444444, \"#bd3786\"], [0.5555555555555556, \"#d8576b\"], [0.6666666666666666, \"#ed7953\"], [0.7777777777777778, \"#fb9f3a\"], [0.8888888888888888, \"#fdca26\"], [1.0, \"#f0f921\"]]}, \"colorway\": [\"#636efa\", \"#EF553B\", \"#00cc96\", \"#ab63fa\", \"#FFA15A\", \"#19d3f3\", \"#FF6692\", \"#B6E880\", \"#FF97FF\", \"#FECB52\"], \"font\": {\"color\": \"#f2f5fa\"}, \"geo\": {\"bgcolor\": \"rgb(17,17,17)\", \"lakecolor\": \"rgb(17,17,17)\", \"landcolor\": \"rgb(17,17,17)\", \"showlakes\": true, \"showland\": true, \"subunitcolor\": \"#506784\"}, \"hoverlabel\": {\"align\": \"left\"}, \"hovermode\": \"closest\", \"mapbox\": {\"style\": \"dark\"}, \"paper_bgcolor\": \"rgb(17,17,17)\", \"plot_bgcolor\": \"rgb(17,17,17)\", \"polar\": {\"angularaxis\": {\"gridcolor\": \"#506784\", \"linecolor\": \"#506784\", \"ticks\": \"\"}, \"bgcolor\": \"rgb(17,17,17)\", \"radialaxis\": {\"gridcolor\": \"#506784\", \"linecolor\": \"#506784\", \"ticks\": \"\"}}, \"scene\": {\"xaxis\": {\"backgroundcolor\": \"rgb(17,17,17)\", \"gridcolor\": \"#506784\", \"gridwidth\": 2, \"linecolor\": \"#506784\", \"showbackground\": true, \"ticks\": \"\", \"zerolinecolor\": \"#C8D4E3\"}, \"yaxis\": {\"backgroundcolor\": \"rgb(17,17,17)\", \"gridcolor\": \"#506784\", \"gridwidth\": 2, \"linecolor\": \"#506784\", \"showbackground\": true, \"ticks\": \"\", \"zerolinecolor\": \"#C8D4E3\"}, \"zaxis\": {\"backgroundcolor\": \"rgb(17,17,17)\", \"gridcolor\": \"#506784\", \"gridwidth\": 2, \"linecolor\": \"#506784\", \"showbackground\": true, \"ticks\": \"\", \"zerolinecolor\": \"#C8D4E3\"}}, \"shapedefaults\": {\"line\": {\"color\": \"#f2f5fa\"}}, \"sliderdefaults\": {\"bgcolor\": \"#C8D4E3\", \"bordercolor\": \"rgb(17,17,17)\", \"borderwidth\": 1, \"tickwidth\": 0}, \"ternary\": {\"aaxis\": {\"gridcolor\": \"#506784\", \"linecolor\": \"#506784\", \"ticks\": \"\"}, \"baxis\": {\"gridcolor\": \"#506784\", \"linecolor\": \"#506784\", \"ticks\": \"\"}, \"bgcolor\": \"rgb(17,17,17)\", \"caxis\": {\"gridcolor\": \"#506784\", \"linecolor\": \"#506784\", \"ticks\": \"\"}}, \"title\": {\"x\": 0.05}, \"updatemenudefaults\": {\"bgcolor\": \"#506784\", \"borderwidth\": 0}, \"xaxis\": {\"automargin\": true, \"gridcolor\": \"#283442\", \"linecolor\": \"#506784\", \"ticks\": \"\", \"title\": {\"standoff\": 15}, \"zerolinecolor\": \"#283442\", \"zerolinewidth\": 2}, \"yaxis\": {\"automargin\": true, \"gridcolor\": \"#283442\", \"linecolor\": \"#506784\", \"ticks\": \"\", \"title\": {\"standoff\": 15}, \"zerolinecolor\": \"#283442\", \"zerolinewidth\": 2}}}, \"title\": {\"text\": \"<b> Average Current Balance By Label </b>\", \"x\": 0.5}, \"xaxis\": {\"anchor\": \"y\", \"domain\": [0.0, 1.0], \"title\": {\"text\": \"Label\"}}, \"yaxis\": {\"anchor\": \"x\", \"domain\": [0.0, 1.0], \"title\": {\"text\": \"Mean Current Balance\"}}},\n",
              "                        {\"responsive\": true}\n",
              "                    ).then(function(){\n",
              "                            \n",
              "var gd = document.getElementById('43290ff7-e7ec-4043-bad0-26e2c18c7499');\n",
              "var x = new MutationObserver(function (mutations, observer) {{\n",
              "        var display = window.getComputedStyle(gd).display;\n",
              "        if (!display || display === 'none') {{\n",
              "            console.log([gd, 'removed!']);\n",
              "            Plotly.purge(gd);\n",
              "            observer.disconnect();\n",
              "        }}\n",
              "}});\n",
              "\n",
              "// Listen for the removal of the full notebook cells\n",
              "var notebookContainer = gd.closest('#notebook-container');\n",
              "if (notebookContainer) {{\n",
              "    x.observe(notebookContainer, {childList: true});\n",
              "}}\n",
              "\n",
              "// Listen for the clearing of the current output cell\n",
              "var outputEl = gd.closest('.output');\n",
              "if (outputEl) {{\n",
              "    x.observe(outputEl, {childList: true});\n",
              "}}\n",
              "\n",
              "                        })\n",
              "                };\n",
              "                \n",
              "            </script>\n",
              "        </div>\n",
              "</body>\n",
              "</html>"
            ]
          },
          "metadata": {}
        }
      ]
    },
    {
      "cell_type": "code",
      "metadata": {
        "colab": {
          "base_uri": "https://localhost:8080/",
          "height": 542
        },
        "id": "2tlPfYfMWmJf",
        "outputId": "15b17893-1ee4-49b8-b5c0-4044de3890d9"
      },
      "source": [
        "layout = dict(\n",
        "    title_text = \"<b> Normal Pay Distribution by Label </b>\",\n",
        "    xaxis_title=\"Number of Normal Payment\",\n",
        "    yaxis_title=\"Frequency\",\n",
        "    title_x = 0.5)\n",
        "\n",
        "fig = px.line(pay_cus,\n",
        "              x=pay_cus[pay_cus['label']==0]['pay_normal'].value_counts().sort_index().index,\n",
        "              y=pay_cus[pay_cus['label']==0]['pay_normal'].value_counts().sort_index().values\n",
        "              )\n",
        "\n",
        "fig.add_trace(go.Scatter(x=pay_cus[pay_cus['label']==1]['pay_normal'].value_counts().sort_index().index,\n",
        "                         y=pay_cus[pay_cus['label']==1]['pay_normal'].value_counts().sort_index().values,\n",
        "                         name=\"High Risk\",\n",
        "                         line=dict(color=\"red\")))\n",
        "\n",
        "fig.update_layout(layout, template = 'plotly_dark')\n",
        "fig.show()"
      ],
      "execution_count": null,
      "outputs": [
        {
          "output_type": "display_data",
          "data": {
            "text/html": [
              "<html>\n",
              "<head><meta charset=\"utf-8\" /></head>\n",
              "<body>\n",
              "    <div>\n",
              "            <script src=\"https://cdnjs.cloudflare.com/ajax/libs/mathjax/2.7.5/MathJax.js?config=TeX-AMS-MML_SVG\"></script><script type=\"text/javascript\">if (window.MathJax) {MathJax.Hub.Config({SVG: {font: \"STIX-Web\"}});}</script>\n",
              "                <script type=\"text/javascript\">window.PlotlyConfig = {MathJaxConfig: 'local'};</script>\n",
              "        <script src=\"https://cdn.plot.ly/plotly-latest.min.js\"></script>    \n",
              "            <div id=\"bfeb99c8-2f86-4c26-94a2-f7f274f942f8\" class=\"plotly-graph-div\" style=\"height:525px; width:100%;\"></div>\n",
              "            <script type=\"text/javascript\">\n",
              "                \n",
              "                    window.PLOTLYENV=window.PLOTLYENV || {};\n",
              "                    \n",
              "                if (document.getElementById(\"bfeb99c8-2f86-4c26-94a2-f7f274f942f8\")) {\n",
              "                    Plotly.newPlot(\n",
              "                        'bfeb99c8-2f86-4c26-94a2-f7f274f942f8',\n",
              "                        [{\"hoverlabel\": {\"namelength\": 0}, \"hovertemplate\": \"x=%{x}<br>y=%{y}\", \"legendgroup\": \"\", \"line\": {\"color\": \"#636efa\", \"dash\": \"solid\"}, \"mode\": \"lines\", \"name\": \"\", \"showlegend\": false, \"type\": \"scatter\", \"x\": [0, 1, 2, 3, 4, 5, 6, 7, 8, 9, 10, 11, 12, 13, 14, 15, 16, 17, 18, 19, 20, 21, 22, 23, 24, 25, 26, 27, 28, 29, 30, 31, 32, 33, 34, 35, 36], \"xaxis\": \"x\", \"y\": [236, 743, 325, 291, 261, 236, 224, 216, 232, 246, 221, 210, 216, 163, 154, 146, 124, 102, 111, 130, 110, 107, 95, 80, 92, 97, 90, 90, 103, 73, 73, 99, 97, 101, 153, 247, 569], \"yaxis\": \"y\"}, {\"line\": {\"color\": \"red\"}, \"name\": \"High Risk\", \"type\": \"scatter\", \"x\": [0, 1, 2, 3, 4, 5, 6, 7, 8, 9, 10, 11, 12, 13, 14, 15, 16, 17, 18, 19, 20, 21, 22, 23, 24, 25, 26, 27, 28, 29, 30, 31, 32, 33, 34, 35, 36], \"y\": [49, 167, 94, 54, 54, 47, 70, 63, 51, 53, 63, 44, 46, 24, 20, 37, 23, 22, 14, 17, 26, 20, 15, 21, 17, 24, 13, 13, 18, 15, 13, 18, 8, 18, 15, 39, 82]}],\n",
              "                        {\"legend\": {\"tracegroupgap\": 0}, \"margin\": {\"t\": 60}, \"template\": {\"data\": {\"bar\": [{\"error_x\": {\"color\": \"#f2f5fa\"}, \"error_y\": {\"color\": \"#f2f5fa\"}, \"marker\": {\"line\": {\"color\": \"rgb(17,17,17)\", \"width\": 0.5}}, \"type\": \"bar\"}], \"barpolar\": [{\"marker\": {\"line\": {\"color\": \"rgb(17,17,17)\", \"width\": 0.5}}, \"type\": \"barpolar\"}], \"carpet\": [{\"aaxis\": {\"endlinecolor\": \"#A2B1C6\", \"gridcolor\": \"#506784\", \"linecolor\": \"#506784\", \"minorgridcolor\": \"#506784\", \"startlinecolor\": \"#A2B1C6\"}, \"baxis\": {\"endlinecolor\": \"#A2B1C6\", \"gridcolor\": \"#506784\", \"linecolor\": \"#506784\", \"minorgridcolor\": \"#506784\", \"startlinecolor\": \"#A2B1C6\"}, \"type\": \"carpet\"}], \"choropleth\": [{\"colorbar\": {\"outlinewidth\": 0, \"ticks\": \"\"}, \"type\": \"choropleth\"}], \"contour\": [{\"colorbar\": {\"outlinewidth\": 0, \"ticks\": \"\"}, \"colorscale\": [[0.0, \"#0d0887\"], [0.1111111111111111, \"#46039f\"], [0.2222222222222222, \"#7201a8\"], [0.3333333333333333, \"#9c179e\"], [0.4444444444444444, \"#bd3786\"], [0.5555555555555556, \"#d8576b\"], [0.6666666666666666, \"#ed7953\"], [0.7777777777777778, \"#fb9f3a\"], [0.8888888888888888, \"#fdca26\"], [1.0, \"#f0f921\"]], \"type\": \"contour\"}], \"contourcarpet\": [{\"colorbar\": {\"outlinewidth\": 0, \"ticks\": \"\"}, \"type\": \"contourcarpet\"}], \"heatmap\": [{\"colorbar\": {\"outlinewidth\": 0, \"ticks\": \"\"}, \"colorscale\": [[0.0, \"#0d0887\"], [0.1111111111111111, \"#46039f\"], [0.2222222222222222, \"#7201a8\"], [0.3333333333333333, \"#9c179e\"], [0.4444444444444444, \"#bd3786\"], [0.5555555555555556, \"#d8576b\"], [0.6666666666666666, \"#ed7953\"], [0.7777777777777778, \"#fb9f3a\"], [0.8888888888888888, \"#fdca26\"], [1.0, \"#f0f921\"]], \"type\": \"heatmap\"}], \"heatmapgl\": [{\"colorbar\": {\"outlinewidth\": 0, \"ticks\": \"\"}, \"colorscale\": [[0.0, \"#0d0887\"], [0.1111111111111111, \"#46039f\"], [0.2222222222222222, \"#7201a8\"], [0.3333333333333333, \"#9c179e\"], [0.4444444444444444, \"#bd3786\"], [0.5555555555555556, \"#d8576b\"], [0.6666666666666666, \"#ed7953\"], [0.7777777777777778, \"#fb9f3a\"], [0.8888888888888888, \"#fdca26\"], [1.0, \"#f0f921\"]], \"type\": \"heatmapgl\"}], \"histogram\": [{\"marker\": {\"colorbar\": {\"outlinewidth\": 0, \"ticks\": \"\"}}, \"type\": \"histogram\"}], \"histogram2d\": [{\"colorbar\": {\"outlinewidth\": 0, \"ticks\": \"\"}, \"colorscale\": [[0.0, \"#0d0887\"], [0.1111111111111111, \"#46039f\"], [0.2222222222222222, \"#7201a8\"], [0.3333333333333333, \"#9c179e\"], [0.4444444444444444, \"#bd3786\"], [0.5555555555555556, \"#d8576b\"], [0.6666666666666666, \"#ed7953\"], [0.7777777777777778, \"#fb9f3a\"], [0.8888888888888888, \"#fdca26\"], [1.0, \"#f0f921\"]], \"type\": \"histogram2d\"}], \"histogram2dcontour\": [{\"colorbar\": {\"outlinewidth\": 0, \"ticks\": \"\"}, \"colorscale\": [[0.0, \"#0d0887\"], [0.1111111111111111, \"#46039f\"], [0.2222222222222222, \"#7201a8\"], [0.3333333333333333, \"#9c179e\"], [0.4444444444444444, \"#bd3786\"], [0.5555555555555556, \"#d8576b\"], [0.6666666666666666, \"#ed7953\"], [0.7777777777777778, \"#fb9f3a\"], [0.8888888888888888, \"#fdca26\"], [1.0, \"#f0f921\"]], \"type\": \"histogram2dcontour\"}], \"mesh3d\": [{\"colorbar\": {\"outlinewidth\": 0, \"ticks\": \"\"}, \"type\": \"mesh3d\"}], \"parcoords\": [{\"line\": {\"colorbar\": {\"outlinewidth\": 0, \"ticks\": \"\"}}, \"type\": \"parcoords\"}], \"pie\": [{\"automargin\": true, \"type\": \"pie\"}], \"scatter\": [{\"marker\": {\"line\": {\"color\": \"#283442\"}}, \"type\": \"scatter\"}], \"scatter3d\": [{\"line\": {\"colorbar\": {\"outlinewidth\": 0, \"ticks\": \"\"}}, \"marker\": {\"colorbar\": {\"outlinewidth\": 0, \"ticks\": \"\"}}, \"type\": \"scatter3d\"}], \"scattercarpet\": [{\"marker\": {\"colorbar\": {\"outlinewidth\": 0, \"ticks\": \"\"}}, \"type\": \"scattercarpet\"}], \"scattergeo\": [{\"marker\": {\"colorbar\": {\"outlinewidth\": 0, \"ticks\": \"\"}}, \"type\": \"scattergeo\"}], \"scattergl\": [{\"marker\": {\"line\": {\"color\": \"#283442\"}}, \"type\": \"scattergl\"}], \"scattermapbox\": [{\"marker\": {\"colorbar\": {\"outlinewidth\": 0, \"ticks\": \"\"}}, \"type\": \"scattermapbox\"}], \"scatterpolar\": [{\"marker\": {\"colorbar\": {\"outlinewidth\": 0, \"ticks\": \"\"}}, \"type\": \"scatterpolar\"}], \"scatterpolargl\": [{\"marker\": {\"colorbar\": {\"outlinewidth\": 0, \"ticks\": \"\"}}, \"type\": \"scatterpolargl\"}], \"scatterternary\": [{\"marker\": {\"colorbar\": {\"outlinewidth\": 0, \"ticks\": \"\"}}, \"type\": \"scatterternary\"}], \"surface\": [{\"colorbar\": {\"outlinewidth\": 0, \"ticks\": \"\"}, \"colorscale\": [[0.0, \"#0d0887\"], [0.1111111111111111, \"#46039f\"], [0.2222222222222222, \"#7201a8\"], [0.3333333333333333, \"#9c179e\"], [0.4444444444444444, \"#bd3786\"], [0.5555555555555556, \"#d8576b\"], [0.6666666666666666, \"#ed7953\"], [0.7777777777777778, \"#fb9f3a\"], [0.8888888888888888, \"#fdca26\"], [1.0, \"#f0f921\"]], \"type\": \"surface\"}], \"table\": [{\"cells\": {\"fill\": {\"color\": \"#506784\"}, \"line\": {\"color\": \"rgb(17,17,17)\"}}, \"header\": {\"fill\": {\"color\": \"#2a3f5f\"}, \"line\": {\"color\": \"rgb(17,17,17)\"}}, \"type\": \"table\"}]}, \"layout\": {\"annotationdefaults\": {\"arrowcolor\": \"#f2f5fa\", \"arrowhead\": 0, \"arrowwidth\": 1}, \"coloraxis\": {\"colorbar\": {\"outlinewidth\": 0, \"ticks\": \"\"}}, \"colorscale\": {\"diverging\": [[0, \"#8e0152\"], [0.1, \"#c51b7d\"], [0.2, \"#de77ae\"], [0.3, \"#f1b6da\"], [0.4, \"#fde0ef\"], [0.5, \"#f7f7f7\"], [0.6, \"#e6f5d0\"], [0.7, \"#b8e186\"], [0.8, \"#7fbc41\"], [0.9, \"#4d9221\"], [1, \"#276419\"]], \"sequential\": [[0.0, \"#0d0887\"], [0.1111111111111111, \"#46039f\"], [0.2222222222222222, \"#7201a8\"], [0.3333333333333333, \"#9c179e\"], [0.4444444444444444, \"#bd3786\"], [0.5555555555555556, \"#d8576b\"], [0.6666666666666666, \"#ed7953\"], [0.7777777777777778, \"#fb9f3a\"], [0.8888888888888888, \"#fdca26\"], [1.0, \"#f0f921\"]], \"sequentialminus\": [[0.0, \"#0d0887\"], [0.1111111111111111, \"#46039f\"], [0.2222222222222222, \"#7201a8\"], [0.3333333333333333, \"#9c179e\"], [0.4444444444444444, \"#bd3786\"], [0.5555555555555556, \"#d8576b\"], [0.6666666666666666, \"#ed7953\"], [0.7777777777777778, \"#fb9f3a\"], [0.8888888888888888, \"#fdca26\"], [1.0, \"#f0f921\"]]}, \"colorway\": [\"#636efa\", \"#EF553B\", \"#00cc96\", \"#ab63fa\", \"#FFA15A\", \"#19d3f3\", \"#FF6692\", \"#B6E880\", \"#FF97FF\", \"#FECB52\"], \"font\": {\"color\": \"#f2f5fa\"}, \"geo\": {\"bgcolor\": \"rgb(17,17,17)\", \"lakecolor\": \"rgb(17,17,17)\", \"landcolor\": \"rgb(17,17,17)\", \"showlakes\": true, \"showland\": true, \"subunitcolor\": \"#506784\"}, \"hoverlabel\": {\"align\": \"left\"}, \"hovermode\": \"closest\", \"mapbox\": {\"style\": \"dark\"}, \"paper_bgcolor\": \"rgb(17,17,17)\", \"plot_bgcolor\": \"rgb(17,17,17)\", \"polar\": {\"angularaxis\": {\"gridcolor\": \"#506784\", \"linecolor\": \"#506784\", \"ticks\": \"\"}, \"bgcolor\": \"rgb(17,17,17)\", \"radialaxis\": {\"gridcolor\": \"#506784\", \"linecolor\": \"#506784\", \"ticks\": \"\"}}, \"scene\": {\"xaxis\": {\"backgroundcolor\": \"rgb(17,17,17)\", \"gridcolor\": \"#506784\", \"gridwidth\": 2, \"linecolor\": \"#506784\", \"showbackground\": true, \"ticks\": \"\", \"zerolinecolor\": \"#C8D4E3\"}, \"yaxis\": {\"backgroundcolor\": \"rgb(17,17,17)\", \"gridcolor\": \"#506784\", \"gridwidth\": 2, \"linecolor\": \"#506784\", \"showbackground\": true, \"ticks\": \"\", \"zerolinecolor\": \"#C8D4E3\"}, \"zaxis\": {\"backgroundcolor\": \"rgb(17,17,17)\", \"gridcolor\": \"#506784\", \"gridwidth\": 2, \"linecolor\": \"#506784\", \"showbackground\": true, \"ticks\": \"\", \"zerolinecolor\": \"#C8D4E3\"}}, \"shapedefaults\": {\"line\": {\"color\": \"#f2f5fa\"}}, \"sliderdefaults\": {\"bgcolor\": \"#C8D4E3\", \"bordercolor\": \"rgb(17,17,17)\", \"borderwidth\": 1, \"tickwidth\": 0}, \"ternary\": {\"aaxis\": {\"gridcolor\": \"#506784\", \"linecolor\": \"#506784\", \"ticks\": \"\"}, \"baxis\": {\"gridcolor\": \"#506784\", \"linecolor\": \"#506784\", \"ticks\": \"\"}, \"bgcolor\": \"rgb(17,17,17)\", \"caxis\": {\"gridcolor\": \"#506784\", \"linecolor\": \"#506784\", \"ticks\": \"\"}}, \"title\": {\"x\": 0.05}, \"updatemenudefaults\": {\"bgcolor\": \"#506784\", \"borderwidth\": 0}, \"xaxis\": {\"automargin\": true, \"gridcolor\": \"#283442\", \"linecolor\": \"#506784\", \"ticks\": \"\", \"title\": {\"standoff\": 15}, \"zerolinecolor\": \"#283442\", \"zerolinewidth\": 2}, \"yaxis\": {\"automargin\": true, \"gridcolor\": \"#283442\", \"linecolor\": \"#506784\", \"ticks\": \"\", \"title\": {\"standoff\": 15}, \"zerolinecolor\": \"#283442\", \"zerolinewidth\": 2}}}, \"title\": {\"text\": \"<b> Normal Pay Distribution by Label </b>\", \"x\": 0.5}, \"xaxis\": {\"anchor\": \"y\", \"domain\": [0.0, 1.0], \"title\": {\"text\": \"Number of Normal Payment\"}}, \"yaxis\": {\"anchor\": \"x\", \"domain\": [0.0, 1.0], \"title\": {\"text\": \"Frequency\"}}},\n",
              "                        {\"responsive\": true}\n",
              "                    ).then(function(){\n",
              "                            \n",
              "var gd = document.getElementById('bfeb99c8-2f86-4c26-94a2-f7f274f942f8');\n",
              "var x = new MutationObserver(function (mutations, observer) {{\n",
              "        var display = window.getComputedStyle(gd).display;\n",
              "        if (!display || display === 'none') {{\n",
              "            console.log([gd, 'removed!']);\n",
              "            Plotly.purge(gd);\n",
              "            observer.disconnect();\n",
              "        }}\n",
              "}});\n",
              "\n",
              "// Listen for the removal of the full notebook cells\n",
              "var notebookContainer = gd.closest('#notebook-container');\n",
              "if (notebookContainer) {{\n",
              "    x.observe(notebookContainer, {childList: true});\n",
              "}}\n",
              "\n",
              "// Listen for the clearing of the current output cell\n",
              "var outputEl = gd.closest('.output');\n",
              "if (outputEl) {{\n",
              "    x.observe(outputEl, {childList: true});\n",
              "}}\n",
              "\n",
              "                        })\n",
              "                };\n",
              "                \n",
              "            </script>\n",
              "        </div>\n",
              "</body>\n",
              "</html>"
            ]
          },
          "metadata": {}
        }
      ]
    },
    {
      "cell_type": "markdown",
      "metadata": {
        "id": "B-sM_ijgY9Ch"
      },
      "source": [
        "We can observe from the plot above that both High Risk and Low Risk Customers have a mostly similar trend in making normal payments although there are definitely some uncertainities , especially towards the end that causes more overdue days for high risk customers.\n",
        "\n",
        "The difference in amplitude can be explain with the lack of enough number of High risk data points."
      ]
    },
    {
      "cell_type": "code",
      "metadata": {
        "colab": {
          "base_uri": "https://localhost:8080/",
          "height": 542
        },
        "id": "hYq47KULfizS",
        "outputId": "803a10bc-c7c9-4352-c45c-090e7ccf9598"
      },
      "source": [
        "temp_df = pay_cus.groupby(['label'])['OVD_sum'].mean().reset_index()\n",
        "temp_df = temp_df.sort_values(by=['OVD_sum'],ascending=False)\n",
        "\n",
        "layout = dict(\n",
        "    title_text = \"<b> Average Total OverDue Days Sum By Label </b>\",\n",
        "    xaxis_title=\"Label\",\n",
        "    yaxis_title=\"Average Total OverDue Days Sum\",\n",
        "    title_x = 0.5)\n",
        "\n",
        "fig = px.bar(x=temp_df['label'],y= temp_df['OVD_sum'],\n",
        "             color = temp_df['OVD_sum'],\n",
        "             color_continuous_scale=px.colors.sequential.RdBu)\n",
        "\n",
        "fig.update_layout(layout, template = 'plotly_dark')"
      ],
      "execution_count": null,
      "outputs": [
        {
          "output_type": "display_data",
          "data": {
            "text/html": [
              "<html>\n",
              "<head><meta charset=\"utf-8\" /></head>\n",
              "<body>\n",
              "    <div>\n",
              "            <script src=\"https://cdnjs.cloudflare.com/ajax/libs/mathjax/2.7.5/MathJax.js?config=TeX-AMS-MML_SVG\"></script><script type=\"text/javascript\">if (window.MathJax) {MathJax.Hub.Config({SVG: {font: \"STIX-Web\"}});}</script>\n",
              "                <script type=\"text/javascript\">window.PlotlyConfig = {MathJaxConfig: 'local'};</script>\n",
              "        <script src=\"https://cdn.plot.ly/plotly-latest.min.js\"></script>    \n",
              "            <div id=\"2c1a0024-d7fe-4e5b-b5ae-18baf68c31fa\" class=\"plotly-graph-div\" style=\"height:525px; width:100%;\"></div>\n",
              "            <script type=\"text/javascript\">\n",
              "                \n",
              "                    window.PLOTLYENV=window.PLOTLYENV || {};\n",
              "                    \n",
              "                if (document.getElementById(\"2c1a0024-d7fe-4e5b-b5ae-18baf68c31fa\")) {\n",
              "                    Plotly.newPlot(\n",
              "                        '2c1a0024-d7fe-4e5b-b5ae-18baf68c31fa',\n",
              "                        [{\"alignmentgroup\": \"True\", \"hoverlabel\": {\"namelength\": 0}, \"hovertemplate\": \"x=%{x}<br>y=%{y}<br>color=%{marker.color}\", \"legendgroup\": \"\", \"marker\": {\"color\": [368.8983417447729, 151.0581378405945], \"coloraxis\": \"coloraxis\"}, \"name\": \"\", \"offsetgroup\": \"\", \"orientation\": \"v\", \"showlegend\": false, \"textposition\": \"auto\", \"type\": \"bar\", \"x\": [1, 0], \"xaxis\": \"x\", \"y\": [368.8983417447729, 151.0581378405945], \"yaxis\": \"y\"}],\n",
              "                        {\"barmode\": \"relative\", \"coloraxis\": {\"colorbar\": {\"title\": {\"text\": \"color\"}}, \"colorscale\": [[0.0, \"rgb(103,0,31)\"], [0.1, \"rgb(178,24,43)\"], [0.2, \"rgb(214,96,77)\"], [0.3, \"rgb(244,165,130)\"], [0.4, \"rgb(253,219,199)\"], [0.5, \"rgb(247,247,247)\"], [0.6, \"rgb(209,229,240)\"], [0.7, \"rgb(146,197,222)\"], [0.8, \"rgb(67,147,195)\"], [0.9, \"rgb(33,102,172)\"], [1.0, \"rgb(5,48,97)\"]]}, \"legend\": {\"tracegroupgap\": 0}, \"margin\": {\"t\": 60}, \"template\": {\"data\": {\"bar\": [{\"error_x\": {\"color\": \"#f2f5fa\"}, \"error_y\": {\"color\": \"#f2f5fa\"}, \"marker\": {\"line\": {\"color\": \"rgb(17,17,17)\", \"width\": 0.5}}, \"type\": \"bar\"}], \"barpolar\": [{\"marker\": {\"line\": {\"color\": \"rgb(17,17,17)\", \"width\": 0.5}}, \"type\": \"barpolar\"}], \"carpet\": [{\"aaxis\": {\"endlinecolor\": \"#A2B1C6\", \"gridcolor\": \"#506784\", \"linecolor\": \"#506784\", \"minorgridcolor\": \"#506784\", \"startlinecolor\": \"#A2B1C6\"}, \"baxis\": {\"endlinecolor\": \"#A2B1C6\", \"gridcolor\": \"#506784\", \"linecolor\": \"#506784\", \"minorgridcolor\": \"#506784\", \"startlinecolor\": \"#A2B1C6\"}, \"type\": \"carpet\"}], \"choropleth\": [{\"colorbar\": {\"outlinewidth\": 0, \"ticks\": \"\"}, \"type\": \"choropleth\"}], \"contour\": [{\"colorbar\": {\"outlinewidth\": 0, \"ticks\": \"\"}, \"colorscale\": [[0.0, \"#0d0887\"], [0.1111111111111111, \"#46039f\"], [0.2222222222222222, \"#7201a8\"], [0.3333333333333333, \"#9c179e\"], [0.4444444444444444, \"#bd3786\"], [0.5555555555555556, \"#d8576b\"], [0.6666666666666666, \"#ed7953\"], [0.7777777777777778, \"#fb9f3a\"], [0.8888888888888888, \"#fdca26\"], [1.0, \"#f0f921\"]], \"type\": \"contour\"}], \"contourcarpet\": [{\"colorbar\": {\"outlinewidth\": 0, \"ticks\": \"\"}, \"type\": \"contourcarpet\"}], \"heatmap\": [{\"colorbar\": {\"outlinewidth\": 0, \"ticks\": \"\"}, \"colorscale\": [[0.0, \"#0d0887\"], [0.1111111111111111, \"#46039f\"], [0.2222222222222222, \"#7201a8\"], [0.3333333333333333, \"#9c179e\"], [0.4444444444444444, \"#bd3786\"], [0.5555555555555556, \"#d8576b\"], [0.6666666666666666, \"#ed7953\"], [0.7777777777777778, \"#fb9f3a\"], [0.8888888888888888, \"#fdca26\"], [1.0, \"#f0f921\"]], \"type\": \"heatmap\"}], \"heatmapgl\": [{\"colorbar\": {\"outlinewidth\": 0, \"ticks\": \"\"}, \"colorscale\": [[0.0, \"#0d0887\"], [0.1111111111111111, \"#46039f\"], [0.2222222222222222, \"#7201a8\"], [0.3333333333333333, \"#9c179e\"], [0.4444444444444444, \"#bd3786\"], [0.5555555555555556, \"#d8576b\"], [0.6666666666666666, \"#ed7953\"], [0.7777777777777778, \"#fb9f3a\"], [0.8888888888888888, \"#fdca26\"], [1.0, \"#f0f921\"]], \"type\": \"heatmapgl\"}], \"histogram\": [{\"marker\": {\"colorbar\": {\"outlinewidth\": 0, \"ticks\": \"\"}}, \"type\": \"histogram\"}], \"histogram2d\": [{\"colorbar\": {\"outlinewidth\": 0, \"ticks\": \"\"}, \"colorscale\": [[0.0, \"#0d0887\"], [0.1111111111111111, \"#46039f\"], [0.2222222222222222, \"#7201a8\"], [0.3333333333333333, \"#9c179e\"], [0.4444444444444444, \"#bd3786\"], [0.5555555555555556, \"#d8576b\"], [0.6666666666666666, \"#ed7953\"], [0.7777777777777778, \"#fb9f3a\"], [0.8888888888888888, \"#fdca26\"], [1.0, \"#f0f921\"]], \"type\": \"histogram2d\"}], \"histogram2dcontour\": [{\"colorbar\": {\"outlinewidth\": 0, \"ticks\": \"\"}, \"colorscale\": [[0.0, \"#0d0887\"], [0.1111111111111111, \"#46039f\"], [0.2222222222222222, \"#7201a8\"], [0.3333333333333333, \"#9c179e\"], [0.4444444444444444, \"#bd3786\"], [0.5555555555555556, \"#d8576b\"], [0.6666666666666666, \"#ed7953\"], [0.7777777777777778, \"#fb9f3a\"], [0.8888888888888888, \"#fdca26\"], [1.0, \"#f0f921\"]], \"type\": \"histogram2dcontour\"}], \"mesh3d\": [{\"colorbar\": {\"outlinewidth\": 0, \"ticks\": \"\"}, \"type\": \"mesh3d\"}], \"parcoords\": [{\"line\": {\"colorbar\": {\"outlinewidth\": 0, \"ticks\": \"\"}}, \"type\": \"parcoords\"}], \"pie\": [{\"automargin\": true, \"type\": \"pie\"}], \"scatter\": [{\"marker\": {\"line\": {\"color\": \"#283442\"}}, \"type\": \"scatter\"}], \"scatter3d\": [{\"line\": {\"colorbar\": {\"outlinewidth\": 0, \"ticks\": \"\"}}, \"marker\": {\"colorbar\": {\"outlinewidth\": 0, \"ticks\": \"\"}}, \"type\": \"scatter3d\"}], \"scattercarpet\": [{\"marker\": {\"colorbar\": {\"outlinewidth\": 0, \"ticks\": \"\"}}, \"type\": \"scattercarpet\"}], \"scattergeo\": [{\"marker\": {\"colorbar\": {\"outlinewidth\": 0, \"ticks\": \"\"}}, \"type\": \"scattergeo\"}], \"scattergl\": [{\"marker\": {\"line\": {\"color\": \"#283442\"}}, \"type\": \"scattergl\"}], \"scattermapbox\": [{\"marker\": {\"colorbar\": {\"outlinewidth\": 0, \"ticks\": \"\"}}, \"type\": \"scattermapbox\"}], \"scatterpolar\": [{\"marker\": {\"colorbar\": {\"outlinewidth\": 0, \"ticks\": \"\"}}, \"type\": \"scatterpolar\"}], \"scatterpolargl\": [{\"marker\": {\"colorbar\": {\"outlinewidth\": 0, \"ticks\": \"\"}}, \"type\": \"scatterpolargl\"}], \"scatterternary\": [{\"marker\": {\"colorbar\": {\"outlinewidth\": 0, \"ticks\": \"\"}}, \"type\": \"scatterternary\"}], \"surface\": [{\"colorbar\": {\"outlinewidth\": 0, \"ticks\": \"\"}, \"colorscale\": [[0.0, \"#0d0887\"], [0.1111111111111111, \"#46039f\"], [0.2222222222222222, \"#7201a8\"], [0.3333333333333333, \"#9c179e\"], [0.4444444444444444, \"#bd3786\"], [0.5555555555555556, \"#d8576b\"], [0.6666666666666666, \"#ed7953\"], [0.7777777777777778, \"#fb9f3a\"], [0.8888888888888888, \"#fdca26\"], [1.0, \"#f0f921\"]], \"type\": \"surface\"}], \"table\": [{\"cells\": {\"fill\": {\"color\": \"#506784\"}, \"line\": {\"color\": \"rgb(17,17,17)\"}}, \"header\": {\"fill\": {\"color\": \"#2a3f5f\"}, \"line\": {\"color\": \"rgb(17,17,17)\"}}, \"type\": \"table\"}]}, \"layout\": {\"annotationdefaults\": {\"arrowcolor\": \"#f2f5fa\", \"arrowhead\": 0, \"arrowwidth\": 1}, \"coloraxis\": {\"colorbar\": {\"outlinewidth\": 0, \"ticks\": \"\"}}, \"colorscale\": {\"diverging\": [[0, \"#8e0152\"], [0.1, \"#c51b7d\"], [0.2, \"#de77ae\"], [0.3, \"#f1b6da\"], [0.4, \"#fde0ef\"], [0.5, \"#f7f7f7\"], [0.6, \"#e6f5d0\"], [0.7, \"#b8e186\"], [0.8, \"#7fbc41\"], [0.9, \"#4d9221\"], [1, \"#276419\"]], \"sequential\": [[0.0, \"#0d0887\"], [0.1111111111111111, \"#46039f\"], [0.2222222222222222, \"#7201a8\"], [0.3333333333333333, \"#9c179e\"], [0.4444444444444444, \"#bd3786\"], [0.5555555555555556, \"#d8576b\"], [0.6666666666666666, \"#ed7953\"], [0.7777777777777778, \"#fb9f3a\"], [0.8888888888888888, \"#fdca26\"], [1.0, \"#f0f921\"]], \"sequentialminus\": [[0.0, \"#0d0887\"], [0.1111111111111111, \"#46039f\"], [0.2222222222222222, \"#7201a8\"], [0.3333333333333333, \"#9c179e\"], [0.4444444444444444, \"#bd3786\"], [0.5555555555555556, \"#d8576b\"], [0.6666666666666666, \"#ed7953\"], [0.7777777777777778, \"#fb9f3a\"], [0.8888888888888888, \"#fdca26\"], [1.0, \"#f0f921\"]]}, \"colorway\": [\"#636efa\", \"#EF553B\", \"#00cc96\", \"#ab63fa\", \"#FFA15A\", \"#19d3f3\", \"#FF6692\", \"#B6E880\", \"#FF97FF\", \"#FECB52\"], \"font\": {\"color\": \"#f2f5fa\"}, \"geo\": {\"bgcolor\": \"rgb(17,17,17)\", \"lakecolor\": \"rgb(17,17,17)\", \"landcolor\": \"rgb(17,17,17)\", \"showlakes\": true, \"showland\": true, \"subunitcolor\": \"#506784\"}, \"hoverlabel\": {\"align\": \"left\"}, \"hovermode\": \"closest\", \"mapbox\": {\"style\": \"dark\"}, \"paper_bgcolor\": \"rgb(17,17,17)\", \"plot_bgcolor\": \"rgb(17,17,17)\", \"polar\": {\"angularaxis\": {\"gridcolor\": \"#506784\", \"linecolor\": \"#506784\", \"ticks\": \"\"}, \"bgcolor\": \"rgb(17,17,17)\", \"radialaxis\": {\"gridcolor\": \"#506784\", \"linecolor\": \"#506784\", \"ticks\": \"\"}}, \"scene\": {\"xaxis\": {\"backgroundcolor\": \"rgb(17,17,17)\", \"gridcolor\": \"#506784\", \"gridwidth\": 2, \"linecolor\": \"#506784\", \"showbackground\": true, \"ticks\": \"\", \"zerolinecolor\": \"#C8D4E3\"}, \"yaxis\": {\"backgroundcolor\": \"rgb(17,17,17)\", \"gridcolor\": \"#506784\", \"gridwidth\": 2, \"linecolor\": \"#506784\", \"showbackground\": true, \"ticks\": \"\", \"zerolinecolor\": \"#C8D4E3\"}, \"zaxis\": {\"backgroundcolor\": \"rgb(17,17,17)\", \"gridcolor\": \"#506784\", \"gridwidth\": 2, \"linecolor\": \"#506784\", \"showbackground\": true, \"ticks\": \"\", \"zerolinecolor\": \"#C8D4E3\"}}, \"shapedefaults\": {\"line\": {\"color\": \"#f2f5fa\"}}, \"sliderdefaults\": {\"bgcolor\": \"#C8D4E3\", \"bordercolor\": \"rgb(17,17,17)\", \"borderwidth\": 1, \"tickwidth\": 0}, \"ternary\": {\"aaxis\": {\"gridcolor\": \"#506784\", \"linecolor\": \"#506784\", \"ticks\": \"\"}, \"baxis\": {\"gridcolor\": \"#506784\", \"linecolor\": \"#506784\", \"ticks\": \"\"}, \"bgcolor\": \"rgb(17,17,17)\", \"caxis\": {\"gridcolor\": \"#506784\", \"linecolor\": \"#506784\", \"ticks\": \"\"}}, \"title\": {\"x\": 0.05}, \"updatemenudefaults\": {\"bgcolor\": \"#506784\", \"borderwidth\": 0}, \"xaxis\": {\"automargin\": true, \"gridcolor\": \"#283442\", \"linecolor\": \"#506784\", \"ticks\": \"\", \"title\": {\"standoff\": 15}, \"zerolinecolor\": \"#283442\", \"zerolinewidth\": 2}, \"yaxis\": {\"automargin\": true, \"gridcolor\": \"#283442\", \"linecolor\": \"#506784\", \"ticks\": \"\", \"title\": {\"standoff\": 15}, \"zerolinecolor\": \"#283442\", \"zerolinewidth\": 2}}}, \"title\": {\"text\": \"<b> Average Total OverDue Days Sum By Label </b>\", \"x\": 0.5}, \"xaxis\": {\"anchor\": \"y\", \"domain\": [0.0, 1.0], \"title\": {\"text\": \"Label\"}}, \"yaxis\": {\"anchor\": \"x\", \"domain\": [0.0, 1.0], \"title\": {\"text\": \"Average Total OverDue Days Sum\"}}},\n",
              "                        {\"responsive\": true}\n",
              "                    ).then(function(){\n",
              "                            \n",
              "var gd = document.getElementById('2c1a0024-d7fe-4e5b-b5ae-18baf68c31fa');\n",
              "var x = new MutationObserver(function (mutations, observer) {{\n",
              "        var display = window.getComputedStyle(gd).display;\n",
              "        if (!display || display === 'none') {{\n",
              "            console.log([gd, 'removed!']);\n",
              "            Plotly.purge(gd);\n",
              "            observer.disconnect();\n",
              "        }}\n",
              "}});\n",
              "\n",
              "// Listen for the removal of the full notebook cells\n",
              "var notebookContainer = gd.closest('#notebook-container');\n",
              "if (notebookContainer) {{\n",
              "    x.observe(notebookContainer, {childList: true});\n",
              "}}\n",
              "\n",
              "// Listen for the clearing of the current output cell\n",
              "var outputEl = gd.closest('.output');\n",
              "if (outputEl) {{\n",
              "    x.observe(outputEl, {childList: true});\n",
              "}}\n",
              "\n",
              "                        })\n",
              "                };\n",
              "                \n",
              "            </script>\n",
              "        </div>\n",
              "</body>\n",
              "</html>"
            ]
          },
          "metadata": {}
        }
      ]
    },
    {
      "cell_type": "markdown",
      "metadata": {
        "id": "ppErTjMQflKb"
      },
      "source": [
        "The above mentioned plot confirms that high risk customer have more overdue days on average"
      ]
    },
    {
      "cell_type": "code",
      "metadata": {
        "colab": {
          "base_uri": "https://localhost:8080/",
          "height": 542
        },
        "id": "oDEwMokwQ9MG",
        "outputId": "413b411d-3dfd-4190-ac6c-0d051612913a"
      },
      "source": [
        "temp_df = pay_cus.groupby(['label','prod_code'])['new_balance'].mean().reset_index();\n",
        "temp_df = temp_df.sort_values(by=['new_balance'],ascending=False)\n",
        "\n",
        "fig = px.bar(temp_df, x=\"prod_code\", y=\"new_balance\",color='label',barmode='stack')\n",
        "\n",
        "fig.update_layout(barmode ='group',\n",
        "                  title_x = 0.5,\n",
        "                  title_text = \"<b> Avergage Current balance </b>\",\n",
        "                  xaxis_title=\"Product Code\",\n",
        "                  xaxis=dict(tickmode='linear'),\n",
        "                  yaxis_title=\"Population and Engagement Index\",\n",
        "                  template=\"plotly_white\")\n",
        "fig.show()"
      ],
      "execution_count": null,
      "outputs": [
        {
          "output_type": "display_data",
          "data": {
            "text/html": [
              "<html>\n",
              "<head><meta charset=\"utf-8\" /></head>\n",
              "<body>\n",
              "    <div>\n",
              "            <script src=\"https://cdnjs.cloudflare.com/ajax/libs/mathjax/2.7.5/MathJax.js?config=TeX-AMS-MML_SVG\"></script><script type=\"text/javascript\">if (window.MathJax) {MathJax.Hub.Config({SVG: {font: \"STIX-Web\"}});}</script>\n",
              "                <script type=\"text/javascript\">window.PlotlyConfig = {MathJaxConfig: 'local'};</script>\n",
              "        <script src=\"https://cdn.plot.ly/plotly-latest.min.js\"></script>    \n",
              "            <div id=\"090379cb-0c1c-4872-9fb5-fd33d57ec32a\" class=\"plotly-graph-div\" style=\"height:525px; width:100%;\"></div>\n",
              "            <script type=\"text/javascript\">\n",
              "                \n",
              "                    window.PLOTLYENV=window.PLOTLYENV || {};\n",
              "                    \n",
              "                if (document.getElementById(\"090379cb-0c1c-4872-9fb5-fd33d57ec32a\")) {\n",
              "                    Plotly.newPlot(\n",
              "                        '090379cb-0c1c-4872-9fb5-fd33d57ec32a',\n",
              "                        [{\"alignmentgroup\": \"True\", \"hoverlabel\": {\"namelength\": 0}, \"hovertemplate\": \"prod_code=%{x}<br>new_balance=%{y}<br>label=%{marker.color}\", \"legendgroup\": \"\", \"marker\": {\"color\": [1, 1, 0, 1, 0, 0, 0, 1, 1, 1, 0, 0, 1, 0, 0, 0, 1, 1, 0, 0, 1, 0, 1, 0, 1, 0, 1, 1, 1, 0, 0, 1, 0, 1, 0, 0, 0, 0, 1], \"coloraxis\": \"coloraxis\"}, \"name\": \"\", \"offsetgroup\": \"\", \"orientation\": \"v\", \"showlegend\": false, \"textposition\": \"auto\", \"type\": \"bar\", \"x\": [2, 3, 2, 0, 3, 8, 24, 17, 1, 8, 4, 1, 25, 0, 19, 26, 19, 5, 5, 9, 24, 12, 7, 7, 10, 10, 12, 13, 6, 13, 6, 15, 15, 22, 22, 17, 27, 25, 26], \"xaxis\": \"x\", \"y\": [5967383.473170731, 3203093.142857143, 1256935.2363636363, 963285.9692307693, 846030.4285714285, 289086.82499999995, 225277.52, 219315.42, 216943.05333333334, 197856.3, 191808.3, 182655.7032640949, 152271.6, 146345.88099173558, 137010.00000000003, 126732.0, 113927.69999999998, 93426.55329341318, 89311.98490566037, 61764.799999999996, 60286.399999999994, 50199.939130434774, 49218.88888888889, 39871.89, 23448.020370370377, 19829.005006451556, 16643.28, 10573.039024390244, 5903.073417721519, 5766.174927113701, 5124.107166482912, 4274.8, 3514.2947368421055, 0.0, 0.0, 0.0, 0.0, 0.0, -76.2], \"yaxis\": \"y\"}],\n",
              "                        {\"barmode\": \"group\", \"coloraxis\": {\"colorbar\": {\"title\": {\"text\": \"label\"}}, \"colorscale\": [[0.0, \"#0d0887\"], [0.1111111111111111, \"#46039f\"], [0.2222222222222222, \"#7201a8\"], [0.3333333333333333, \"#9c179e\"], [0.4444444444444444, \"#bd3786\"], [0.5555555555555556, \"#d8576b\"], [0.6666666666666666, \"#ed7953\"], [0.7777777777777778, \"#fb9f3a\"], [0.8888888888888888, \"#fdca26\"], [1.0, \"#f0f921\"]]}, \"legend\": {\"tracegroupgap\": 0}, \"margin\": {\"t\": 60}, \"template\": {\"data\": {\"bar\": [{\"error_x\": {\"color\": \"#2a3f5f\"}, \"error_y\": {\"color\": \"#2a3f5f\"}, \"marker\": {\"line\": {\"color\": \"white\", \"width\": 0.5}}, \"type\": \"bar\"}], \"barpolar\": [{\"marker\": {\"line\": {\"color\": \"white\", \"width\": 0.5}}, \"type\": \"barpolar\"}], \"carpet\": [{\"aaxis\": {\"endlinecolor\": \"#2a3f5f\", \"gridcolor\": \"#C8D4E3\", \"linecolor\": \"#C8D4E3\", \"minorgridcolor\": \"#C8D4E3\", \"startlinecolor\": \"#2a3f5f\"}, \"baxis\": {\"endlinecolor\": \"#2a3f5f\", \"gridcolor\": \"#C8D4E3\", \"linecolor\": \"#C8D4E3\", \"minorgridcolor\": \"#C8D4E3\", \"startlinecolor\": \"#2a3f5f\"}, \"type\": \"carpet\"}], \"choropleth\": [{\"colorbar\": {\"outlinewidth\": 0, \"ticks\": \"\"}, \"type\": \"choropleth\"}], \"contour\": [{\"colorbar\": {\"outlinewidth\": 0, \"ticks\": \"\"}, \"colorscale\": [[0.0, \"#0d0887\"], [0.1111111111111111, \"#46039f\"], [0.2222222222222222, \"#7201a8\"], [0.3333333333333333, \"#9c179e\"], [0.4444444444444444, \"#bd3786\"], [0.5555555555555556, \"#d8576b\"], [0.6666666666666666, \"#ed7953\"], [0.7777777777777778, \"#fb9f3a\"], [0.8888888888888888, \"#fdca26\"], [1.0, \"#f0f921\"]], \"type\": \"contour\"}], \"contourcarpet\": [{\"colorbar\": {\"outlinewidth\": 0, \"ticks\": \"\"}, \"type\": \"contourcarpet\"}], \"heatmap\": [{\"colorbar\": {\"outlinewidth\": 0, \"ticks\": \"\"}, \"colorscale\": [[0.0, \"#0d0887\"], [0.1111111111111111, \"#46039f\"], [0.2222222222222222, \"#7201a8\"], [0.3333333333333333, \"#9c179e\"], [0.4444444444444444, \"#bd3786\"], [0.5555555555555556, \"#d8576b\"], [0.6666666666666666, \"#ed7953\"], [0.7777777777777778, \"#fb9f3a\"], [0.8888888888888888, \"#fdca26\"], [1.0, \"#f0f921\"]], \"type\": \"heatmap\"}], \"heatmapgl\": [{\"colorbar\": {\"outlinewidth\": 0, \"ticks\": \"\"}, \"colorscale\": [[0.0, \"#0d0887\"], [0.1111111111111111, \"#46039f\"], [0.2222222222222222, \"#7201a8\"], [0.3333333333333333, \"#9c179e\"], [0.4444444444444444, \"#bd3786\"], [0.5555555555555556, \"#d8576b\"], [0.6666666666666666, \"#ed7953\"], [0.7777777777777778, \"#fb9f3a\"], [0.8888888888888888, \"#fdca26\"], [1.0, \"#f0f921\"]], \"type\": \"heatmapgl\"}], \"histogram\": [{\"marker\": {\"colorbar\": {\"outlinewidth\": 0, \"ticks\": \"\"}}, \"type\": \"histogram\"}], \"histogram2d\": [{\"colorbar\": {\"outlinewidth\": 0, \"ticks\": \"\"}, \"colorscale\": [[0.0, \"#0d0887\"], [0.1111111111111111, \"#46039f\"], [0.2222222222222222, \"#7201a8\"], [0.3333333333333333, \"#9c179e\"], [0.4444444444444444, \"#bd3786\"], [0.5555555555555556, \"#d8576b\"], [0.6666666666666666, \"#ed7953\"], [0.7777777777777778, \"#fb9f3a\"], [0.8888888888888888, \"#fdca26\"], [1.0, \"#f0f921\"]], \"type\": \"histogram2d\"}], \"histogram2dcontour\": [{\"colorbar\": {\"outlinewidth\": 0, \"ticks\": \"\"}, \"colorscale\": [[0.0, \"#0d0887\"], [0.1111111111111111, \"#46039f\"], [0.2222222222222222, \"#7201a8\"], [0.3333333333333333, \"#9c179e\"], [0.4444444444444444, \"#bd3786\"], [0.5555555555555556, \"#d8576b\"], [0.6666666666666666, \"#ed7953\"], [0.7777777777777778, \"#fb9f3a\"], [0.8888888888888888, \"#fdca26\"], [1.0, \"#f0f921\"]], \"type\": \"histogram2dcontour\"}], \"mesh3d\": [{\"colorbar\": {\"outlinewidth\": 0, \"ticks\": \"\"}, \"type\": \"mesh3d\"}], \"parcoords\": [{\"line\": {\"colorbar\": {\"outlinewidth\": 0, \"ticks\": \"\"}}, \"type\": \"parcoords\"}], \"pie\": [{\"automargin\": true, \"type\": \"pie\"}], \"scatter\": [{\"marker\": {\"colorbar\": {\"outlinewidth\": 0, \"ticks\": \"\"}}, \"type\": \"scatter\"}], \"scatter3d\": [{\"line\": {\"colorbar\": {\"outlinewidth\": 0, \"ticks\": \"\"}}, \"marker\": {\"colorbar\": {\"outlinewidth\": 0, \"ticks\": \"\"}}, \"type\": \"scatter3d\"}], \"scattercarpet\": [{\"marker\": {\"colorbar\": {\"outlinewidth\": 0, \"ticks\": \"\"}}, \"type\": \"scattercarpet\"}], \"scattergeo\": [{\"marker\": {\"colorbar\": {\"outlinewidth\": 0, \"ticks\": \"\"}}, \"type\": \"scattergeo\"}], \"scattergl\": [{\"marker\": {\"colorbar\": {\"outlinewidth\": 0, \"ticks\": \"\"}}, \"type\": \"scattergl\"}], \"scattermapbox\": [{\"marker\": {\"colorbar\": {\"outlinewidth\": 0, \"ticks\": \"\"}}, \"type\": \"scattermapbox\"}], \"scatterpolar\": [{\"marker\": {\"colorbar\": {\"outlinewidth\": 0, \"ticks\": \"\"}}, \"type\": \"scatterpolar\"}], \"scatterpolargl\": [{\"marker\": {\"colorbar\": {\"outlinewidth\": 0, \"ticks\": \"\"}}, \"type\": \"scatterpolargl\"}], \"scatterternary\": [{\"marker\": {\"colorbar\": {\"outlinewidth\": 0, \"ticks\": \"\"}}, \"type\": \"scatterternary\"}], \"surface\": [{\"colorbar\": {\"outlinewidth\": 0, \"ticks\": \"\"}, \"colorscale\": [[0.0, \"#0d0887\"], [0.1111111111111111, \"#46039f\"], [0.2222222222222222, \"#7201a8\"], [0.3333333333333333, \"#9c179e\"], [0.4444444444444444, \"#bd3786\"], [0.5555555555555556, \"#d8576b\"], [0.6666666666666666, \"#ed7953\"], [0.7777777777777778, \"#fb9f3a\"], [0.8888888888888888, \"#fdca26\"], [1.0, \"#f0f921\"]], \"type\": \"surface\"}], \"table\": [{\"cells\": {\"fill\": {\"color\": \"#EBF0F8\"}, \"line\": {\"color\": \"white\"}}, \"header\": {\"fill\": {\"color\": \"#C8D4E3\"}, \"line\": {\"color\": \"white\"}}, \"type\": \"table\"}]}, \"layout\": {\"annotationdefaults\": {\"arrowcolor\": \"#2a3f5f\", \"arrowhead\": 0, \"arrowwidth\": 1}, \"coloraxis\": {\"colorbar\": {\"outlinewidth\": 0, \"ticks\": \"\"}}, \"colorscale\": {\"diverging\": [[0, \"#8e0152\"], [0.1, \"#c51b7d\"], [0.2, \"#de77ae\"], [0.3, \"#f1b6da\"], [0.4, \"#fde0ef\"], [0.5, \"#f7f7f7\"], [0.6, \"#e6f5d0\"], [0.7, \"#b8e186\"], [0.8, \"#7fbc41\"], [0.9, \"#4d9221\"], [1, \"#276419\"]], \"sequential\": [[0.0, \"#0d0887\"], [0.1111111111111111, \"#46039f\"], [0.2222222222222222, \"#7201a8\"], [0.3333333333333333, \"#9c179e\"], [0.4444444444444444, \"#bd3786\"], [0.5555555555555556, \"#d8576b\"], [0.6666666666666666, \"#ed7953\"], [0.7777777777777778, \"#fb9f3a\"], [0.8888888888888888, \"#fdca26\"], [1.0, \"#f0f921\"]], \"sequentialminus\": [[0.0, \"#0d0887\"], [0.1111111111111111, \"#46039f\"], [0.2222222222222222, \"#7201a8\"], [0.3333333333333333, \"#9c179e\"], [0.4444444444444444, \"#bd3786\"], [0.5555555555555556, \"#d8576b\"], [0.6666666666666666, \"#ed7953\"], [0.7777777777777778, \"#fb9f3a\"], [0.8888888888888888, \"#fdca26\"], [1.0, \"#f0f921\"]]}, \"colorway\": [\"#636efa\", \"#EF553B\", \"#00cc96\", \"#ab63fa\", \"#FFA15A\", \"#19d3f3\", \"#FF6692\", \"#B6E880\", \"#FF97FF\", \"#FECB52\"], \"font\": {\"color\": \"#2a3f5f\"}, \"geo\": {\"bgcolor\": \"white\", \"lakecolor\": \"white\", \"landcolor\": \"white\", \"showlakes\": true, \"showland\": true, \"subunitcolor\": \"#C8D4E3\"}, \"hoverlabel\": {\"align\": \"left\"}, \"hovermode\": \"closest\", \"mapbox\": {\"style\": \"light\"}, \"paper_bgcolor\": \"white\", \"plot_bgcolor\": \"white\", \"polar\": {\"angularaxis\": {\"gridcolor\": \"#EBF0F8\", \"linecolor\": \"#EBF0F8\", \"ticks\": \"\"}, \"bgcolor\": \"white\", \"radialaxis\": {\"gridcolor\": \"#EBF0F8\", \"linecolor\": \"#EBF0F8\", \"ticks\": \"\"}}, \"scene\": {\"xaxis\": {\"backgroundcolor\": \"white\", \"gridcolor\": \"#DFE8F3\", \"gridwidth\": 2, \"linecolor\": \"#EBF0F8\", \"showbackground\": true, \"ticks\": \"\", \"zerolinecolor\": \"#EBF0F8\"}, \"yaxis\": {\"backgroundcolor\": \"white\", \"gridcolor\": \"#DFE8F3\", \"gridwidth\": 2, \"linecolor\": \"#EBF0F8\", \"showbackground\": true, \"ticks\": \"\", \"zerolinecolor\": \"#EBF0F8\"}, \"zaxis\": {\"backgroundcolor\": \"white\", \"gridcolor\": \"#DFE8F3\", \"gridwidth\": 2, \"linecolor\": \"#EBF0F8\", \"showbackground\": true, \"ticks\": \"\", \"zerolinecolor\": \"#EBF0F8\"}}, \"shapedefaults\": {\"line\": {\"color\": \"#2a3f5f\"}}, \"ternary\": {\"aaxis\": {\"gridcolor\": \"#DFE8F3\", \"linecolor\": \"#A2B1C6\", \"ticks\": \"\"}, \"baxis\": {\"gridcolor\": \"#DFE8F3\", \"linecolor\": \"#A2B1C6\", \"ticks\": \"\"}, \"bgcolor\": \"white\", \"caxis\": {\"gridcolor\": \"#DFE8F3\", \"linecolor\": \"#A2B1C6\", \"ticks\": \"\"}}, \"title\": {\"x\": 0.05}, \"xaxis\": {\"automargin\": true, \"gridcolor\": \"#EBF0F8\", \"linecolor\": \"#EBF0F8\", \"ticks\": \"\", \"title\": {\"standoff\": 15}, \"zerolinecolor\": \"#EBF0F8\", \"zerolinewidth\": 2}, \"yaxis\": {\"automargin\": true, \"gridcolor\": \"#EBF0F8\", \"linecolor\": \"#EBF0F8\", \"ticks\": \"\", \"title\": {\"standoff\": 15}, \"zerolinecolor\": \"#EBF0F8\", \"zerolinewidth\": 2}}}, \"title\": {\"text\": \"<b> Avergage Current balance </b>\", \"x\": 0.5}, \"xaxis\": {\"anchor\": \"y\", \"domain\": [0.0, 1.0], \"tickmode\": \"linear\", \"title\": {\"text\": \"Product Code\"}}, \"yaxis\": {\"anchor\": \"x\", \"domain\": [0.0, 1.0], \"title\": {\"text\": \"Population and Engagement Index\"}}},\n",
              "                        {\"responsive\": true}\n",
              "                    ).then(function(){\n",
              "                            \n",
              "var gd = document.getElementById('090379cb-0c1c-4872-9fb5-fd33d57ec32a');\n",
              "var x = new MutationObserver(function (mutations, observer) {{\n",
              "        var display = window.getComputedStyle(gd).display;\n",
              "        if (!display || display === 'none') {{\n",
              "            console.log([gd, 'removed!']);\n",
              "            Plotly.purge(gd);\n",
              "            observer.disconnect();\n",
              "        }}\n",
              "}});\n",
              "\n",
              "// Listen for the removal of the full notebook cells\n",
              "var notebookContainer = gd.closest('#notebook-container');\n",
              "if (notebookContainer) {{\n",
              "    x.observe(notebookContainer, {childList: true});\n",
              "}}\n",
              "\n",
              "// Listen for the clearing of the current output cell\n",
              "var outputEl = gd.closest('.output');\n",
              "if (outputEl) {{\n",
              "    x.observe(outputEl, {childList: true});\n",
              "}}\n",
              "\n",
              "                        })\n",
              "                };\n",
              "                \n",
              "            </script>\n",
              "        </div>\n",
              "</body>\n",
              "</html>"
            ]
          },
          "metadata": {}
        }
      ]
    },
    {
      "cell_type": "markdown",
      "metadata": {
        "id": "qm8s8zsdd61h"
      },
      "source": [
        "From the plot above, we can observe that product 2,3 contain the highest avergage account balance."
      ]
    },
    {
      "cell_type": "markdown",
      "metadata": {
        "id": "x9fvQgzpg6my"
      },
      "source": [
        "***That brings us to the end of my first notebook for my technical assessment submission.***"
      ]
    },
    {
      "cell_type": "code",
      "metadata": {
        "id": "ox61TTrMkqMI"
      },
      "source": [
        ""
      ],
      "execution_count": null,
      "outputs": []
    }
  ]
}